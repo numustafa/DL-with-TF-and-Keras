{
 "cells": [
  {
   "cell_type": "markdown",
   "id": "a29e7431",
   "metadata": {
    "id": "d64b9592"
   },
   "source": [
    "<h1 style=\"font-size:30px;\">Learning Rate Schedulers</h1>\n",
    "\n",
    "When training a model from scratch, we generally start with a higher learning rate, but as the learning progresses, reducing the learning rate can help improve the rate of convergence and sometimes even results in increased accuracy (lower loss). In TensorFlow, we can add Learning Rate Schedulers using the [`tf.keras.optimizers.schedules`](https://www.tensorflow.org/api_docs/python/tf/keras/optimizers/schedules) module. \n",
    "\n",
    "In this notebook, we will learn about three different learning rate schedulers in TensorFlow using the [Rock, Paper, Scissors](https://www.tensorflow.org/datasets/catalog/rock_paper_scissors) data from TensorFlow datasets [tfds](https://www.tensorflow.org/datasets/api_docs/python/tfds). Specifically, we'll take a look at the following learning rate schedulers:\n",
    "\n",
    "* Piecewise Constant Decay\n",
    "* Inverse Time Decay\n",
    "* Exponential Decay\n",
    "\n",
    "\n",
    "<img src='https://opencv.org/wp-content/uploads/2022/08/c4-04-learning-rate-feature-image.png' width=1000 align='center'><br/>\n",
    "\n",
    "\n"
   ]
  },
  {
   "cell_type": "markdown",
   "id": "211608b9",
   "metadata": {
    "id": "6b7f80f2"
   },
   "source": [
    "## Table of Contents\n",
    "* [1 System Configuration](#1-System-Configuration)\n",
    "* [2 Training and Dataset Configurations](#2-Training-and-Dataset-Configurations)\n",
    "* [3 Rock-Paper-Scissors Dataset](#3-Rock-Paper-Scissors-Dataset)\n",
    "* [4 LeNet5 Model](#4-LeNet5-Model)\n",
    "* [5 Training Function](#5-Training-Function)\n",
    "* [6 Training using SGD (Gradient Desent) with Momentum](#6-Training-using-SGD-%28Gradient-Desent%29-with-Momentum)\n",
    "* [7 Training with Learning Rate Schedulers](#7-Training-with-Learning-Rate-Schedulers)\n",
    "    * [7.1 PiecewiseConstantDecay Scheduler](#7.1-PiecewiseConstantDecay-Scheduler)\n",
    "    * [7.2 InverseTimeDecay Scheduler](#7.2-InverseTimeDecay-Scheduler)\n",
    "    * [7.3 ExponentialDecay Scheduler](#7.3-ExponentialDecay-Scheduler)\n",
    "* [8 Plot Loss Curves](#8-Plot-Loss-Curves)\n",
    "* [9 Conclusion](#9-Conclusion)"
   ]
  },
  {
   "cell_type": "code",
   "execution_count": null,
   "id": "cce6fb10",
   "metadata": {
    "collapsed": true,
    "id": "de6c52ac"
   },
   "outputs": [],
   "source": [
    "import tensorflow as tf\n",
    "import numpy as np\n",
    "import os\n",
    "import matplotlib.pyplot as plt\n",
    "import random\n",
    "import tensorflow_datasets as tfds\n",
    "\n",
    "import tensorflow as tf\n",
    "from tensorflow.keras.utils import to_categorical\n",
    "from tensorflow.keras.models import Model\n",
    "from tensorflow.keras.utils import Sequence\n",
    "\n",
    "from tensorflow.keras.layers import (Conv2D, Activation, Input,\n",
    "                                     MaxPool2D, Flatten, Dense)\n",
    "\n",
    "from matplotlib.ticker import (MultipleLocator, FormatStrFormatter)\n",
    "from dataclasses import dataclass\n",
    "\n",
    "block_plot = False"
   ]
  },
  {
   "cell_type": "markdown",
   "id": "a6014de2",
   "metadata": {
    "id": "b4ee0e75"
   },
   "source": [
    "## 1 System Configuration"
   ]
  },
  {
   "cell_type": "code",
   "execution_count": null,
   "id": "a0df1f78",
   "metadata": {
    "colab": {
     "base_uri": "https://localhost:8080/"
    },
    "id": "f0cd5b54",
    "outputId": "63866d14-a8bb-4595-9894-48026a9228b5"
   },
   "outputs": [
    {
     "name": "stdout",
     "output_type": "stream",
     "text": [
      "[]\n",
      "Using CPU\n"
     ]
    }
   ],
   "source": [
    "def system_config():\n",
    "    \n",
    "    # Get list of GPUs.\n",
    "    gpu_devices = tf.config.list_physical_devices('GPU')\n",
    "    print(gpu_devices)\n",
    "    \n",
    "    if len(gpu_devices) > 0:\n",
    "        print('Using GPU')\n",
    "        os.environ[\"CUDA_VISIBLE_DEVICES\"] = '0'\n",
    "        os.environ['TF_CUDNN_DETERMINISTIC'] = '1' \n",
    "        \n",
    "        # If there are any gpu devices, use first gpu.\n",
    "        tf.config.experimental.set_visible_devices(gpu_devices[0], 'GPU')\n",
    "        \n",
    "        # Grow the memory usage as it is needed by the process.\n",
    "        tf.config.experimental.set_memory_growth(gpu_devices[0], True)\n",
    "        \n",
    "        # Enable using cudNN.\n",
    "        os.environ['TF_USE_CUDNN'] = \"true\"\n",
    "    else:\n",
    "        print('Using CPU')\n",
    "\n",
    "system_config()"
   ]
  },
  {
   "cell_type": "markdown",
   "id": "6d1d694f",
   "metadata": {
    "id": "5e979e0a"
   },
   "source": [
    "## 2 Training and Dataset Configurations"
   ]
  },
  {
   "cell_type": "code",
   "execution_count": null,
   "id": "cf93a79d",
   "metadata": {
    "collapsed": true,
    "id": "c27d8525"
   },
   "outputs": [],
   "source": [
    "@dataclass(frozen=True)\n",
    "class TrainingConfig:\n",
    "    BATCH_SIZE:    int   = 32\n",
    "    EPOCHS:        int   = 51\n",
    "    LEARNING_RATE: float = 0.0001\n",
    "    ROOT_LOG_DIR         = \"./scheduler_logs\"\n",
    "    ROOT_CHECKPOINT_DIR  = \"./scheduler_saved_models\"\n",
    "    \n",
    "@dataclass(frozen=True)\n",
    "class DatasetConfig:\n",
    "    IMG_HEIGHT:   int = 32\n",
    "    IMG_WIDTH:    int = 32\n",
    "    CHANNELS:     int = 3\n",
    "    NUM_CLASSES:  int = 3"
   ]
  },
  {
   "cell_type": "markdown",
   "id": "a6fb989c",
   "metadata": {
    "id": "e3948e2e"
   },
   "source": [
    "## 3 Rock-Paper-Scissors Dataset"
   ]
  },
  {
   "cell_type": "code",
   "execution_count": null,
   "id": "4a8506ff",
   "metadata": {
    "collapsed": true,
    "id": "39bcb1fc"
   },
   "outputs": [],
   "source": [
    "# Define a dictionary mapping labels names to label IDs.\n",
    "label_names = {\n",
    "    'Rock'     : 0, \n",
    "    'Paper'    : 1, \n",
    "    'Scissors' : 2, \n",
    "}"
   ]
  },
  {
   "cell_type": "markdown",
   "id": "c43094e6",
   "metadata": {
    "id": "c5b400c2"
   },
   "source": [
    "### 3.1 Load the Dataset\n",
    "\n",
    "Load the dataset using the TensorFlow Dataset module: [tfds](https://www.tensorflow.org/datasets/api_docs/python/tfds)"
   ]
  },
  {
   "cell_type": "code",
   "execution_count": null,
   "id": "6e1d8d4a",
   "metadata": {
    "collapsed": true,
    "id": "f2e3a223"
   },
   "outputs": [],
   "source": [
    "def get_data():\n",
    "    \n",
    "    # Download and split the data.\n",
    "    rps_train = tfds.load(name=\"rock_paper_scissors\", split=tfds.Split.TRAIN, batch_size=-1)\n",
    "    rps_test  = tfds.load(name=\"rock_paper_scissors\", split=tfds.Split.TEST, batch_size=-1)\n",
    "\n",
    "    rps_train = tfds.as_numpy(rps_train)\n",
    "    rps_test  = tfds.as_numpy(rps_test)\n",
    "\n",
    "    X_train, y_train = rps_train[\"image\"], rps_train[\"label\"]\n",
    "    X_test,  y_test  = rps_test[\"image\"],  rps_test[\"label\"]\n",
    "    \n",
    "    return (X_train, y_train), (X_test, y_test)"
   ]
  },
  {
   "cell_type": "markdown",
   "id": "705340f9",
   "metadata": {
    "id": "5485b8de"
   },
   "source": [
    "### 3.2 Data Preprocessing Pipeline"
   ]
  },
  {
   "cell_type": "code",
   "execution_count": null,
   "id": "74403949",
   "metadata": {
    "collapsed": true,
    "id": "a9893539"
   },
   "outputs": [],
   "source": [
    "def preprocess_dataset(train_set, valid_set, resize_to=None, num_classes=3, seed=3):\n",
    "\n",
    "    (X_train, y_train) = train_set\n",
    "    (X_valid, y_valid) = valid_set\n",
    "    \n",
    "    if len(X_train.shape) != 4:\n",
    "        X_train = tf.expand_dims(X_train, axis=3)\n",
    "        X_valid = tf.expand_dims(X_valid, axis=3)\n",
    "        \n",
    "    # Resize images if requested.\n",
    "    if resize_to:\n",
    "        if isinstance(resize_to, int):\n",
    "            resize_to = (resize_to, resize_to)\n",
    "            \n",
    "        X_train = tf.image.resize(X_train, resize_to)\n",
    "        X_valid = tf.image.resize(X_valid, resize_to)\n",
    "        \n",
    "    n_train = X_train.shape[0]\n",
    "    n_valid = X_valid.shape[0]\n",
    "\n",
    "    image_shape = X_train[0].shape\n",
    "\n",
    "    print(\"There are {} training examples \".format(n_train))\n",
    "    print(\"There are {} validation examples\".format(n_valid))\n",
    "    print(\"Image data shape is {}\".format(image_shape))\n",
    "\n",
    "    # Confirm the number of classes present in the dataset matches the specified number of classes.\n",
    "    assert num_classes == len(np.unique(y_train)\n",
    "    ), \"Number of classes present in the dataset does not match specified nuber of classes.\"\n",
    "    \n",
    "    print('There are {} classes'.format(num_classes))\n",
    "\n",
    "    # One-hot encode labels if necessary.\n",
    "    if len(y_train.shape) != 2:\n",
    "        y_train = to_categorical(y_train, num_classes)\n",
    "        y_valid = to_categorical(y_valid, num_classes)\n",
    "        \n",
    "    print(f\"\\n\\nX_train: {X_train.shape}, y_train: {y_train.shape}\")\n",
    "    print(f\"X_valid: {X_valid.shape}, y_validation: {y_valid.shape}\")\n",
    "\n",
    "    X_train = tf.cast(X_train, dtype=tf.float32)\n",
    "    X_valid = tf.cast(X_valid, dtype=tf.float32)\n",
    "\n",
    "    # Normalize the pixel values to the range [0., 1.0].\n",
    "    X_train = X_train / 255.0\n",
    "    X_valid = X_valid / 255.0\n",
    "\n",
    "    return (X_train, y_train), (X_valid, y_valid)"
   ]
  },
  {
   "cell_type": "markdown",
   "id": "a4d1797a",
   "metadata": {
    "id": "f32447a2"
   },
   "source": [
    "### 3.3 Data Visualization"
   ]
  },
  {
   "cell_type": "code",
   "execution_count": null,
   "id": "92f25290",
   "metadata": {
    "collapsed": true,
    "id": "bf3c6e10"
   },
   "outputs": [],
   "source": [
    "def visualize_samples(X, y):\n",
    "    plt.figure(figsize=(18, 8))\n",
    "    \n",
    "    for i in range(8):\n",
    "        plt.subplot(2, 4, i+1)\n",
    "        plt.xticks([])\n",
    "        plt.yticks([])\n",
    "        plt.grid(False)\n",
    "        plt.imshow(X[i], cmap=plt.cm.binary)\n",
    "        plt.xlabel(list(label_names.keys())[y[i]])\n",
    "        \n",
    "    plt.suptitle(\"Dataset Samples\")\n",
    "    plt.show(block=block_plot)"
   ]
  },
  {
   "cell_type": "code",
   "execution_count": null,
   "id": "736e5ba3",
   "metadata": {
    "id": "0aec554d",
    "outputId": "4666f0ac-05ca-4bd1-c2e2-3c59436e9dab",
    "scrolled": false
   },
   "outputs": [
    {
     "name": "stdout",
     "output_type": "stream",
     "text": [
      "WARNING:tensorflow:From /Users/billk/opt/dl-tf-keras-env/lib/python3.9/site-packages/tensorflow_datasets/core/dataset_builder.py:622: get_single_element (from tensorflow.python.data.experimental.ops.get_single_element) is deprecated and will be removed in a future version.\n",
      "Instructions for updating:\n",
      "Use `tf.data.Dataset.get_single_element()`.\n"
     ]
    },
    {
     "name": "stderr",
     "output_type": "stream",
     "text": [
      "2022-07-31 15:58:26.820065: I tensorflow/core/platform/cpu_feature_guard.cc:151] This TensorFlow binary is optimized with oneAPI Deep Neural Network Library (oneDNN) to use the following CPU instructions in performance-critical operations:  AVX2 FMA\n",
      "To enable them in other operations, rebuild TensorFlow with the appropriate compiler flags.\n",
      "WARNING:tensorflow:From /Users/billk/opt/dl-tf-keras-env/lib/python3.9/site-packages/tensorflow_datasets/core/dataset_builder.py:622: get_single_element (from tensorflow.python.data.experimental.ops.get_single_element) is deprecated and will be removed in a future version.\n",
      "Instructions for updating:\n",
      "Use `tf.data.Dataset.get_single_element()`.\n"
     ]
    },
    {
     "data": {
      "image/png": "[encoded data removed]",
      "text/plain": [
       "<Figure size 1296x576 with 8 Axes>"
      ]
     },
     "metadata": {},
     "output_type": "display_data"
    }
   ],
   "source": [
    "# Load the dataset.\n",
    "(X_train_in, y_train_in), (X_valid_in, y_valid_in) = get_data()\n",
    "\n",
    "visualize_samples(X_valid_in, y_valid_in)"
   ]
  },
  {
   "cell_type": "markdown",
   "id": "92b8ee37",
   "metadata": {
    "id": "07fb93d2"
   },
   "source": [
    "### 3.4 Preprocess the Dataset"
   ]
  },
  {
   "cell_type": "code",
   "execution_count": null,
   "id": "2fbd4d41",
   "metadata": {
    "id": "5878f147",
    "outputId": "dc0c9645-c748-429e-cb10-19b4dd90f90d"
   },
   "outputs": [
    {
     "name": "stdout",
     "output_type": "stream",
     "text": [
      "There are 2520 training examples \n",
      "There are 372 validation examples\n",
      "Image data shape is (32, 32, 3)\n",
      "There are 3 classes\n",
      "\n",
      "\n",
      "X_train: (2520, 32, 32, 3), y_train: (2520, 3)\n",
      "X_valid: (372, 32, 32, 3), y_validation: (372, 3)\n"
     ]
    }
   ],
   "source": [
    "# Preprocess the dataset.\n",
    "((X_train, y_train),\n",
    "(X_valid, y_valid)) = preprocess_dataset((X_train_in, y_train_in),\n",
    "                                        (X_valid_in, y_valid_in),\n",
    "                                        resize_to=(DatasetConfig.IMG_HEIGHT, DatasetConfig.IMG_WIDTH),\n",
    "                                        num_classes=DatasetConfig.NUM_CLASSES,\n",
    "                                        )"
   ]
  },
  {
   "cell_type": "markdown",
   "id": "8ded6028",
   "metadata": {
    "id": "55979159"
   },
   "source": [
    "## 4 LeNet5 Model"
   ]
  },
  {
   "cell_type": "code",
   "execution_count": null,
   "id": "7ec4b41b",
   "metadata": {
    "collapsed": true,
    "id": "df720bbe"
   },
   "outputs": [],
   "source": [
    "def LeNet5_model(num_classes, shape, print_model_summary=True):\n",
    "\n",
    "    inputs = Input(shape=shape)\n",
    "    \n",
    "    # -------------------------------------\n",
    "    # First convolutional Layer + pooling\n",
    "    # -------------------------------------\n",
    "    x = Conv2D(6, 5, padding='valid')(inputs)              # input size = (32, 32), output size = (28, 28)\n",
    "    x = Activation(\"relu\")(x)                              # output size = (28, 28)\n",
    "    x = MaxPool2D()(x)                                     # output size = (14, 14)\n",
    "\n",
    "    # -------------------------------------\n",
    "    # Second convolutional layer + pooling \n",
    "    # -------------------------------------\n",
    "    x = Conv2D(16, 5, padding='valid')(x)                  # input size = (14, 14), output size = (10, 10)\n",
    "    x = Activation('relu')(x)                              # output size = (10, 10)\n",
    "    feature_extractor_output = MaxPool2D()(x)              # output size = (5, 5)\n",
    "\n",
    "    # Flatten.\n",
    "    flattened = Flatten()(feature_extractor_output)        # 5 * 5 * 16 -> 400\n",
    "\n",
    "    # ------------------------- \n",
    "    # Fully connected layers.\n",
    "    # -------------------------\n",
    "    x = Dense(120, activation='relu')(flattened)           # 400 -> 120\n",
    "    x = Dense(84, activation='relu')(x)                    # 120 -> 84\n",
    "    \n",
    "    # Softmax output layer.\n",
    "    headout = Dense(num_classes, activation=\"softmax\")(x)  # 84 -> 10\n",
    "    \n",
    "    # Create model.\n",
    "    model = Model(inputs=inputs, outputs=headout, name='LeNet5')\n",
    "    \n",
    "    if print_model_summary:\n",
    "        model.summary()\n",
    "        \n",
    "    return model"
   ]
  },
  {
   "cell_type": "markdown",
   "id": "6768b9a4",
   "metadata": {
    "id": "bad22156"
   },
   "source": [
    "## 5 Training Function"
   ]
  },
  {
   "cell_type": "code",
   "execution_count": null,
   "id": "0234ceb7",
   "metadata": {
    "collapsed": true,
    "id": "661fe52f"
   },
   "outputs": [],
   "source": [
    "def train_model(train_set,\n",
    "                valid_set,\n",
    "                scheduler,\n",
    "                version_number,\n",
    "                epochs=TrainingConfig.EPOCHS,\n",
    "                print_model_summary=False,\n",
    "               ):\n",
    "    \n",
    "    os.makedirs(TrainingConfig.ROOT_LOG_DIR, exist_ok=True)\n",
    "    os.makedirs(TrainingConfig.ROOT_CHECKPOINT_DIR, exist_ok=True)\n",
    "\n",
    "    folders = os.listdir(TrainingConfig.ROOT_LOG_DIR)\n",
    "\n",
    "    if len(folders):\n",
    "        last_version_number = int(sorted(folders)[-1].replace(\"version_\", \"\"))\n",
    "        version_number = last_version_number + 1\n",
    "\n",
    "    log_dir = os.path.join(TrainingConfig.ROOT_LOG_DIR, f\"version_{version_number}\")\n",
    "    checkpoint_dir = os.path.join(TrainingConfig.ROOT_CHECKPOINT_DIR, f\"version_{version_number}\")\n",
    "\n",
    "    os.makedirs(log_dir, exist_ok=True)\n",
    "    os.makedirs(checkpoint_dir, exist_ok=True)\n",
    "\n",
    "    print(f\"Logging at: {log_dir}\")\n",
    "\n",
    "    (X_train, y_train) = train_set\n",
    "    (X_valid, y_valdi) = valid_set\n",
    "    \n",
    "    # Initialize the LeNet Model.\n",
    "    model = LeNet5_model(num_classes=DatasetConfig.NUM_CLASSES,\n",
    "                         shape=(DatasetConfig.IMG_HEIGHT, DatasetConfig.IMG_WIDTH, DatasetConfig.CHANNELS),\n",
    "                         print_model_summary=print_model_summary,\n",
    "                        )\n",
    "    \n",
    "    # Compile the model for the requested scheduler.\n",
    "    if scheduler==\"Fixed\":\n",
    "        \n",
    "        # Fixed learning rate.\n",
    "        model.compile(tf.keras.optimizers.SGD(learning_rate=TrainingConfig.LEARNING_RATE, momentum=0.9),\n",
    "                      loss=tf.keras.losses.CategoricalCrossentropy(from_logits=False),\n",
    "                      metrics=[\"accuracy\"],\n",
    "                     )\n",
    "        \n",
    "    elif scheduler==\"PiecewiseConstantDecay\":\n",
    "        \n",
    "        # Define the PiecewiseConstantDecay LR Scheduler.\n",
    "        boundaries = [100, 500]\n",
    "        values = [0.001, 0.0001, 0.00001]\n",
    "        learning_rate_fn = tf.keras.optimizers.schedules.PiecewiseConstantDecay(boundaries, values)\n",
    "        step = tf.Variable(0, trainable=False)\n",
    "        \n",
    "        model.compile(tf.keras.optimizers.SGD(learning_rate=learning_rate_fn(step), momentum=0.9),\n",
    "                      loss=tf.keras.losses.CategoricalCrossentropy(from_logits=False),\n",
    "                      metrics=[\"accuracy\"],\n",
    "                     )\n",
    "        \n",
    "    elif scheduler==\"InverseTimeDecay\":\n",
    "        \n",
    "        # Define the InverseTimeDecay LR Scheduler.\n",
    "        initial_learning_rate = 0.1\n",
    "        learning_rate_fn = tf.keras.optimizers.schedules.InverseTimeDecay(initial_learning_rate, \n",
    "                                                                          decay_steps=1, \n",
    "                                                                          decay_rate=0.5,\n",
    "                                                                         )\n",
    "\n",
    "        model.compile(tf.keras.optimizers.SGD(learning_rate=learning_rate_fn, momentum=0.9),\n",
    "                      loss=tf.keras.losses.CategoricalCrossentropy(from_logits=False),\n",
    "                      metrics=[\"accuracy\"],\n",
    "                     ) \n",
    "        \n",
    "    elif scheduler==\"ExponentialDecay\":\n",
    "\n",
    "        # Define the ExponentialDecay LR Scheduler.\n",
    "        initial_learning_rate = 0.001                                                            \n",
    "        learning_rate_fn = tf.keras.optimizers.schedules.ExponentialDecay(initial_learning_rate,\n",
    "                                                                          decay_steps=100, \n",
    "                                                                          decay_rate=0.96,\n",
    "                                                                          staircase=True,\n",
    "                                                                         )\n",
    "\n",
    "        model.compile(tf.keras.optimizers.SGD(learning_rate=learning_rate_fn, momentum=0.9),\n",
    "                      loss=tf.keras.losses.CategoricalCrossentropy(from_logits=False),\n",
    "                      metrics=[\"accuracy\"],\n",
    "                     )\n",
    "    else:\n",
    "        \n",
    "        print(\"Invalid scheduler: \", scheduler)\n",
    "        exit()\n",
    "\n",
    "    # Initialize tensorboard callback for logging.\n",
    "    tensorboard_callback = tf.keras.callbacks.TensorBoard(log_dir=TrainingConfig.ROOT_LOG_DIR,\n",
    "                                                          histogram_freq=0,\n",
    "                                                          write_graph=True,\n",
    "                                                          write_images=False,\n",
    "                                                          write_steps_per_second=False,\n",
    "                                                          update_freq=\"epoch\",\n",
    "                                                          profile_batch=2,\n",
    "                                                          embeddings_freq=0,\n",
    "                                                          embeddings_metadata=None,\n",
    "                                                         )\n",
    "\n",
    "    # Save best model depending on the validation accuracy.\n",
    "    model_checkpoint_callback = tf.keras.callbacks.ModelCheckpoint(filepath=TrainingConfig.ROOT_CHECKPOINT_DIR,\n",
    "                                                                   save_weights_only=False,\n",
    "                                                                   monitor=\"val_accuracy\",\n",
    "                                                                   mode=\"max\",\n",
    "                                                                   save_best_only=True,\n",
    "                                                                  )\n",
    "\n",
    "    print(f\"\\nTraining for {epochs} epochs\\n\")\n",
    "    \n",
    "    results = model.fit(X_train,\n",
    "                        y_train,\n",
    "                        epochs=epochs,\n",
    "                        batch_size=TrainingConfig.BATCH_SIZE,\n",
    "                        validation_data=(X_valid, y_valid),\n",
    "                        callbacks=[tensorboard_callback, model_checkpoint_callback],\n",
    "                       )\n",
    "\n",
    "    return results, version_number"
   ]
  },
  {
   "cell_type": "markdown",
   "id": "dd0d4a0a",
   "metadata": {
    "id": "a288124a"
   },
   "source": [
    "## 6 Training using SGD (Gradient Desent) with Momentum\n",
    "Gradient descent update rule:\n",
    "\n",
    "$$\n",
    "W_t = W_{t-1} -\\alpha g_{t-1}\n",
    "$$\n",
    "\n",
    "where,\n",
    "\n",
    "$$\n",
    "W = \\begin{bmatrix}\n",
    "           w_{1} \\\\\n",
    "           w_{2} \\\\\n",
    "           \\vdots \\\\\n",
    "           w_{n}\n",
    "         \\end{bmatrix}\n",
    "$$\n",
    "\n",
    "and,\n",
    "\n",
    "\n",
    "$$\n",
    "g = \\begin{bmatrix}\n",
    "           \\frac{\\partial L}{\\partial w_1} \\\\\n",
    "           \\frac{\\partial L}{\\partial w_2}  \\\\\n",
    "           \\vdots \\\\\n",
    "           \\frac{\\partial L}{\\partial w_n} \n",
    "         \\end{bmatrix}\n",
    "$$\n",
    "\n",
    "***Function Syntax:***\n",
    "\n",
    "```\n",
    "tf.keras.optimizers.SGD(learning_rate=0.01, \n",
    "                        momentum=0.0, \n",
    "                        nesterov=False, \n",
    "                        name='SGD', \n",
    "                        **kwargs,\n",
    "                        )\n",
    "```\n",
    "\n",
    "- `learning_rate` – A Tensor, floating point value, or a schedule that is a `tf.keras.optimizers.schedules.LearningRateSchedule`, or a callable that takes no arguments and returns the actual value to use. The learning rate. Defaults to 0.01.\n",
    "\n",
    "- `momentum` – float hyperparameter >= 0 that accelerates gradient descent in the relevant direction and dampens oscillations. Defaults to 0, i.e., vanilla gradient descent.\n",
    "\n",
    "- `nesterov` – boolean. Whether to apply Nesterov momentum. Defaults to `False`.\n",
    "\n",
    "- `name` – Optional name prefix for the operations created when applying gradients. Defaults to \"SGD\".\n",
    "\n",
    "- `**kwargs` – Keyword arguments. Allowed to be one of \"clipnorm\" or \"clipvalue\". \"clipnorm\" (float) clips gradients by norm; \"clipvalue\" (float) clips gradients by value.\n",
    "\n",
    "[SGD Documentation](https://www.tensorflow.org/api_docs/python/tf/keras/optimizers/SGD)\n",
    "\n",
    "In the following training, we will use $\\beta = 0.9$. Here $\\beta$ is momentum.\n"
   ]
  },
  {
   "cell_type": "code",
   "execution_count": null,
   "id": "72f031fe",
   "metadata": {
    "id": "24e6ff5d",
    "outputId": "14b2a739-9e54-4e6c-85b4-bb3abc015254",
    "scrolled": true
   },
   "outputs": [
    {
     "name": "stdout",
     "output_type": "stream",
     "text": [
      "Logging at: ./scheduler_logs/version_0\n",
      "Model: \"LeNet5\"\n",
      "_________________________________________________________________\n",
      " Layer (type)                Output Shape              Param #   \n",
      "=================================================================\n",
      " input_1 (InputLayer)        [(None, 32, 32, 3)]       0         \n",
      "                                                                 \n",
      " conv2d (Conv2D)             (None, 28, 28, 6)         456       \n",
      "                                                                 \n",
      " activation (Activation)     (None, 28, 28, 6)         0         \n",
      "                                                                 \n",
      " max_pooling2d (MaxPooling2D  (None, 14, 14, 6)        0         \n",
      " )                                                               \n",
      "                                                                 \n",
      " conv2d_1 (Conv2D)           (None, 10, 10, 16)        2416      \n",
      "                                                                 \n",
      " activation_1 (Activation)   (None, 10, 10, 16)        0         \n",
      "                                                                 \n",
      " max_pooling2d_1 (MaxPooling  (None, 5, 5, 16)         0         \n",
      " 2D)                                                             \n",
      "                                                                 \n",
      " flatten (Flatten)           (None, 400)               0         \n",
      "                                                                 \n",
      " dense (Dense)               (None, 120)               48120     \n",
      "                                                                 \n",
      " dense_1 (Dense)             (None, 84)                10164     \n",
      "                                                                 \n",
      " dense_2 (Dense)             (None, 3)                 255       \n",
      "                                                                 \n",
      "=================================================================\n",
      "Total params: 61,411\n",
      "Trainable params: 61,411\n",
      "Non-trainable params: 0\n",
      "_________________________________________________________________\n",
      "\n",
      "Training for 51 epochs\n",
      "\n",
      "Epoch 1/51\n"
     ]
    },
    {
     "name": "stderr",
     "output_type": "stream",
     "text": [
      "2022-07-31 15:58:29.103903: I tensorflow/core/profiler/lib/profiler_session.cc:110] Profiler session initializing.\n",
      "2022-07-31 15:58:29.103917: I tensorflow/core/profiler/lib/profiler_session.cc:125] Profiler session started.\n",
      "2022-07-31 15:58:29.104154: I tensorflow/core/profiler/lib/profiler_session.cc:143] Profiler session tear down.\n"
     ]
    },
    {
     "name": "stdout",
     "output_type": "stream",
     "text": [
      "14/79 [====>.........................] - ETA: 0s - loss: 1.1997 - accuracy: 0.3371"
     ]
    },
    {
     "name": "stderr",
     "output_type": "stream",
     "text": [
      "2022-07-31 15:58:29.533471: I tensorflow/core/profiler/lib/profiler_session.cc:110] Profiler session initializing.\n",
      "2022-07-31 15:58:29.533492: I tensorflow/core/profiler/lib/profiler_session.cc:125] Profiler session started.\n",
      "2022-07-31 15:58:29.548572: I tensorflow/core/profiler/lib/profiler_session.cc:67] Profiler session collecting data.\n",
      "2022-07-31 15:58:29.549588: I tensorflow/core/profiler/lib/profiler_session.cc:143] Profiler session tear down.\n",
      "2022-07-31 15:58:29.551944: I tensorflow/core/profiler/rpc/client/save_profile.cc:136] Creating directory: ./scheduler_logs/plugins/profile/2022_07_31_15_58_29\n",
      "\n",
      "2022-07-31 15:58:29.552564: I tensorflow/core/profiler/rpc/client/save_profile.cc:142] Dumped gzipped tool data for trace.json.gz to ./scheduler_logs/plugins/profile/2022_07_31_15_58_29/Rocket.local.trace.json.gz\n",
      "2022-07-31 15:58:29.554935: I tensorflow/core/profiler/rpc/client/save_profile.cc:136] Creating directory: ./scheduler_logs/plugins/profile/2022_07_31_15_58_29\n",
      "\n",
      "2022-07-31 15:58:29.557320: I tensorflow/core/profiler/rpc/client/save_profile.cc:142] Dumped gzipped tool data for memory_profile.json.gz to ./scheduler_logs/plugins/profile/2022_07_31_15_58_29/Rocket.local.memory_profile.json.gz\n",
      "2022-07-31 15:58:29.558988: I tensorflow/core/profiler/rpc/client/capture_profile.cc:251] Creating directory: ./scheduler_logs/plugins/profile/2022_07_31_15_58_29\n",
      "Dumped tool data for xplane.pb to ./scheduler_logs/plugins/profile/2022_07_31_15_58_29/Rocket.local.xplane.pb\n",
      "Dumped tool data for overview_page.pb to ./scheduler_logs/plugins/profile/2022_07_31_15_58_29/Rocket.local.overview_page.pb\n",
      "Dumped tool data for input_pipeline.pb to ./scheduler_logs/plugins/profile/2022_07_31_15_58_29/Rocket.local.input_pipeline.pb\n",
      "Dumped tool data for tensorflow_stats.pb to ./scheduler_logs/plugins/profile/2022_07_31_15_58_29/Rocket.local.tensorflow_stats.pb\n",
      "Dumped tool data for kernel_stats.pb to ./scheduler_logs/plugins/profile/2022_07_31_15_58_29/Rocket.local.kernel_stats.pb\n",
      "\n"
     ]
    },
    {
     "name": "stdout",
     "output_type": "stream",
     "text": [
      "75/79 [===========================>..] - ETA: 0s - loss: 1.1399 - accuracy: 0.3296"
     ]
    },
    {
     "name": "stderr",
     "output_type": "stream",
     "text": [
      "2022-07-31 15:58:30.971431: W tensorflow/python/util/util.cc:368] Sets are not currently considered sequences, but this may change in the future, so consider avoiding using them.\n"
     ]
    },
    {
     "name": "stdout",
     "output_type": "stream",
     "text": [
      "INFO:tensorflow:Assets written to: ./scheduler_saved_models/assets\n"
     ]
    },
    {
     "name": "stderr",
     "output_type": "stream",
     "text": [
      "INFO:tensorflow:Assets written to: ./scheduler_saved_models/assets\n"
     ]
    },
    {
     "name": "stdout",
     "output_type": "stream",
     "text": [
      "79/79 [==============================] - 2s 26ms/step - loss: 1.1387 - accuracy: 0.3250 - val_loss: 1.1006 - val_accuracy: 0.3333\n",
      "Epoch 2/51\n",
      "75/79 [===========================>..] - ETA: 0s - loss: 1.1000 - accuracy: 0.3021INFO:tensorflow:Assets written to: ./scheduler_saved_models/assets\n"
     ]
    },
    {
     "name": "stderr",
     "output_type": "stream",
     "text": [
      "INFO:tensorflow:Assets written to: ./scheduler_saved_models/assets\n"
     ]
    },
    {
     "name": "stdout",
     "output_type": "stream",
     "text": [
      "79/79 [==============================] - 2s 22ms/step - loss: 1.1000 - accuracy: 0.3040 - val_loss: 1.0961 - val_accuracy: 0.3468\n",
      "Epoch 3/51\n",
      "77/79 [============================>.] - ETA: 0s - loss: 1.0926 - accuracy: 0.3758INFO:tensorflow:Assets written to: ./scheduler_saved_models/assets\n"
     ]
    },
    {
     "name": "stderr",
     "output_type": "stream",
     "text": [
      "INFO:tensorflow:Assets written to: ./scheduler_saved_models/assets\n"
     ]
    },
    {
     "name": "stdout",
     "output_type": "stream",
     "text": [
      "79/79 [==============================] - 2s 22ms/step - loss: 1.0927 - accuracy: 0.3750 - val_loss: 1.0937 - val_accuracy: 0.3737\n",
      "Epoch 4/51\n",
      "78/79 [============================>.] - ETA: 0s - loss: 1.0866 - accuracy: 0.4319INFO:tensorflow:Assets written to: ./scheduler_saved_models/assets\n"
     ]
    },
    {
     "name": "stderr",
     "output_type": "stream",
     "text": [
      "INFO:tensorflow:Assets written to: ./scheduler_saved_models/assets\n"
     ]
    },
    {
     "name": "stdout",
     "output_type": "stream",
     "text": [
      "79/79 [==============================] - 2s 22ms/step - loss: 1.0866 - accuracy: 0.4321 - val_loss: 1.0907 - val_accuracy: 0.3952\n",
      "Epoch 5/51\n",
      "79/79 [==============================] - 1s 14ms/step - loss: 1.0814 - accuracy: 0.4889 - val_loss: 1.0883 - val_accuracy: 0.3656\n",
      "Epoch 6/51\n",
      "79/79 [==============================] - 1s 13ms/step - loss: 1.0750 - accuracy: 0.5250 - val_loss: 1.0860 - val_accuracy: 0.3871\n",
      "Epoch 7/51\n",
      "79/79 [==============================] - 1s 13ms/step - loss: 1.0681 - accuracy: 0.5440 - val_loss: 1.0846 - val_accuracy: 0.3817\n",
      "Epoch 8/51\n",
      "79/79 [==============================] - 1s 13ms/step - loss: 1.0603 - accuracy: 0.5714 - val_loss: 1.0830 - val_accuracy: 0.3763\n",
      "Epoch 9/51\n",
      "79/79 [==============================] - ETA: 0s - loss: 1.0527 - accuracy: 0.5694INFO:tensorflow:Assets written to: ./scheduler_saved_models/assets\n"
     ]
    },
    {
     "name": "stderr",
     "output_type": "stream",
     "text": [
      "INFO:tensorflow:Assets written to: ./scheduler_saved_models/assets\n"
     ]
    },
    {
     "name": "stdout",
     "output_type": "stream",
     "text": [
      "79/79 [==============================] - 2s 25ms/step - loss: 1.0527 - accuracy: 0.5694 - val_loss: 1.0809 - val_accuracy: 0.4005\n",
      "Epoch 10/51\n",
      "79/79 [==============================] - ETA: 0s - loss: 1.0444 - accuracy: 0.5770INFO:tensorflow:Assets written to: ./scheduler_saved_models/assets\n"
     ]
    },
    {
     "name": "stderr",
     "output_type": "stream",
     "text": [
      "INFO:tensorflow:Assets written to: ./scheduler_saved_models/assets\n"
     ]
    },
    {
     "name": "stdout",
     "output_type": "stream",
     "text": [
      "79/79 [==============================] - 2s 22ms/step - loss: 1.0444 - accuracy: 0.5770 - val_loss: 1.0773 - val_accuracy: 0.4516\n",
      "Epoch 11/51\n",
      "79/79 [==============================] - 1s 12ms/step - loss: 1.0346 - accuracy: 0.5869 - val_loss: 1.0750 - val_accuracy: 0.4167\n",
      "Epoch 12/51\n",
      "75/79 [===========================>..] - ETA: 0s - loss: 1.0233 - accuracy: 0.5813INFO:tensorflow:Assets written to: ./scheduler_saved_models/assets\n"
     ]
    },
    {
     "name": "stderr",
     "output_type": "stream",
     "text": [
      "INFO:tensorflow:Assets written to: ./scheduler_saved_models/assets\n"
     ]
    },
    {
     "name": "stdout",
     "output_type": "stream",
     "text": [
      "79/79 [==============================] - 2s 22ms/step - loss: 1.0234 - accuracy: 0.5810 - val_loss: 1.0709 - val_accuracy: 0.5188\n",
      "Epoch 13/51\n",
      "77/79 [============================>.] - ETA: 0s - loss: 1.0111 - accuracy: 0.5917INFO:tensorflow:Assets written to: ./scheduler_saved_models/assets\n"
     ]
    },
    {
     "name": "stderr",
     "output_type": "stream",
     "text": [
      "INFO:tensorflow:Assets written to: ./scheduler_saved_models/assets\n"
     ]
    },
    {
     "name": "stdout",
     "output_type": "stream",
     "text": [
      "79/79 [==============================] - 2s 22ms/step - loss: 1.0105 - accuracy: 0.5937 - val_loss: 1.0682 - val_accuracy: 0.5296\n",
      "Epoch 14/51\n",
      "79/79 [==============================] - 1s 13ms/step - loss: 0.9961 - accuracy: 0.6179 - val_loss: 1.0674 - val_accuracy: 0.4194\n",
      "Epoch 15/51\n",
      "79/79 [==============================] - 1s 13ms/step - loss: 0.9793 - accuracy: 0.6222 - val_loss: 1.0621 - val_accuracy: 0.5242\n",
      "Epoch 16/51\n",
      "79/79 [==============================] - 1s 13ms/step - loss: 0.9614 - accuracy: 0.6218 - val_loss: 1.0607 - val_accuracy: 0.4866\n",
      "Epoch 17/51\n",
      "79/79 [==============================] - 1s 13ms/step - loss: 0.9425 - accuracy: 0.6198 - val_loss: 1.0602 - val_accuracy: 0.4731\n",
      "Epoch 18/51\n",
      "79/79 [==============================] - 1s 13ms/step - loss: 0.9236 - accuracy: 0.6266 - val_loss: 1.0681 - val_accuracy: 0.4489\n",
      "Epoch 19/51\n",
      "79/79 [==============================] - 1s 13ms/step - loss: 0.9023 - accuracy: 0.6377 - val_loss: 1.0613 - val_accuracy: 0.4543\n",
      "Epoch 20/51\n",
      "79/79 [==============================] - 1s 13ms/step - loss: 0.8818 - accuracy: 0.6413 - val_loss: 1.0651 - val_accuracy: 0.4489\n",
      "Epoch 21/51\n",
      "79/79 [==============================] - 1s 13ms/step - loss: 0.8604 - accuracy: 0.6579 - val_loss: 1.0553 - val_accuracy: 0.4839\n",
      "Epoch 22/51\n",
      "79/79 [==============================] - 1s 13ms/step - loss: 0.8397 - accuracy: 0.6587 - val_loss: 1.0453 - val_accuracy: 0.4812\n",
      "Epoch 23/51\n",
      "79/79 [==============================] - 1s 13ms/step - loss: 0.8178 - accuracy: 0.6865 - val_loss: 1.0411 - val_accuracy: 0.4731\n",
      "Epoch 24/51\n",
      "79/79 [==============================] - 1s 13ms/step - loss: 0.7957 - accuracy: 0.6821 - val_loss: 1.0269 - val_accuracy: 0.4946\n",
      "Epoch 25/51\n",
      "79/79 [==============================] - 1s 13ms/step - loss: 0.7740 - accuracy: 0.6968 - val_loss: 1.0097 - val_accuracy: 0.5000\n",
      "Epoch 26/51\n",
      "75/79 [===========================>..] - ETA: 0s - loss: 0.7466 - accuracy: 0.7371INFO:tensorflow:Assets written to: ./scheduler_saved_models/assets\n"
     ]
    },
    {
     "name": "stderr",
     "output_type": "stream",
     "text": [
      "INFO:tensorflow:Assets written to: ./scheduler_saved_models/assets\n"
     ]
    },
    {
     "name": "stdout",
     "output_type": "stream",
     "text": [
      "79/79 [==============================] - 2s 22ms/step - loss: 0.7474 - accuracy: 0.7313 - val_loss: 1.0014 - val_accuracy: 0.5511\n",
      "Epoch 27/51\n",
      "75/79 [===========================>..] - ETA: 0s - loss: 0.7223 - accuracy: 0.7433INFO:tensorflow:Assets written to: ./scheduler_saved_models/assets\n"
     ]
    },
    {
     "name": "stderr",
     "output_type": "stream",
     "text": [
      "INFO:tensorflow:Assets written to: ./scheduler_saved_models/assets\n"
     ]
    },
    {
     "name": "stdout",
     "output_type": "stream",
     "text": [
      "79/79 [==============================] - 2s 24ms/step - loss: 0.7197 - accuracy: 0.7452 - val_loss: 0.9769 - val_accuracy: 0.5914\n",
      "Epoch 28/51\n",
      "79/79 [==============================] - 1s 13ms/step - loss: 0.6927 - accuracy: 0.7675 - val_loss: 1.0042 - val_accuracy: 0.4570\n",
      "Epoch 29/51\n",
      "79/79 [==============================] - 1s 13ms/step - loss: 0.6653 - accuracy: 0.7825 - val_loss: 0.9796 - val_accuracy: 0.5806\n",
      "Epoch 30/51\n",
      "79/79 [==============================] - 1s 13ms/step - loss: 0.6356 - accuracy: 0.8075 - val_loss: 0.9361 - val_accuracy: 0.5484\n",
      "Epoch 31/51\n",
      "79/79 [==============================] - 1s 13ms/step - loss: 0.6064 - accuracy: 0.8028 - val_loss: 0.9611 - val_accuracy: 0.5376\n",
      "Epoch 32/51\n",
      "79/79 [==============================] - 1s 13ms/step - loss: 0.5726 - accuracy: 0.8317 - val_loss: 0.9600 - val_accuracy: 0.5672\n",
      "Epoch 33/51\n",
      "78/79 [============================>.] - ETA: 0s - loss: 0.5466 - accuracy: 0.8462INFO:tensorflow:Assets written to: ./scheduler_saved_models/assets\n"
     ]
    },
    {
     "name": "stderr",
     "output_type": "stream",
     "text": [
      "INFO:tensorflow:Assets written to: ./scheduler_saved_models/assets\n"
     ]
    },
    {
     "name": "stdout",
     "output_type": "stream",
     "text": [
      "79/79 [==============================] - 2s 22ms/step - loss: 0.5467 - accuracy: 0.8460 - val_loss: 0.8948 - val_accuracy: 0.6317\n",
      "Epoch 34/51\n",
      "79/79 [==============================] - ETA: 0s - loss: 0.5193 - accuracy: 0.8560INFO:tensorflow:Assets written to: ./scheduler_saved_models/assets\n"
     ]
    },
    {
     "name": "stderr",
     "output_type": "stream",
     "text": [
      "INFO:tensorflow:Assets written to: ./scheduler_saved_models/assets\n"
     ]
    },
    {
     "name": "stdout",
     "output_type": "stream",
     "text": [
      "79/79 [==============================] - 2s 23ms/step - loss: 0.5193 - accuracy: 0.8560 - val_loss: 0.8735 - val_accuracy: 0.6613\n",
      "Epoch 35/51\n",
      "79/79 [==============================] - 1s 13ms/step - loss: 0.4881 - accuracy: 0.8659 - val_loss: 0.9128 - val_accuracy: 0.5968\n",
      "Epoch 36/51\n",
      "79/79 [==============================] - ETA: 0s - loss: 0.4615 - accuracy: 0.8714INFO:tensorflow:Assets written to: ./scheduler_saved_models/assets\n"
     ]
    },
    {
     "name": "stderr",
     "output_type": "stream",
     "text": [
      "INFO:tensorflow:Assets written to: ./scheduler_saved_models/assets\n"
     ]
    },
    {
     "name": "stdout",
     "output_type": "stream",
     "text": [
      "79/79 [==============================] - 2s 22ms/step - loss: 0.4615 - accuracy: 0.8714 - val_loss: 0.8422 - val_accuracy: 0.6962\n",
      "Epoch 37/51\n",
      "79/79 [==============================] - 1s 14ms/step - loss: 0.4314 - accuracy: 0.8905 - val_loss: 0.8646 - val_accuracy: 0.6909\n",
      "Epoch 38/51\n",
      "79/79 [==============================] - 1s 13ms/step - loss: 0.4075 - accuracy: 0.8885 - val_loss: 0.8533 - val_accuracy: 0.6371\n",
      "Epoch 39/51\n",
      "79/79 [==============================] - 1s 14ms/step - loss: 0.3875 - accuracy: 0.9067 - val_loss: 0.9104 - val_accuracy: 0.6452\n",
      "Epoch 40/51\n",
      "79/79 [==============================] - 1s 13ms/step - loss: 0.3682 - accuracy: 0.9119 - val_loss: 0.8758 - val_accuracy: 0.6720\n",
      "Epoch 41/51\n",
      "79/79 [==============================] - 1s 13ms/step - loss: 0.3475 - accuracy: 0.9198 - val_loss: 0.8908 - val_accuracy: 0.6102\n",
      "Epoch 42/51\n",
      "79/79 [==============================] - 1s 13ms/step - loss: 0.3436 - accuracy: 0.9123 - val_loss: 0.8984 - val_accuracy: 0.6210\n",
      "Epoch 43/51\n",
      "79/79 [==============================] - 1s 14ms/step - loss: 0.3201 - accuracy: 0.9294 - val_loss: 0.9332 - val_accuracy: 0.6801\n",
      "Epoch 44/51\n",
      "79/79 [==============================] - 1s 14ms/step - loss: 0.3044 - accuracy: 0.9282 - val_loss: 0.9528 - val_accuracy: 0.5753\n",
      "Epoch 45/51\n",
      "79/79 [==============================] - ETA: 0s - loss: 0.2905 - accuracy: 0.9298INFO:tensorflow:Assets written to: ./scheduler_saved_models/assets\n"
     ]
    },
    {
     "name": "stderr",
     "output_type": "stream",
     "text": [
      "INFO:tensorflow:Assets written to: ./scheduler_saved_models/assets\n"
     ]
    },
    {
     "name": "stdout",
     "output_type": "stream",
     "text": [
      "79/79 [==============================] - 2s 24ms/step - loss: 0.2905 - accuracy: 0.9298 - val_loss: 0.9375 - val_accuracy: 0.7446\n",
      "Epoch 46/51\n",
      "79/79 [==============================] - 1s 14ms/step - loss: 0.2848 - accuracy: 0.9290 - val_loss: 0.9908 - val_accuracy: 0.6425\n",
      "Epoch 47/51\n",
      "79/79 [==============================] - 1s 14ms/step - loss: 0.2696 - accuracy: 0.9365 - val_loss: 0.9526 - val_accuracy: 0.6317\n",
      "Epoch 48/51\n",
      "79/79 [==============================] - 1s 14ms/step - loss: 0.2542 - accuracy: 0.9413 - val_loss: 1.0051 - val_accuracy: 0.5699\n",
      "Epoch 49/51\n",
      "79/79 [==============================] - 1s 14ms/step - loss: 0.2407 - accuracy: 0.9409 - val_loss: 0.9316 - val_accuracy: 0.6720\n",
      "Epoch 50/51\n",
      "79/79 [==============================] - 1s 14ms/step - loss: 0.2348 - accuracy: 0.9460 - val_loss: 0.9295 - val_accuracy: 0.6720\n",
      "Epoch 51/51\n",
      "79/79 [==============================] - 1s 13ms/step - loss: 0.2155 - accuracy: 0.9512 - val_loss: 0.9539 - val_accuracy: 0.6667\n"
     ]
    }
   ],
   "source": [
    "# Set the initial version number.\n",
    "version_number = 0\n",
    "\n",
    "# Train with SGD with momentum.\n",
    "training_results_FIX, version_number = train_model(train_set=(X_train, y_train),\n",
    "                                                   valid_set=(X_valid, y_valid),\n",
    "                                                   scheduler='Fixed',\n",
    "                                                   version_number=version_number,\n",
    "                                                   epochs=TrainingConfig.EPOCHS, \n",
    "                                                   print_model_summary=True,\n",
    "                                                  )"
   ]
  },
  {
   "cell_type": "markdown",
   "id": "b1cfe08d",
   "metadata": {
    "id": "fe3a30ac"
   },
   "source": [
    "## 7 Training with Learning Rate Schedulers"
   ]
  },
  {
   "cell_type": "markdown",
   "id": "442a71be",
   "metadata": {
    "id": "c2695f0f"
   },
   "source": [
    "### 7.1 PiecewiseConstantDecay Scheduler\n",
    "The `PiecewiseConstantDecay` returns a 1-arg callable to compute the piecewise constant when passed the current optimizer step.\n",
    "\n",
    "***Function Syntax:***\n",
    "\n",
    "```\n",
    "tf.keras.optimizers.schedules.PiecewiseConstantDecay(boundaries, \n",
    "                                                     values, \n",
    "                                                     name=None)\n",
    "```\n",
    "\n",
    "where:\n",
    "* `boundaries`: A list of Tensors or ints or floats with strictly increasing entries, and with all elements having the same type as the optimizer step.\n",
    "* `values`: A list of Tensors or floats or ints that specifies the values for the intervals defined by boundaries. It should have one more element than boundaries, and all elements should have the same type.\n",
    "* `name`: A string. Optional name of the operation. Defaults to 'PiecewiseConstant'.\n",
    "\n",
    "[PiecewiseConstantDecay Documentation](https://www.tensorflow.org/api_docs/python/tf/keras/optimizers/schedules/PiecewiseConstantDecay)"
   ]
  },
  {
   "cell_type": "code",
   "execution_count": null,
   "id": "d69f895e",
   "metadata": {
    "id": "1d911afe",
    "outputId": "d638ec7b-a380-416d-d906-57117f074e08"
   },
   "outputs": [
    {
     "name": "stdout",
     "output_type": "stream",
     "text": [
      "Logging at: ./scheduler_logs/version_1\n",
      "\n",
      "Training for 51 epochs\n",
      "\n",
      "Epoch 1/51\n"
     ]
    },
    {
     "name": "stderr",
     "output_type": "stream",
     "text": [
      "2022-07-31 15:59:33.488882: I tensorflow/core/profiler/lib/profiler_session.cc:110] Profiler session initializing.\n",
      "2022-07-31 15:59:33.488898: I tensorflow/core/profiler/lib/profiler_session.cc:125] Profiler session started.\n",
      "2022-07-31 15:59:33.488918: I tensorflow/core/profiler/lib/profiler_session.cc:143] Profiler session tear down.\n"
     ]
    },
    {
     "name": "stdout",
     "output_type": "stream",
     "text": [
      "12/79 [===>..........................] - ETA: 0s - loss: 1.1128 - accuracy: 0.2682"
     ]
    },
    {
     "name": "stderr",
     "output_type": "stream",
     "text": [
      "2022-07-31 15:59:33.837241: I tensorflow/core/profiler/lib/profiler_session.cc:110] Profiler session initializing.\n",
      "2022-07-31 15:59:33.837253: I tensorflow/core/profiler/lib/profiler_session.cc:125] Profiler session started.\n",
      "2022-07-31 15:59:33.869649: I tensorflow/core/profiler/lib/profiler_session.cc:67] Profiler session collecting data.\n",
      "2022-07-31 15:59:33.870280: I tensorflow/core/profiler/lib/profiler_session.cc:143] Profiler session tear down.\n",
      "2022-07-31 15:59:33.871121: I tensorflow/core/profiler/rpc/client/save_profile.cc:136] Creating directory: ./scheduler_logs/plugins/profile/2022_07_31_15_59_33\n",
      "\n",
      "2022-07-31 15:59:33.874263: I tensorflow/core/profiler/rpc/client/save_profile.cc:142] Dumped gzipped tool data for trace.json.gz to ./scheduler_logs/plugins/profile/2022_07_31_15_59_33/Rocket.local.trace.json.gz\n",
      "2022-07-31 15:59:33.875334: I tensorflow/core/profiler/rpc/client/save_profile.cc:136] Creating directory: ./scheduler_logs/plugins/profile/2022_07_31_15_59_33\n",
      "\n",
      "2022-07-31 15:59:33.875655: I tensorflow/core/profiler/rpc/client/save_profile.cc:142] Dumped gzipped tool data for memory_profile.json.gz to ./scheduler_logs/plugins/profile/2022_07_31_15_59_33/Rocket.local.memory_profile.json.gz\n",
      "2022-07-31 15:59:33.876580: I tensorflow/core/profiler/rpc/client/capture_profile.cc:251] Creating directory: ./scheduler_logs/plugins/profile/2022_07_31_15_59_33\n",
      "Dumped tool data for xplane.pb to ./scheduler_logs/plugins/profile/2022_07_31_15_59_33/Rocket.local.xplane.pb\n",
      "Dumped tool data for overview_page.pb to ./scheduler_logs/plugins/profile/2022_07_31_15_59_33/Rocket.local.overview_page.pb\n",
      "Dumped tool data for input_pipeline.pb to ./scheduler_logs/plugins/profile/2022_07_31_15_59_33/Rocket.local.input_pipeline.pb\n",
      "Dumped tool data for tensorflow_stats.pb to ./scheduler_logs/plugins/profile/2022_07_31_15_59_33/Rocket.local.tensorflow_stats.pb\n",
      "Dumped tool data for kernel_stats.pb to ./scheduler_logs/plugins/profile/2022_07_31_15_59_33/Rocket.local.kernel_stats.pb\n",
      "\n"
     ]
    },
    {
     "name": "stdout",
     "output_type": "stream",
     "text": [
      "78/79 [============================>.] - ETA: 0s - loss: 1.0797 - accuracy: 0.4419INFO:tensorflow:Assets written to: ./scheduler_saved_models/assets\n"
     ]
    },
    {
     "name": "stderr",
     "output_type": "stream",
     "text": [
      "INFO:tensorflow:Assets written to: ./scheduler_saved_models/assets\n"
     ]
    },
    {
     "name": "stdout",
     "output_type": "stream",
     "text": [
      "79/79 [==============================] - 2s 25ms/step - loss: 1.0793 - accuracy: 0.4444 - val_loss: 1.0550 - val_accuracy: 0.5591\n",
      "Epoch 2/51\n",
      "79/79 [==============================] - 1s 14ms/step - loss: 0.9624 - accuracy: 0.6369 - val_loss: 0.9617 - val_accuracy: 0.5108\n",
      "Epoch 3/51\n",
      "76/79 [===========================>..] - ETA: 0s - loss: 0.7243 - accuracy: 0.7664INFO:tensorflow:Assets written to: ./scheduler_saved_models/assets\n"
     ]
    },
    {
     "name": "stderr",
     "output_type": "stream",
     "text": [
      "INFO:tensorflow:Assets written to: ./scheduler_saved_models/assets\n"
     ]
    },
    {
     "name": "stdout",
     "output_type": "stream",
     "text": [
      "79/79 [==============================] - 2s 23ms/step - loss: 0.7223 - accuracy: 0.7698 - val_loss: 0.8867 - val_accuracy: 0.5995\n",
      "Epoch 4/51\n",
      "79/79 [==============================] - ETA: 0s - loss: 0.4821 - accuracy: 0.8635INFO:tensorflow:Assets written to: ./scheduler_saved_models/assets\n"
     ]
    },
    {
     "name": "stderr",
     "output_type": "stream",
     "text": [
      "INFO:tensorflow:Assets written to: ./scheduler_saved_models/assets\n"
     ]
    },
    {
     "name": "stdout",
     "output_type": "stream",
     "text": [
      "79/79 [==============================] - 2s 23ms/step - loss: 0.4821 - accuracy: 0.8635 - val_loss: 0.8498 - val_accuracy: 0.7608\n",
      "Epoch 5/51\n",
      "79/79 [==============================] - 1s 13ms/step - loss: 0.3158 - accuracy: 0.9230 - val_loss: 0.7628 - val_accuracy: 0.7339\n",
      "Epoch 6/51\n",
      "78/79 [============================>.] - ETA: 0s - loss: 0.2192 - accuracy: 0.9435INFO:tensorflow:Assets written to: ./scheduler_saved_models/assets\n"
     ]
    },
    {
     "name": "stderr",
     "output_type": "stream",
     "text": [
      "INFO:tensorflow:Assets written to: ./scheduler_saved_models/assets\n"
     ]
    },
    {
     "name": "stdout",
     "output_type": "stream",
     "text": [
      "79/79 [==============================] - 2s 26ms/step - loss: 0.2183 - accuracy: 0.9440 - val_loss: 0.6729 - val_accuracy: 0.7688\n",
      "Epoch 7/51\n",
      "78/79 [============================>.] - ETA: 0s - loss: 0.1363 - accuracy: 0.9740INFO:tensorflow:Assets written to: ./scheduler_saved_models/assets\n"
     ]
    },
    {
     "name": "stderr",
     "output_type": "stream",
     "text": [
      "INFO:tensorflow:Assets written to: ./scheduler_saved_models/assets\n"
     ]
    },
    {
     "name": "stdout",
     "output_type": "stream",
     "text": [
      "79/79 [==============================] - 2s 23ms/step - loss: 0.1358 - accuracy: 0.9742 - val_loss: 0.6894 - val_accuracy: 0.7823\n",
      "Epoch 8/51\n",
      "77/79 [============================>.] - ETA: 0s - loss: 0.0805 - accuracy: 0.9894INFO:tensorflow:Assets written to: ./scheduler_saved_models/assets\n"
     ]
    },
    {
     "name": "stderr",
     "output_type": "stream",
     "text": [
      "INFO:tensorflow:Assets written to: ./scheduler_saved_models/assets\n"
     ]
    },
    {
     "name": "stdout",
     "output_type": "stream",
     "text": [
      "79/79 [==============================] - 2s 24ms/step - loss: 0.0794 - accuracy: 0.9897 - val_loss: 0.6916 - val_accuracy: 0.7984\n",
      "Epoch 9/51\n",
      "77/79 [============================>.] - ETA: 0s - loss: 0.0569 - accuracy: 0.9923INFO:tensorflow:Assets written to: ./scheduler_saved_models/assets\n"
     ]
    },
    {
     "name": "stderr",
     "output_type": "stream",
     "text": [
      "INFO:tensorflow:Assets written to: ./scheduler_saved_models/assets\n"
     ]
    },
    {
     "name": "stdout",
     "output_type": "stream",
     "text": [
      "79/79 [==============================] - 2s 25ms/step - loss: 0.0568 - accuracy: 0.9925 - val_loss: 0.6799 - val_accuracy: 0.8065\n",
      "Epoch 10/51\n",
      "79/79 [==============================] - 1s 14ms/step - loss: 0.0458 - accuracy: 0.9940 - val_loss: 0.7388 - val_accuracy: 0.8011\n",
      "Epoch 11/51\n",
      "79/79 [==============================] - 1s 14ms/step - loss: 0.0346 - accuracy: 0.9948 - val_loss: 0.7512 - val_accuracy: 0.8038\n",
      "Epoch 12/51\n",
      "75/79 [===========================>..] - ETA: 0s - loss: 0.0260 - accuracy: 0.9962INFO:tensorflow:Assets written to: ./scheduler_saved_models/assets\n"
     ]
    },
    {
     "name": "stderr",
     "output_type": "stream",
     "text": [
      "INFO:tensorflow:Assets written to: ./scheduler_saved_models/assets\n"
     ]
    },
    {
     "name": "stdout",
     "output_type": "stream",
     "text": [
      "79/79 [==============================] - 2s 25ms/step - loss: 0.0263 - accuracy: 0.9960 - val_loss: 0.7302 - val_accuracy: 0.8091\n",
      "Epoch 13/51\n",
      "79/79 [==============================] - ETA: 0s - loss: 0.0213 - accuracy: 0.9968INFO:tensorflow:Assets written to: ./scheduler_saved_models/assets\n"
     ]
    },
    {
     "name": "stderr",
     "output_type": "stream",
     "text": [
      "INFO:tensorflow:Assets written to: ./scheduler_saved_models/assets\n"
     ]
    },
    {
     "name": "stdout",
     "output_type": "stream",
     "text": [
      "79/79 [==============================] - 2s 26ms/step - loss: 0.0213 - accuracy: 0.9968 - val_loss: 0.6757 - val_accuracy: 0.8118\n",
      "Epoch 14/51\n",
      "79/79 [==============================] - 1s 14ms/step - loss: 0.0165 - accuracy: 0.9980 - val_loss: 0.7968 - val_accuracy: 0.7769\n",
      "Epoch 15/51\n",
      "79/79 [==============================] - 1s 14ms/step - loss: 0.0158 - accuracy: 0.9988 - val_loss: 0.7398 - val_accuracy: 0.8118\n",
      "Epoch 16/51\n",
      "79/79 [==============================] - 1s 15ms/step - loss: 0.0120 - accuracy: 0.9992 - val_loss: 0.7561 - val_accuracy: 0.8011\n",
      "Epoch 17/51\n",
      "79/79 [==============================] - 1s 15ms/step - loss: 0.0100 - accuracy: 0.9996 - val_loss: 0.7925 - val_accuracy: 0.7984\n",
      "Epoch 18/51\n",
      "79/79 [==============================] - 1s 15ms/step - loss: 0.0085 - accuracy: 1.0000 - val_loss: 0.7541 - val_accuracy: 0.8091\n",
      "Epoch 19/51\n",
      "79/79 [==============================] - 1s 14ms/step - loss: 0.0078 - accuracy: 0.9996 - val_loss: 0.7479 - val_accuracy: 0.7823\n",
      "Epoch 20/51\n",
      "79/79 [==============================] - 1s 14ms/step - loss: 0.0074 - accuracy: 0.9996 - val_loss: 0.7809 - val_accuracy: 0.7930\n",
      "Epoch 21/51\n",
      "79/79 [==============================] - 1s 14ms/step - loss: 0.0063 - accuracy: 1.0000 - val_loss: 0.8138 - val_accuracy: 0.7930\n",
      "Epoch 22/51\n",
      "79/79 [==============================] - 1s 14ms/step - loss: 0.0056 - accuracy: 1.0000 - val_loss: 0.8361 - val_accuracy: 0.7903\n",
      "Epoch 23/51\n",
      "79/79 [==============================] - 1s 14ms/step - loss: 0.0049 - accuracy: 1.0000 - val_loss: 0.8522 - val_accuracy: 0.7823\n",
      "Epoch 24/51\n",
      "79/79 [==============================] - 1s 14ms/step - loss: 0.0046 - accuracy: 1.0000 - val_loss: 0.8353 - val_accuracy: 0.7876\n",
      "Epoch 25/51\n",
      "79/79 [==============================] - 1s 14ms/step - loss: 0.0044 - accuracy: 1.0000 - val_loss: 0.9053 - val_accuracy: 0.7930\n",
      "Epoch 26/51\n",
      "79/79 [==============================] - 1s 14ms/step - loss: 0.0038 - accuracy: 1.0000 - val_loss: 0.8214 - val_accuracy: 0.7688\n",
      "Epoch 27/51\n",
      "79/79 [==============================] - 1s 14ms/step - loss: 0.0034 - accuracy: 1.0000 - val_loss: 0.8442 - val_accuracy: 0.7742\n",
      "Epoch 28/51\n",
      "79/79 [==============================] - 1s 14ms/step - loss: 0.0033 - accuracy: 1.0000 - val_loss: 0.8611 - val_accuracy: 0.7769\n",
      "Epoch 29/51\n",
      "79/79 [==============================] - 1s 15ms/step - loss: 0.0032 - accuracy: 1.0000 - val_loss: 0.8929 - val_accuracy: 0.7957\n",
      "Epoch 30/51\n",
      "79/79 [==============================] - 1s 14ms/step - loss: 0.0031 - accuracy: 1.0000 - val_loss: 0.8737 - val_accuracy: 0.7769\n",
      "Epoch 31/51\n",
      "79/79 [==============================] - 1s 14ms/step - loss: 0.0027 - accuracy: 1.0000 - val_loss: 0.8610 - val_accuracy: 0.7742\n",
      "Epoch 32/51\n",
      "79/79 [==============================] - 1s 14ms/step - loss: 0.0025 - accuracy: 1.0000 - val_loss: 0.9026 - val_accuracy: 0.7715\n",
      "Epoch 33/51\n",
      "79/79 [==============================] - 1s 14ms/step - loss: 0.0024 - accuracy: 1.0000 - val_loss: 0.9326 - val_accuracy: 0.7849\n",
      "Epoch 34/51\n",
      "79/79 [==============================] - 1s 14ms/step - loss: 0.0023 - accuracy: 1.0000 - val_loss: 0.8908 - val_accuracy: 0.7742\n",
      "Epoch 35/51\n",
      "79/79 [==============================] - 1s 14ms/step - loss: 0.0022 - accuracy: 1.0000 - val_loss: 0.8914 - val_accuracy: 0.7688\n",
      "Epoch 36/51\n",
      "79/79 [==============================] - 1s 14ms/step - loss: 0.0020 - accuracy: 1.0000 - val_loss: 0.9748 - val_accuracy: 0.7715\n",
      "Epoch 37/51\n",
      "79/79 [==============================] - 1s 14ms/step - loss: 0.0021 - accuracy: 1.0000 - val_loss: 0.9347 - val_accuracy: 0.7849\n",
      "Epoch 38/51\n",
      "79/79 [==============================] - 1s 14ms/step - loss: 0.0020 - accuracy: 1.0000 - val_loss: 0.9098 - val_accuracy: 0.7769\n",
      "Epoch 39/51\n",
      "79/79 [==============================] - 1s 14ms/step - loss: 0.0018 - accuracy: 1.0000 - val_loss: 0.9314 - val_accuracy: 0.7715\n",
      "Epoch 40/51\n",
      "79/79 [==============================] - 1s 14ms/step - loss: 0.0018 - accuracy: 1.0000 - val_loss: 0.9286 - val_accuracy: 0.7823\n",
      "Epoch 41/51\n",
      "79/79 [==============================] - 1s 15ms/step - loss: 0.0017 - accuracy: 1.0000 - val_loss: 0.9874 - val_accuracy: 0.7742\n",
      "Epoch 42/51\n",
      "79/79 [==============================] - 1s 14ms/step - loss: 0.0016 - accuracy: 1.0000 - val_loss: 0.9511 - val_accuracy: 0.7688\n",
      "Epoch 43/51\n",
      "79/79 [==============================] - 1s 14ms/step - loss: 0.0015 - accuracy: 1.0000 - val_loss: 0.9578 - val_accuracy: 0.7688\n",
      "Epoch 44/51\n",
      "79/79 [==============================] - 1s 14ms/step - loss: 0.0014 - accuracy: 1.0000 - val_loss: 0.9649 - val_accuracy: 0.7769\n",
      "Epoch 45/51\n",
      "79/79 [==============================] - 1s 14ms/step - loss: 0.0014 - accuracy: 1.0000 - val_loss: 0.9792 - val_accuracy: 0.7715\n",
      "Epoch 46/51\n",
      "79/79 [==============================] - 1s 14ms/step - loss: 0.0013 - accuracy: 1.0000 - val_loss: 0.9887 - val_accuracy: 0.7688\n",
      "Epoch 47/51\n",
      "79/79 [==============================] - 1s 14ms/step - loss: 0.0013 - accuracy: 1.0000 - val_loss: 0.9540 - val_accuracy: 0.7769\n",
      "Epoch 48/51\n",
      "79/79 [==============================] - 1s 14ms/step - loss: 0.0012 - accuracy: 1.0000 - val_loss: 0.9435 - val_accuracy: 0.7554\n",
      "Epoch 49/51\n",
      "79/79 [==============================] - 1s 15ms/step - loss: 0.0012 - accuracy: 1.0000 - val_loss: 0.9831 - val_accuracy: 0.7715\n",
      "Epoch 50/51\n",
      "79/79 [==============================] - 1s 15ms/step - loss: 0.0012 - accuracy: 1.0000 - val_loss: 0.9978 - val_accuracy: 0.7688\n",
      "Epoch 51/51\n",
      "79/79 [==============================] - 1s 15ms/step - loss: 0.0011 - accuracy: 1.0000 - val_loss: 1.0137 - val_accuracy: 0.7715\n"
     ]
    }
   ],
   "source": [
    "# Train with PiecwiseConstantDecay.\n",
    "training_results_PCD, version_number = train_model(train_set=(X_train, y_train),\n",
    "                                                   valid_set=(X_valid, y_valid),\n",
    "                                                   scheduler='PiecewiseConstantDecay',\n",
    "                                                   version_number=version_number,\n",
    "                                                   epochs=TrainingConfig.EPOCHS, \n",
    "                                                   print_model_summary=False,\n",
    "                                                  )"
   ]
  },
  {
   "cell_type": "markdown",
   "id": "beb733cb",
   "metadata": {
    "id": "56700937"
   },
   "source": [
    "### 7.2 InverseTimeDecay Scheduler\n",
    "This scheduler applies the inverse decay function to an optimizer step, given a provided initial learning rate.\n",
    "\n",
    "$$\n",
    "\\alpha = \\frac{\\alpha_0}{1+\\gamma n}\n",
    "$$\n",
    "\n",
    "where,\n",
    "$\\alpha_0$ = inital learning rate  \n",
    "$\\gamma$ = decay_rate  \n",
    "$n$ = step / decay_steps\n",
    "\n",
    "***Function Syntax:***\n",
    "\n",
    "```\n",
    "tf.keras.optimizers.schedules.InverseTimeDecay(initial_learning_rate, \n",
    "                                               decay_steps, \n",
    "                                               decay_rate, \n",
    "                                               staircase=False, \n",
    "                                               name=None,\n",
    "                                               )\n",
    "```\n",
    "\n",
    "where:\n",
    "* `initial_learning_rate`: A scalar `float32` or `float64` Tensor or a Python number. The initial learning rate.\n",
    "* `decay_steps`: How often to apply decay.\n",
    "* `decay_rate`: A Python number. The decay rate.\n",
    "* `staircase`: Whether to apply decay in a discrete staircase, as opposed to continuous, fashion.\n",
    "* `name`: String. Optional name of the operation. Defaults to 'InverseTimeDecay'.\n",
    "\n",
    "The learning rate is computed as:\n",
    "\n",
    "```python\n",
    "def decayed_learning_rate(step):\n",
    "  return initial_learning_rate / (1 + decay_rate * step / decay_steps)\n",
    "```\n",
    "\n",
    "[InverseTimeDecay Documentation](https://www.tensorflow.org/api_docs/python/tf/keras/optimizers/schedules/InverseTimeDecay)"
   ]
  },
  {
   "cell_type": "code",
   "execution_count": null,
   "id": "44554665",
   "metadata": {
    "id": "240c37a5",
    "outputId": "5b5cdf79-372b-42d2-e2ca-1aeb617bb556"
   },
   "outputs": [
    {
     "name": "stdout",
     "output_type": "stream",
     "text": [
      "Logging at: ./scheduler_logs/version_2\n",
      "\n",
      "Training for 51 epochs\n",
      "\n",
      "Epoch 1/51\n"
     ]
    },
    {
     "name": "stderr",
     "output_type": "stream",
     "text": [
      "2022-07-31 16:00:38.203056: I tensorflow/core/profiler/lib/profiler_session.cc:110] Profiler session initializing.\n",
      "2022-07-31 16:00:38.203072: I tensorflow/core/profiler/lib/profiler_session.cc:125] Profiler session started.\n",
      "2022-07-31 16:00:38.203151: I tensorflow/core/profiler/lib/profiler_session.cc:143] Profiler session tear down.\n"
     ]
    },
    {
     "name": "stdout",
     "output_type": "stream",
     "text": [
      "11/79 [===>..........................] - ETA: 1s - loss: 1.1044 - accuracy: 0.3722"
     ]
    },
    {
     "name": "stderr",
     "output_type": "stream",
     "text": [
      "2022-07-31 16:00:38.564004: I tensorflow/core/profiler/lib/profiler_session.cc:110] Profiler session initializing.\n",
      "2022-07-31 16:00:38.564016: I tensorflow/core/profiler/lib/profiler_session.cc:125] Profiler session started.\n",
      "2022-07-31 16:00:38.598493: I tensorflow/core/profiler/lib/profiler_session.cc:67] Profiler session collecting data.\n",
      "2022-07-31 16:00:38.599135: I tensorflow/core/profiler/lib/profiler_session.cc:143] Profiler session tear down.\n",
      "2022-07-31 16:00:38.599958: I tensorflow/core/profiler/rpc/client/save_profile.cc:136] Creating directory: ./scheduler_logs/plugins/profile/2022_07_31_16_00_38\n",
      "\n",
      "2022-07-31 16:00:38.600691: I tensorflow/core/profiler/rpc/client/save_profile.cc:142] Dumped gzipped tool data for trace.json.gz to ./scheduler_logs/plugins/profile/2022_07_31_16_00_38/Rocket.local.trace.json.gz\n",
      "2022-07-31 16:00:38.601930: I tensorflow/core/profiler/rpc/client/save_profile.cc:136] Creating directory: ./scheduler_logs/plugins/profile/2022_07_31_16_00_38\n",
      "\n",
      "2022-07-31 16:00:38.604775: I tensorflow/core/profiler/rpc/client/save_profile.cc:142] Dumped gzipped tool data for memory_profile.json.gz to ./scheduler_logs/plugins/profile/2022_07_31_16_00_38/Rocket.local.memory_profile.json.gz\n",
      "2022-07-31 16:00:38.606172: I tensorflow/core/profiler/rpc/client/capture_profile.cc:251] Creating directory: ./scheduler_logs/plugins/profile/2022_07_31_16_00_38\n",
      "Dumped tool data for xplane.pb to ./scheduler_logs/plugins/profile/2022_07_31_16_00_38/Rocket.local.xplane.pb\n",
      "Dumped tool data for overview_page.pb to ./scheduler_logs/plugins/profile/2022_07_31_16_00_38/Rocket.local.overview_page.pb\n",
      "Dumped tool data for input_pipeline.pb to ./scheduler_logs/plugins/profile/2022_07_31_16_00_38/Rocket.local.input_pipeline.pb\n",
      "Dumped tool data for tensorflow_stats.pb to ./scheduler_logs/plugins/profile/2022_07_31_16_00_38/Rocket.local.tensorflow_stats.pb\n",
      "Dumped tool data for kernel_stats.pb to ./scheduler_logs/plugins/profile/2022_07_31_16_00_38/Rocket.local.kernel_stats.pb\n",
      "\n"
     ]
    },
    {
     "name": "stdout",
     "output_type": "stream",
     "text": [
      "77/79 [============================>.] - ETA: 0s - loss: 0.9343 - accuracy: 0.5296INFO:tensorflow:Assets written to: ./scheduler_saved_models/assets\n"
     ]
    },
    {
     "name": "stderr",
     "output_type": "stream",
     "text": [
      "INFO:tensorflow:Assets written to: ./scheduler_saved_models/assets\n"
     ]
    },
    {
     "name": "stdout",
     "output_type": "stream",
     "text": [
      "79/79 [==============================] - 2s 26ms/step - loss: 0.9271 - accuracy: 0.5345 - val_loss: 0.8084 - val_accuracy: 0.5995\n",
      "Epoch 2/51\n",
      "78/79 [============================>.] - ETA: 0s - loss: 0.5207 - accuracy: 0.7917INFO:tensorflow:Assets written to: ./scheduler_saved_models/assets\n"
     ]
    },
    {
     "name": "stderr",
     "output_type": "stream",
     "text": [
      "INFO:tensorflow:Assets written to: ./scheduler_saved_models/assets\n"
     ]
    },
    {
     "name": "stdout",
     "output_type": "stream",
     "text": [
      "79/79 [==============================] - 2s 24ms/step - loss: 0.5195 - accuracy: 0.7921 - val_loss: 0.6027 - val_accuracy: 0.7661\n",
      "Epoch 3/51\n",
      "79/79 [==============================] - 1s 15ms/step - loss: 0.3220 - accuracy: 0.8845 - val_loss: 0.7035 - val_accuracy: 0.7070\n",
      "Epoch 4/51\n",
      "79/79 [==============================] - 1s 15ms/step - loss: 0.2335 - accuracy: 0.9198 - val_loss: 0.6051 - val_accuracy: 0.7554\n",
      "Epoch 5/51\n",
      "77/79 [============================>.] - ETA: 0s - loss: 0.1776 - accuracy: 0.9464INFO:tensorflow:Assets written to: ./scheduler_saved_models/assets\n"
     ]
    },
    {
     "name": "stderr",
     "output_type": "stream",
     "text": [
      "INFO:tensorflow:Assets written to: ./scheduler_saved_models/assets\n"
     ]
    },
    {
     "name": "stdout",
     "output_type": "stream",
     "text": [
      "79/79 [==============================] - 2s 24ms/step - loss: 0.1773 - accuracy: 0.9460 - val_loss: 0.5175 - val_accuracy: 0.7930\n",
      "Epoch 6/51\n",
      "79/79 [==============================] - 1s 14ms/step - loss: 0.1453 - accuracy: 0.9651 - val_loss: 0.5292 - val_accuracy: 0.7876\n",
      "Epoch 7/51\n",
      "79/79 [==============================] - ETA: 0s - loss: 0.1266 - accuracy: 0.9702INFO:tensorflow:Assets written to: ./scheduler_saved_models/assets\n"
     ]
    },
    {
     "name": "stderr",
     "output_type": "stream",
     "text": [
      "INFO:tensorflow:Assets written to: ./scheduler_saved_models/assets\n"
     ]
    },
    {
     "name": "stdout",
     "output_type": "stream",
     "text": [
      "79/79 [==============================] - 2s 25ms/step - loss: 0.1266 - accuracy: 0.9702 - val_loss: 0.5055 - val_accuracy: 0.7957\n",
      "Epoch 8/51\n",
      "79/79 [==============================] - 1s 15ms/step - loss: 0.1091 - accuracy: 0.9778 - val_loss: 0.5390 - val_accuracy: 0.7769\n",
      "Epoch 9/51\n",
      "79/79 [==============================] - 1s 14ms/step - loss: 0.1012 - accuracy: 0.9750 - val_loss: 0.5898 - val_accuracy: 0.7876\n",
      "Epoch 10/51\n",
      "79/79 [==============================] - 1s 15ms/step - loss: 0.0896 - accuracy: 0.9810 - val_loss: 0.5261 - val_accuracy: 0.7661\n",
      "Epoch 11/51\n",
      "79/79 [==============================] - 1s 15ms/step - loss: 0.0810 - accuracy: 0.9841 - val_loss: 0.6470 - val_accuracy: 0.7715\n",
      "Epoch 12/51\n",
      "79/79 [==============================] - 1s 14ms/step - loss: 0.0753 - accuracy: 0.9845 - val_loss: 0.6356 - val_accuracy: 0.7715\n",
      "Epoch 13/51\n",
      "79/79 [==============================] - 1s 15ms/step - loss: 0.0697 - accuracy: 0.9889 - val_loss: 0.6468 - val_accuracy: 0.7688\n",
      "Epoch 14/51\n",
      "79/79 [==============================] - 1s 15ms/step - loss: 0.0655 - accuracy: 0.9913 - val_loss: 0.6480 - val_accuracy: 0.7715\n",
      "Epoch 15/51\n",
      "79/79 [==============================] - 1s 15ms/step - loss: 0.0613 - accuracy: 0.9917 - val_loss: 0.6054 - val_accuracy: 0.7715\n",
      "Epoch 16/51\n",
      "79/79 [==============================] - 1s 15ms/step - loss: 0.0574 - accuracy: 0.9917 - val_loss: 0.6199 - val_accuracy: 0.7742\n",
      "Epoch 17/51\n",
      "79/79 [==============================] - 1s 14ms/step - loss: 0.0552 - accuracy: 0.9921 - val_loss: 0.6007 - val_accuracy: 0.7742\n",
      "Epoch 18/51\n",
      "79/79 [==============================] - 1s 14ms/step - loss: 0.0524 - accuracy: 0.9925 - val_loss: 0.6532 - val_accuracy: 0.7715\n",
      "Epoch 19/51\n",
      "79/79 [==============================] - 1s 15ms/step - loss: 0.0520 - accuracy: 0.9925 - val_loss: 0.6805 - val_accuracy: 0.7742\n",
      "Epoch 20/51\n",
      "79/79 [==============================] - 1s 16ms/step - loss: 0.0488 - accuracy: 0.9925 - val_loss: 0.6207 - val_accuracy: 0.7715\n",
      "Epoch 21/51\n",
      "79/79 [==============================] - 1s 15ms/step - loss: 0.0478 - accuracy: 0.9937 - val_loss: 0.6483 - val_accuracy: 0.7742\n",
      "Epoch 22/51\n",
      "79/79 [==============================] - 1s 15ms/step - loss: 0.0458 - accuracy: 0.9929 - val_loss: 0.5710 - val_accuracy: 0.7608\n",
      "Epoch 23/51\n",
      "79/79 [==============================] - 1s 15ms/step - loss: 0.0447 - accuracy: 0.9944 - val_loss: 0.5904 - val_accuracy: 0.7715\n",
      "Epoch 24/51\n",
      "79/79 [==============================] - 1s 15ms/step - loss: 0.0431 - accuracy: 0.9940 - val_loss: 0.6470 - val_accuracy: 0.7742\n",
      "Epoch 25/51\n",
      "79/79 [==============================] - 1s 15ms/step - loss: 0.0418 - accuracy: 0.9937 - val_loss: 0.6362 - val_accuracy: 0.7715\n",
      "Epoch 26/51\n",
      "79/79 [==============================] - 1s 15ms/step - loss: 0.0410 - accuracy: 0.9944 - val_loss: 0.6773 - val_accuracy: 0.7742\n",
      "Epoch 27/51\n",
      "79/79 [==============================] - 1s 15ms/step - loss: 0.0400 - accuracy: 0.9933 - val_loss: 0.6565 - val_accuracy: 0.7715\n",
      "Epoch 28/51\n",
      "79/79 [==============================] - 1s 17ms/step - loss: 0.0387 - accuracy: 0.9944 - val_loss: 0.6362 - val_accuracy: 0.7769\n",
      "Epoch 29/51\n",
      "79/79 [==============================] - 1s 16ms/step - loss: 0.0382 - accuracy: 0.9940 - val_loss: 0.6670 - val_accuracy: 0.7742\n",
      "Epoch 30/51\n",
      "79/79 [==============================] - 1s 16ms/step - loss: 0.0375 - accuracy: 0.9948 - val_loss: 0.6645 - val_accuracy: 0.7742\n",
      "Epoch 31/51\n",
      "79/79 [==============================] - 1s 15ms/step - loss: 0.0364 - accuracy: 0.9952 - val_loss: 0.7207 - val_accuracy: 0.7742\n",
      "Epoch 32/51\n",
      "79/79 [==============================] - 1s 16ms/step - loss: 0.0365 - accuracy: 0.9948 - val_loss: 0.6652 - val_accuracy: 0.7742\n",
      "Epoch 33/51\n",
      "79/79 [==============================] - 1s 15ms/step - loss: 0.0354 - accuracy: 0.9948 - val_loss: 0.6518 - val_accuracy: 0.7769\n",
      "Epoch 34/51\n",
      "79/79 [==============================] - 1s 15ms/step - loss: 0.0345 - accuracy: 0.9956 - val_loss: 0.6643 - val_accuracy: 0.7715\n",
      "Epoch 35/51\n",
      "79/79 [==============================] - 1s 15ms/step - loss: 0.0338 - accuracy: 0.9956 - val_loss: 0.6387 - val_accuracy: 0.7715\n",
      "Epoch 36/51\n",
      "79/79 [==============================] - 1s 16ms/step - loss: 0.0334 - accuracy: 0.9960 - val_loss: 0.6572 - val_accuracy: 0.7769\n",
      "Epoch 37/51\n",
      "79/79 [==============================] - 1s 16ms/step - loss: 0.0331 - accuracy: 0.9956 - val_loss: 0.6487 - val_accuracy: 0.7742\n",
      "Epoch 38/51\n",
      "79/79 [==============================] - 1s 15ms/step - loss: 0.0325 - accuracy: 0.9956 - val_loss: 0.6790 - val_accuracy: 0.7742\n",
      "Epoch 39/51\n",
      "79/79 [==============================] - 1s 16ms/step - loss: 0.0320 - accuracy: 0.9968 - val_loss: 0.6548 - val_accuracy: 0.7769\n",
      "Epoch 40/51\n",
      "79/79 [==============================] - 1s 15ms/step - loss: 0.0319 - accuracy: 0.9972 - val_loss: 0.7338 - val_accuracy: 0.7742\n",
      "Epoch 41/51\n",
      "79/79 [==============================] - 1s 16ms/step - loss: 0.0315 - accuracy: 0.9964 - val_loss: 0.6575 - val_accuracy: 0.7742\n",
      "Epoch 42/51\n",
      "79/79 [==============================] - 1s 15ms/step - loss: 0.0309 - accuracy: 0.9956 - val_loss: 0.6691 - val_accuracy: 0.7715\n",
      "Epoch 43/51\n",
      "79/79 [==============================] - 1s 14ms/step - loss: 0.0306 - accuracy: 0.9968 - val_loss: 0.6728 - val_accuracy: 0.7742\n",
      "Epoch 44/51\n",
      "79/79 [==============================] - 1s 15ms/step - loss: 0.0301 - accuracy: 0.9976 - val_loss: 0.6525 - val_accuracy: 0.7742\n",
      "Epoch 45/51\n",
      "79/79 [==============================] - 1s 16ms/step - loss: 0.0296 - accuracy: 0.9972 - val_loss: 0.6440 - val_accuracy: 0.7742\n",
      "Epoch 46/51\n",
      "79/79 [==============================] - 1s 15ms/step - loss: 0.0293 - accuracy: 0.9964 - val_loss: 0.6675 - val_accuracy: 0.7742\n",
      "Epoch 47/51\n",
      "79/79 [==============================] - 1s 15ms/step - loss: 0.0289 - accuracy: 0.9972 - val_loss: 0.6757 - val_accuracy: 0.7769\n",
      "Epoch 48/51\n",
      "79/79 [==============================] - 1s 15ms/step - loss: 0.0285 - accuracy: 0.9972 - val_loss: 0.6858 - val_accuracy: 0.7769\n",
      "Epoch 49/51\n",
      "79/79 [==============================] - 1s 15ms/step - loss: 0.0283 - accuracy: 0.9968 - val_loss: 0.6248 - val_accuracy: 0.7634\n",
      "Epoch 50/51\n",
      "79/79 [==============================] - 1s 16ms/step - loss: 0.0286 - accuracy: 0.9968 - val_loss: 0.7133 - val_accuracy: 0.7796\n",
      "Epoch 51/51\n",
      "79/79 [==============================] - 1s 16ms/step - loss: 0.0278 - accuracy: 0.9972 - val_loss: 0.6845 - val_accuracy: 0.7769\n"
     ]
    }
   ],
   "source": [
    "# Train with InverseTimeDecay.\n",
    "training_results_ITD, version_number = train_model(train_set=(X_train, y_train),\n",
    "                                                   valid_set=(X_valid, y_valid),\n",
    "                                                   scheduler='InverseTimeDecay',\n",
    "                                                   version_number=version_number,\n",
    "                                                   epochs=TrainingConfig.EPOCHS, \n",
    "                                                   print_model_summary=False,\n",
    "                                                  )"
   ]
  },
  {
   "cell_type": "markdown",
   "id": "a9db26dc",
   "metadata": {
    "id": "978c80b6"
   },
   "source": [
    "### 7.3 ExponentialDecay Scheduler\n",
    "This schedule applies an exponential decay function to an optimizer step, given an initial learning rate.\n",
    "\n",
    "$$\n",
    "\\alpha = \\alpha_0*\\gamma^n\n",
    "$$\n",
    "\n",
    "where,\n",
    "$\\alpha_0$ = inital learning rate  \n",
    "$\\gamma$ = decay_rate  \n",
    "$n$ = steps / decay_steps\n",
    "\n",
    "***Function Syntax:***\n",
    "```\n",
    "tf.keras.optimizers.schedules.ExponentialDecay(initial_learning_rate, \n",
    "                                               decay_steps, \n",
    "                                               decay_rate, \n",
    "                                               staircase=False, \n",
    "                                               name=None,\n",
    "                                               )\n",
    "```\n",
    "\n",
    "where:\n",
    "* `initial_learning_rate`: A scalar `float32` or `float64` Tensor or a Python number. The initial learning rate.\n",
    "* `decay_steps`: A scalar `int32` or `int64` Tensor or a Python number. Must be positive. See the decay computation above.\n",
    "* `decay_rate`: A scalar `float32` or `float64` Tensor or a Python number. The decay rate.\n",
    "* `staircase`: Boolean. If `True` decay the learning rate at discrete intervals\n",
    "* `name`: String. Optional name of the operation. Defaults to 'ExponentialDecay'.\n",
    "\n",
    "The learning rate is computed as:\n",
    "\n",
    "```python\n",
    "def decayed_learning_rate(step):\n",
    "  return initial_learning_rate * decay_rate ^ (step / decay_steps)\n",
    "```\n",
    "\n",
    "[ExponentialDecay Documentation](https://www.tensorflow.org/api_docs/python/tf/keras/optimizers/schedules/ExponentialDecay)"
   ]
  },
  {
   "cell_type": "code",
   "execution_count": null,
   "id": "180196e8",
   "metadata": {
    "id": "476ec656",
    "outputId": "d00c62c1-8e66-438b-e8d3-662973ee9e48",
    "scrolled": true
   },
   "outputs": [
    {
     "name": "stdout",
     "output_type": "stream",
     "text": [
      "Logging at: ./scheduler_logs/version_3\n",
      "\n",
      "Training for 51 epochs\n",
      "\n",
      "Epoch 1/51\n"
     ]
    },
    {
     "name": "stderr",
     "output_type": "stream",
     "text": [
      "2022-07-31 16:01:42.670373: I tensorflow/core/profiler/lib/profiler_session.cc:110] Profiler session initializing.\n",
      "2022-07-31 16:01:42.670388: I tensorflow/core/profiler/lib/profiler_session.cc:125] Profiler session started.\n",
      "2022-07-31 16:01:42.670409: I tensorflow/core/profiler/lib/profiler_session.cc:143] Profiler session tear down.\n"
     ]
    },
    {
     "name": "stdout",
     "output_type": "stream",
     "text": [
      "11/79 [===>..........................] - ETA: 1s - loss: 1.0959 - accuracy: 0.3494"
     ]
    },
    {
     "name": "stderr",
     "output_type": "stream",
     "text": [
      "2022-07-31 16:01:43.004062: I tensorflow/core/profiler/lib/profiler_session.cc:110] Profiler session initializing.\n",
      "2022-07-31 16:01:43.004074: I tensorflow/core/profiler/lib/profiler_session.cc:125] Profiler session started.\n",
      "2022-07-31 16:01:43.043640: I tensorflow/core/profiler/lib/profiler_session.cc:67] Profiler session collecting data.\n",
      "2022-07-31 16:01:43.044327: I tensorflow/core/profiler/lib/profiler_session.cc:143] Profiler session tear down.\n",
      "2022-07-31 16:01:43.045180: I tensorflow/core/profiler/rpc/client/save_profile.cc:136] Creating directory: ./scheduler_logs/plugins/profile/2022_07_31_16_01_43\n",
      "\n",
      "2022-07-31 16:01:43.048214: I tensorflow/core/profiler/rpc/client/save_profile.cc:142] Dumped gzipped tool data for trace.json.gz to ./scheduler_logs/plugins/profile/2022_07_31_16_01_43/Rocket.local.trace.json.gz\n",
      "2022-07-31 16:01:43.049342: I tensorflow/core/profiler/rpc/client/save_profile.cc:136] Creating directory: ./scheduler_logs/plugins/profile/2022_07_31_16_01_43\n",
      "\n",
      "2022-07-31 16:01:43.049663: I tensorflow/core/profiler/rpc/client/save_profile.cc:142] Dumped gzipped tool data for memory_profile.json.gz to ./scheduler_logs/plugins/profile/2022_07_31_16_01_43/Rocket.local.memory_profile.json.gz\n",
      "2022-07-31 16:01:43.050772: I tensorflow/core/profiler/rpc/client/capture_profile.cc:251] Creating directory: ./scheduler_logs/plugins/profile/2022_07_31_16_01_43\n",
      "Dumped tool data for xplane.pb to ./scheduler_logs/plugins/profile/2022_07_31_16_01_43/Rocket.local.xplane.pb\n",
      "Dumped tool data for overview_page.pb to ./scheduler_logs/plugins/profile/2022_07_31_16_01_43/Rocket.local.overview_page.pb\n",
      "Dumped tool data for input_pipeline.pb to ./scheduler_logs/plugins/profile/2022_07_31_16_01_43/Rocket.local.input_pipeline.pb\n",
      "Dumped tool data for tensorflow_stats.pb to ./scheduler_logs/plugins/profile/2022_07_31_16_01_43/Rocket.local.tensorflow_stats.pb\n",
      "Dumped tool data for kernel_stats.pb to ./scheduler_logs/plugins/profile/2022_07_31_16_01_43/Rocket.local.kernel_stats.pb\n",
      "\n"
     ]
    },
    {
     "name": "stdout",
     "output_type": "stream",
     "text": [
      "76/79 [===========================>..] - ETA: 0s - loss: 1.0772 - accuracy: 0.4396INFO:tensorflow:Assets written to: ./scheduler_saved_models/assets\n"
     ]
    },
    {
     "name": "stderr",
     "output_type": "stream",
     "text": [
      "INFO:tensorflow:Assets written to: ./scheduler_saved_models/assets\n"
     ]
    },
    {
     "name": "stdout",
     "output_type": "stream",
     "text": [
      "79/79 [==============================] - 2s 26ms/step - loss: 1.0764 - accuracy: 0.4433 - val_loss: 1.0812 - val_accuracy: 0.4086\n",
      "Epoch 2/51\n",
      "77/79 [============================>.] - ETA: 0s - loss: 1.0205 - accuracy: 0.6282INFO:tensorflow:Assets written to: ./scheduler_saved_models/assets\n"
     ]
    },
    {
     "name": "stderr",
     "output_type": "stream",
     "text": [
      "INFO:tensorflow:Assets written to: ./scheduler_saved_models/assets\n"
     ]
    },
    {
     "name": "stdout",
     "output_type": "stream",
     "text": [
      "79/79 [==============================] - 2s 25ms/step - loss: 1.0199 - accuracy: 0.6262 - val_loss: 1.0393 - val_accuracy: 0.4919\n",
      "Epoch 3/51\n",
      "76/79 [===========================>..] - ETA: 0s - loss: 0.8924 - accuracy: 0.7060INFO:tensorflow:Assets written to: ./scheduler_saved_models/assets\n"
     ]
    },
    {
     "name": "stderr",
     "output_type": "stream",
     "text": [
      "INFO:tensorflow:Assets written to: ./scheduler_saved_models/assets\n"
     ]
    },
    {
     "name": "stdout",
     "output_type": "stream",
     "text": [
      "79/79 [==============================] - 2s 25ms/step - loss: 0.8905 - accuracy: 0.7060 - val_loss: 0.9631 - val_accuracy: 0.5780\n",
      "Epoch 4/51\n",
      "78/79 [============================>.] - ETA: 0s - loss: 0.6747 - accuracy: 0.7612INFO:tensorflow:Assets written to: ./scheduler_saved_models/assets\n"
     ]
    },
    {
     "name": "stderr",
     "output_type": "stream",
     "text": [
      "INFO:tensorflow:Assets written to: ./scheduler_saved_models/assets\n"
     ]
    },
    {
     "name": "stdout",
     "output_type": "stream",
     "text": [
      "79/79 [==============================] - 2s 27ms/step - loss: 0.6738 - accuracy: 0.7619 - val_loss: 0.7655 - val_accuracy: 0.7473\n",
      "Epoch 5/51\n",
      "76/79 [===========================>..] - ETA: 0s - loss: 0.4242 - accuracy: 0.8997INFO:tensorflow:Assets written to: ./scheduler_saved_models/assets\n"
     ]
    },
    {
     "name": "stderr",
     "output_type": "stream",
     "text": [
      "INFO:tensorflow:Assets written to: ./scheduler_saved_models/assets\n"
     ]
    },
    {
     "name": "stdout",
     "output_type": "stream",
     "text": [
      "79/79 [==============================] - 2s 25ms/step - loss: 0.4181 - accuracy: 0.9008 - val_loss: 0.5531 - val_accuracy: 0.8038\n",
      "Epoch 6/51\n",
      "78/79 [============================>.] - ETA: 0s - loss: 0.2594 - accuracy: 0.9471INFO:tensorflow:Assets written to: ./scheduler_saved_models/assets\n"
     ]
    },
    {
     "name": "stderr",
     "output_type": "stream",
     "text": [
      "INFO:tensorflow:Assets written to: ./scheduler_saved_models/assets\n"
     ]
    },
    {
     "name": "stdout",
     "output_type": "stream",
     "text": [
      "79/79 [==============================] - 2s 24ms/step - loss: 0.2585 - accuracy: 0.9476 - val_loss: 0.4832 - val_accuracy: 0.8226\n",
      "Epoch 7/51\n",
      "79/79 [==============================] - ETA: 0s - loss: 0.1628 - accuracy: 0.9694INFO:tensorflow:Assets written to: ./scheduler_saved_models/assets\n"
     ]
    },
    {
     "name": "stderr",
     "output_type": "stream",
     "text": [
      "INFO:tensorflow:Assets written to: ./scheduler_saved_models/assets\n"
     ]
    },
    {
     "name": "stdout",
     "output_type": "stream",
     "text": [
      "79/79 [==============================] - 2s 25ms/step - loss: 0.1628 - accuracy: 0.9694 - val_loss: 0.3777 - val_accuracy: 0.8522\n",
      "Epoch 8/51\n",
      "78/79 [============================>.] - ETA: 0s - loss: 0.1252 - accuracy: 0.9752INFO:tensorflow:Assets written to: ./scheduler_saved_models/assets\n"
     ]
    },
    {
     "name": "stderr",
     "output_type": "stream",
     "text": [
      "INFO:tensorflow:Assets written to: ./scheduler_saved_models/assets\n"
     ]
    },
    {
     "name": "stdout",
     "output_type": "stream",
     "text": [
      "79/79 [==============================] - 2s 27ms/step - loss: 0.1255 - accuracy: 0.9750 - val_loss: 0.2925 - val_accuracy: 0.8790\n",
      "Epoch 9/51\n",
      "79/79 [==============================] - 1s 16ms/step - loss: 0.0950 - accuracy: 0.9829 - val_loss: 0.4339 - val_accuracy: 0.8414\n",
      "Epoch 10/51\n",
      "79/79 [==============================] - 1s 15ms/step - loss: 0.0614 - accuracy: 0.9897 - val_loss: 0.2833 - val_accuracy: 0.8602\n",
      "Epoch 11/51\n",
      "79/79 [==============================] - 1s 16ms/step - loss: 0.0492 - accuracy: 0.9937 - val_loss: 0.3305 - val_accuracy: 0.8522\n",
      "Epoch 12/51\n",
      "79/79 [==============================] - 1s 16ms/step - loss: 0.0413 - accuracy: 0.9940 - val_loss: 0.2911 - val_accuracy: 0.8387\n",
      "Epoch 13/51\n",
      "79/79 [==============================] - 1s 16ms/step - loss: 0.0520 - accuracy: 0.9881 - val_loss: 0.3565 - val_accuracy: 0.8468\n",
      "Epoch 14/51\n",
      "79/79 [==============================] - 1s 15ms/step - loss: 0.0308 - accuracy: 0.9952 - val_loss: 0.2990 - val_accuracy: 0.8360\n",
      "Epoch 15/51\n",
      "79/79 [==============================] - 1s 17ms/step - loss: 0.0279 - accuracy: 0.9960 - val_loss: 0.2734 - val_accuracy: 0.8441\n",
      "Epoch 16/51\n",
      "79/79 [==============================] - 1s 16ms/step - loss: 0.0221 - accuracy: 0.9960 - val_loss: 0.3086 - val_accuracy: 0.8333\n",
      "Epoch 17/51\n",
      "79/79 [==============================] - 1s 17ms/step - loss: 0.0207 - accuracy: 0.9964 - val_loss: 0.3310 - val_accuracy: 0.8333\n",
      "Epoch 18/51\n",
      "79/79 [==============================] - 1s 15ms/step - loss: 0.0191 - accuracy: 0.9968 - val_loss: 0.2857 - val_accuracy: 0.8548\n",
      "Epoch 19/51\n",
      "79/79 [==============================] - ETA: 0s - loss: 0.0168 - accuracy: 0.9976INFO:tensorflow:Assets written to: ./scheduler_saved_models/assets\n"
     ]
    },
    {
     "name": "stderr",
     "output_type": "stream",
     "text": [
      "INFO:tensorflow:Assets written to: ./scheduler_saved_models/assets\n"
     ]
    },
    {
     "name": "stdout",
     "output_type": "stream",
     "text": [
      "79/79 [==============================] - 2s 26ms/step - loss: 0.0168 - accuracy: 0.9976 - val_loss: 0.2984 - val_accuracy: 0.8925\n",
      "Epoch 20/51\n",
      "79/79 [==============================] - 1s 15ms/step - loss: 0.0152 - accuracy: 0.9980 - val_loss: 0.3791 - val_accuracy: 0.8306\n",
      "Epoch 21/51\n",
      "79/79 [==============================] - 1s 16ms/step - loss: 0.0145 - accuracy: 0.9976 - val_loss: 0.3380 - val_accuracy: 0.8333\n",
      "Epoch 22/51\n",
      "78/79 [============================>.] - ETA: 0s - loss: 0.0134 - accuracy: 0.9980INFO:tensorflow:Assets written to: ./scheduler_saved_models/assets\n"
     ]
    },
    {
     "name": "stderr",
     "output_type": "stream",
     "text": [
      "INFO:tensorflow:Assets written to: ./scheduler_saved_models/assets\n"
     ]
    },
    {
     "name": "stdout",
     "output_type": "stream",
     "text": [
      "79/79 [==============================] - 2s 25ms/step - loss: 0.0133 - accuracy: 0.9980 - val_loss: 0.2927 - val_accuracy: 0.8952\n",
      "Epoch 23/51\n",
      "79/79 [==============================] - 1s 16ms/step - loss: 0.0134 - accuracy: 0.9984 - val_loss: 0.3053 - val_accuracy: 0.8898\n",
      "Epoch 24/51\n",
      "79/79 [==============================] - 1s 16ms/step - loss: 0.0118 - accuracy: 0.9980 - val_loss: 0.3435 - val_accuracy: 0.8360\n",
      "Epoch 25/51\n",
      "79/79 [==============================] - 1s 16ms/step - loss: 0.0112 - accuracy: 0.9984 - val_loss: 0.3399 - val_accuracy: 0.8333\n",
      "Epoch 26/51\n",
      "79/79 [==============================] - 1s 16ms/step - loss: 0.0110 - accuracy: 0.9988 - val_loss: 0.3009 - val_accuracy: 0.8360\n",
      "Epoch 27/51\n",
      "79/79 [==============================] - 1s 16ms/step - loss: 0.0096 - accuracy: 0.9980 - val_loss: 0.3830 - val_accuracy: 0.8253\n",
      "Epoch 28/51\n",
      "79/79 [==============================] - 1s 16ms/step - loss: 0.0100 - accuracy: 0.9984 - val_loss: 0.3718 - val_accuracy: 0.8253\n",
      "Epoch 29/51\n",
      "79/79 [==============================] - 1s 17ms/step - loss: 0.0094 - accuracy: 0.9984 - val_loss: 0.3404 - val_accuracy: 0.8306\n",
      "Epoch 30/51\n",
      "79/79 [==============================] - 1s 16ms/step - loss: 0.0091 - accuracy: 0.9984 - val_loss: 0.3350 - val_accuracy: 0.8710\n",
      "Epoch 31/51\n",
      "79/79 [==============================] - 1s 16ms/step - loss: 0.0085 - accuracy: 0.9992 - val_loss: 0.3660 - val_accuracy: 0.8333\n",
      "Epoch 32/51\n",
      "79/79 [==============================] - 1s 16ms/step - loss: 0.0082 - accuracy: 0.9988 - val_loss: 0.3604 - val_accuracy: 0.8387\n",
      "Epoch 33/51\n",
      "79/79 [==============================] - 1s 16ms/step - loss: 0.0078 - accuracy: 0.9988 - val_loss: 0.3709 - val_accuracy: 0.8306\n",
      "Epoch 34/51\n",
      "79/79 [==============================] - 1s 17ms/step - loss: 0.0073 - accuracy: 0.9992 - val_loss: 0.3808 - val_accuracy: 0.8280\n",
      "Epoch 35/51\n",
      "79/79 [==============================] - 1s 17ms/step - loss: 0.0070 - accuracy: 0.9992 - val_loss: 0.3748 - val_accuracy: 0.8333\n",
      "Epoch 36/51\n",
      "79/79 [==============================] - 1s 17ms/step - loss: 0.0070 - accuracy: 0.9992 - val_loss: 0.3790 - val_accuracy: 0.8333\n",
      "Epoch 37/51\n",
      "79/79 [==============================] - 1s 16ms/step - loss: 0.0067 - accuracy: 0.9992 - val_loss: 0.4073 - val_accuracy: 0.8226\n",
      "Epoch 38/51\n",
      "79/79 [==============================] - 1s 16ms/step - loss: 0.0066 - accuracy: 0.9992 - val_loss: 0.3601 - val_accuracy: 0.8414\n",
      "Epoch 39/51\n",
      "79/79 [==============================] - 1s 16ms/step - loss: 0.0062 - accuracy: 0.9992 - val_loss: 0.4180 - val_accuracy: 0.8414\n",
      "Epoch 40/51\n",
      "79/79 [==============================] - 1s 18ms/step - loss: 0.0059 - accuracy: 0.9996 - val_loss: 0.3825 - val_accuracy: 0.8333\n",
      "Epoch 41/51\n",
      "79/79 [==============================] - 1s 17ms/step - loss: 0.0063 - accuracy: 0.9988 - val_loss: 0.3997 - val_accuracy: 0.8280\n",
      "Epoch 42/51\n",
      "79/79 [==============================] - 1s 17ms/step - loss: 0.0059 - accuracy: 0.9996 - val_loss: 0.4144 - val_accuracy: 0.8226\n",
      "Epoch 43/51\n",
      "79/79 [==============================] - 1s 17ms/step - loss: 0.0058 - accuracy: 0.9996 - val_loss: 0.3769 - val_accuracy: 0.8468\n",
      "Epoch 44/51\n",
      "79/79 [==============================] - 1s 17ms/step - loss: 0.0055 - accuracy: 0.9992 - val_loss: 0.3814 - val_accuracy: 0.8387\n",
      "Epoch 45/51\n",
      "79/79 [==============================] - 1s 17ms/step - loss: 0.0054 - accuracy: 0.9996 - val_loss: 0.3899 - val_accuracy: 0.8360\n",
      "Epoch 46/51\n",
      "79/79 [==============================] - 1s 16ms/step - loss: 0.0053 - accuracy: 0.9992 - val_loss: 0.4015 - val_accuracy: 0.8333\n",
      "Epoch 47/51\n",
      "79/79 [==============================] - 1s 17ms/step - loss: 0.0053 - accuracy: 0.9992 - val_loss: 0.4495 - val_accuracy: 0.8280\n",
      "Epoch 48/51\n",
      "79/79 [==============================] - 1s 16ms/step - loss: 0.0052 - accuracy: 0.9992 - val_loss: 0.3630 - val_accuracy: 0.8360\n",
      "Epoch 49/51\n",
      "79/79 [==============================] - 1s 16ms/step - loss: 0.0053 - accuracy: 0.9992 - val_loss: 0.3987 - val_accuracy: 0.8333\n",
      "Epoch 50/51\n",
      "79/79 [==============================] - 1s 16ms/step - loss: 0.0050 - accuracy: 0.9992 - val_loss: 0.4236 - val_accuracy: 0.8306\n",
      "Epoch 51/51\n",
      "79/79 [==============================] - 1s 17ms/step - loss: 0.0051 - accuracy: 0.9996 - val_loss: 0.4327 - val_accuracy: 0.8575\n"
     ]
    }
   ],
   "source": [
    "# Train with ExponentialDecay.\n",
    "training_results_EXP, version_number = train_model(train_set=(X_train, y_train),\n",
    "                                                   valid_set=(X_valid, y_valid),\n",
    "                                                   scheduler='ExponentialDecay',\n",
    "                                                   version_number=version_number,\n",
    "                                                   epochs=TrainingConfig.EPOCHS, \n",
    "                                                   print_model_summary=False,\n",
    "                                                  )"
   ]
  },
  {
   "cell_type": "markdown",
   "id": "b3caafdd",
   "metadata": {
    "id": "b4dfd333"
   },
   "source": [
    "## 8 Plot Loss Curves"
   ]
  },
  {
   "cell_type": "code",
   "execution_count": null,
   "id": "ac8a7365",
   "metadata": {
    "collapsed": true,
    "id": "9a71ad98"
   },
   "outputs": [],
   "source": [
    "def plot_results(metrics, ylabel=None, ylim=None, metric_name=None, color=None):\n",
    "    \n",
    "    fig, ax = plt.subplots(figsize=(20, 8))\n",
    "\n",
    "    if not (isinstance(metric_name, list) or isinstance(metric_name, tuple)):\n",
    "        metrics = [metrics,]\n",
    "        metric_name = [metric_name,]\n",
    "        \n",
    "    for idx, metric in enumerate(metrics):    \n",
    "        ax.plot(metric, color=color[idx])\n",
    "    \n",
    "    plt.xlabel(\"Epoch\")\n",
    "    plt.ylabel(ylabel)\n",
    "    plt.title(ylabel)\n",
    "    plt.xlim([0, TrainingConfig.EPOCHS-1])\n",
    "    plt.ylim(ylim)\n",
    "    # Tailor x-axis tick marks\n",
    "    ax.xaxis.set_major_locator(MultipleLocator(5))\n",
    "    ax.xaxis.set_major_formatter(FormatStrFormatter('%d'))\n",
    "    ax.xaxis.set_minor_locator(MultipleLocator(1))\n",
    "    plt.grid(True)\n",
    "    plt.legend(metric_name)   \n",
    "    plt.show(block=block_plot)\n",
    "    plt.close()"
   ]
  },
  {
   "cell_type": "code",
   "execution_count": null,
   "id": "fe1c0465",
   "metadata": {
    "colab": {
     "base_uri": "https://localhost:8080/",
     "height": 1000,
     "referenced_widgets": [
      "1d37e47722014bc9951b8ca1ea74b3af",
      "bf3bcea1a94d4a08862d362658b87599",
      "9841d2b7ff8f46d1af6339d0f3326b5c",
      "f0d2b64c2cdc46d6a62855f9d839972e",
      "d882b3320bdc4a7a8e4cab24505520aa",
      "a66816af3d0e43fa84fb8f6162e3361c",
      "1048aa98086742bbaa5bb68c38e9a880",
      "f57d9152e3de4724815e7cc7cf895b52",
      "c5b6999fd1284db8be9dd047e7f190f1",
      "097ec9cabf7d40328340c1428a4760dd",
      "a9a45d102b144a14b2a333f7d4b1b175",
      "647d37af077d4929879c0848872fde58",
      "8da15ad6911a4a2cb65639eb35920d81",
      "88bbe1e694c34a2e9fbbc947b1cc60ba",
      "e6d93ca805044cca851dcbc46c3b5969",
      "c62d2bfb394048a5a2c488e7c9d8e920",
      "26e6690e507340d886929fd30b980da5",
      "df266ff7b8f641b4a7644825665802a9",
      "379934a97bc341eab4603ba5a7f23147",
      "e205386785954580a1b2297923e4793c",
      "38daeadf75cb47c1a87b9bac4a786ea8",
      "32892ba55bc7434d958dc43b76c44f6c",
      "81fecaba9dad4f0d8a0e7b9cff5131e7",
      "14ea51290d814cf6ab024456fc01a196",
      "26c34f676f77413f98e494de2ac87f12",
      "71c1f92edab64a709034d718f6cfc3df",
      "421228241683440bbd067fb7edfc0172",
      "388c93badc3245b8b3d7df9dca40e7b9",
      "4a6c21f1b445441c927646024449bc4c",
      "eb3ff327ff694be0897288c58d36bdeb",
      "b28dafd6957a4db383e97fe2e73101fa",
      "c7fc2d634d674b25892ade53e4a521ff",
      "73a782e665424cf9b1a6a56e877e72bf",
      "241f66ce69824edcaf75a7c40c90d210",
      "5d04659d0cd2454db2004c7a05758efb",
      "9bc78966f7594e888af812d2168adc42",
      "d59c5c1e3f9443bbb4a026e3d4fb5f9f",
      "27420ca3588e48b7a25ba56e6b7a85b0",
      "6b589ce33f624a02bf4a34f518eb7b23",
      "5449ee24eb684dd5bf1a36f1c9eb7a5d",
      "cce2593784654ab6bd935d6d809d7097",
      "5744f72ce9bb4124b5e84f80b13a2bc1",
      "ace6dbd104ae4cb1b9f84b541a1f6239",
      "75b6bd03fbdb4080bc21028d57f79ab8",
      "52dd03af73084886a792a89a888de348",
      "092ed342812744d68231cef4377ffbe3",
      "a584dcb5768c4366a01df1b073cb398b",
      "84d5d0bae4e6444bbbada911c5bae19e",
      "1bf63ef7915c4f29b4b9bacc8ed9b75d",
      "4fa0bc82c0484711b86ad945217451ca",
      "7aa937f4072f4222b179b0238394093a",
      "c358ac0800d748dd8794dd82b45bf68b",
      "d0544eed111b46e9a70b74c6a1c8b1d0",
      "c0e2a9f50c094779a49d9e961c90c4b2",
      "dea473f999c846e18f4749a715e2c9eb",
      "f33625fb10204c1a8c560b436962c438",
      "6ceef0b80c794ee5b367d4ba2f0aeaf3",
      "fc61676984bb40ca8b1571d24cf04c71",
      "409fc14f343a4bef9f644a78b32f3a81",
      "ba9d12b69415407db302dceb514c7eae",
      "25d48b9479484781beec902d27c5a142",
      "b8cb87eba87149bea28a246334a67b28",
      "c2463911bc95478a8f05485d60c06890",
      "5094712cf66a4e6b8c92225693d9b6ac",
      "35e9b4d388e340baaf13a9882275d511",
      "5fd2994502124ab49266657d3f59c8b8"
     ]
    },
    "id": "2ea97635",
    "outputId": "a9900f2c-2621-4909-ed49-5c65239e339a",
    "scrolled": false
   },
   "outputs": [
    {
     "data": {
      "image/png": "[encoded data removed]",
      "text/plain": [
       "<Figure size 1440x576 with 1 Axes>"
      ]
     },
     "metadata": {
      "needs_background": "light"
     },
     "output_type": "display_data"
    }
   ],
   "source": [
    "train_loss_fix = training_results_FIX.history['loss']\n",
    "train_loss_pcd = training_results_PCD.history['loss']\n",
    "train_loss_itd = training_results_ITD.history['loss']\n",
    "train_loss_exp = training_results_EXP.history['loss']\n",
    " \n",
    "plot_results([ train_loss_fix, train_loss_pcd, train_loss_itd, train_loss_exp ], \n",
    "            ylabel=\"SGD Training Loss\",\n",
    "            ylim = [0.0, 1.2],\n",
    "            metric_name=[\"Fixed Learning Rate\", \"PieceWiseConstantDecay\", \"InverseTimeDecay\", \"ExponentialDecay\"],\n",
    "            color=['r', 'k', 'b', 'g'])"
   ]
  },
  {
   "cell_type": "markdown",
   "id": "6ecbf40f",
   "metadata": {
    "id": "88e92cfb"
   },
   "source": [
    "## 9 Conclusion\n",
    "\n",
    "In this notebook, we explored the use of three different learning rate schedulers and found that they can dramatically improve the convergence rate of the model. As is often the case in deep learning, experimentation is often required and recommended to confirm which settings work best for your particular problem. Selecting an appropriate optimizer and learning rate scheduler can make a big difference in the amount of time required to train your model and can sometimes lead to higher accuracy as well. "
   ]
  },
  {
   "cell_type": "code",
   "execution_count": null,
   "id": "b74ee7fb",
   "metadata": {
    "collapsed": true,
    "id": "a5ff6fb4"
   },
   "outputs": [],
   "source": []
  }
 ],
 "metadata": {
  "accelerator": "GPU",
  "colab": {
   "collapsed_sections": [],
   "name": "c4_04_26_LR_Shedulers_RECORDED.ipynb",
   "provenance": []
  },
  "kernelspec": {
   "display_name": "Python 3 (ipykernel)",
   "language": "python",
   "name": "python3"
  },
  "language_info": {
   "codemirror_mode": {
    "name": "ipython",
    "version": 3
   },
   "file_extension": ".py",
   "mimetype": "text/x-python",
   "name": "python",
   "nbconvert_exporter": "python",
   "pygments_lexer": "ipython3",
   "version": "3.8.13"
  },
  "latex_envs": {
   "LaTeX_envs_menu_present": true,
   "autoclose": false,
   "autocomplete": true,
   "bibliofile": "biblio.bib",
   "cite_by": "apalike",
   "current_citInitial": 1,
   "eqLabelWithNumbers": true,
   "eqNumInitial": 1,
   "hotkeys": {
    "equation": "Ctrl-E",
    "itemize": "Ctrl-I"
   },
   "labels_anchors": false,
   "latex_user_defs": false,
   "report_style_numbering": false,
   "user_envs_cfg": false
  },
  "varInspector": {
   "cols": {
    "lenName": 16,
    "lenType": 16,
    "lenVar": 40
   },
   "kernels_config": {
    "python": {
     "delete_cmd_postfix": "",
     "delete_cmd_prefix": "del ",
     "library": "var_list.py",
     "varRefreshCmd": "print(var_dic_list())"
    },
    "r": {
     "delete_cmd_postfix": ") ",
     "delete_cmd_prefix": "rm(",
     "library": "var_list.r",
     "varRefreshCmd": "cat(var_dic_list()) "
    }
   },
   "types_to_exclude": [
    "module",
    "function",
    "builtin_function_or_method",
    "instance",
    "_Feature"
   ],
   "window_display": false
  },
  "widgets": {
   "application/vnd.jupyter.widget-state+json": {
    "092ed342812744d68231cef4377ffbe3": {
     "model_module": "@jupyter-widgets/controls",
     "model_module_version": "1.5.0",
     "model_name": "HTMLModel",
     "state": {
      "_dom_classes": [],
      "_model_module": "@jupyter-widgets/controls",
      "_model_module_version": "1.5.0",
      "_model_name": "HTMLModel",
      "_view_count": null,
      "_view_module": "@jupyter-widgets/controls",
      "_view_module_version": "1.5.0",
      "_view_name": "HTMLView",
      "description": "",
      "description_tooltip": null,
      "layout": "IPY_MODEL_4fa0bc82c0484711b86ad945217451ca",
      "placeholder": "​",
      "style": "IPY_MODEL_7aa937f4072f4222b179b0238394093a",
      "value": ""
     }
    },
    "097ec9cabf7d40328340c1428a4760dd": {
     "model_module": "@jupyter-widgets/base",
     "model_module_version": "1.2.0",
     "model_name": "LayoutModel",
     "state": {
      "_model_module": "@jupyter-widgets/base",
      "_model_module_version": "1.2.0",
      "_model_name": "LayoutModel",
      "_view_count": null,
      "_view_module": "@jupyter-widgets/base",
      "_view_module_version": "1.2.0",
      "_view_name": "LayoutView",
      "align_content": null,
      "align_items": null,
      "align_self": null,
      "border": null,
      "bottom": null,
      "display": null,
      "flex": null,
      "flex_flow": null,
      "grid_area": null,
      "grid_auto_columns": null,
      "grid_auto_flow": null,
      "grid_auto_rows": null,
      "grid_column": null,
      "grid_gap": null,
      "grid_row": null,
      "grid_template_areas": null,
      "grid_template_columns": null,
      "grid_template_rows": null,
      "height": null,
      "justify_content": null,
      "justify_items": null,
      "left": null,
      "margin": null,
      "max_height": null,
      "max_width": null,
      "min_height": null,
      "min_width": null,
      "object_fit": null,
      "object_position": null,
      "order": null,
      "overflow": null,
      "overflow_x": null,
      "overflow_y": null,
      "padding": null,
      "right": null,
      "top": null,
      "visibility": null,
      "width": null
     }
    },
    "1048aa98086742bbaa5bb68c38e9a880": {
     "model_module": "@jupyter-widgets/controls",
     "model_module_version": "1.5.0",
     "model_name": "DescriptionStyleModel",
     "state": {
      "_model_module": "@jupyter-widgets/controls",
      "_model_module_version": "1.5.0",
      "_model_name": "DescriptionStyleModel",
      "_view_count": null,
      "_view_module": "@jupyter-widgets/base",
      "_view_module_version": "1.2.0",
      "_view_name": "StyleView",
      "description_width": ""
     }
    },
    "14ea51290d814cf6ab024456fc01a196": {
     "model_module": "@jupyter-widgets/controls",
     "model_module_version": "1.5.0",
     "model_name": "HTMLModel",
     "state": {
      "_dom_classes": [],
      "_model_module": "@jupyter-widgets/controls",
      "_model_module_version": "1.5.0",
      "_model_name": "HTMLModel",
      "_view_count": null,
      "_view_module": "@jupyter-widgets/controls",
      "_view_module_version": "1.5.0",
      "_view_name": "HTMLView",
      "description": "",
      "description_tooltip": null,
      "layout": "IPY_MODEL_388c93badc3245b8b3d7df9dca40e7b9",
      "placeholder": "​",
      "style": "IPY_MODEL_4a6c21f1b445441c927646024449bc4c",
      "value": ""
     }
    },
    "1bf63ef7915c4f29b4b9bacc8ed9b75d": {
     "model_module": "@jupyter-widgets/base",
     "model_module_version": "1.2.0",
     "model_name": "LayoutModel",
     "state": {
      "_model_module": "@jupyter-widgets/base",
      "_model_module_version": "1.2.0",
      "_model_name": "LayoutModel",
      "_view_count": null,
      "_view_module": "@jupyter-widgets/base",
      "_view_module_version": "1.2.0",
      "_view_name": "LayoutView",
      "align_content": null,
      "align_items": null,
      "align_self": null,
      "border": null,
      "bottom": null,
      "display": null,
      "flex": null,
      "flex_flow": null,
      "grid_area": null,
      "grid_auto_columns": null,
      "grid_auto_flow": null,
      "grid_auto_rows": null,
      "grid_column": null,
      "grid_gap": null,
      "grid_row": null,
      "grid_template_areas": null,
      "grid_template_columns": null,
      "grid_template_rows": null,
      "height": null,
      "justify_content": null,
      "justify_items": null,
      "left": null,
      "margin": null,
      "max_height": null,
      "max_width": null,
      "min_height": null,
      "min_width": null,
      "object_fit": null,
      "object_position": null,
      "order": null,
      "overflow": null,
      "overflow_x": null,
      "overflow_y": null,
      "padding": null,
      "right": null,
      "top": null,
      "visibility": null,
      "width": null
     }
    },
    "1d37e47722014bc9951b8ca1ea74b3af": {
     "model_module": "@jupyter-widgets/controls",
     "model_module_version": "1.5.0",
     "model_name": "HBoxModel",
     "state": {
      "_dom_classes": [],
      "_model_module": "@jupyter-widgets/controls",
      "_model_module_version": "1.5.0",
      "_model_name": "HBoxModel",
      "_view_count": null,
      "_view_module": "@jupyter-widgets/controls",
      "_view_module_version": "1.5.0",
      "_view_name": "HBoxView",
      "box_style": "",
      "children": [
       "IPY_MODEL_bf3bcea1a94d4a08862d362658b87599",
       "IPY_MODEL_9841d2b7ff8f46d1af6339d0f3326b5c",
       "IPY_MODEL_f0d2b64c2cdc46d6a62855f9d839972e"
      ],
      "layout": "IPY_MODEL_d882b3320bdc4a7a8e4cab24505520aa"
     }
    },
    "241f66ce69824edcaf75a7c40c90d210": {
     "model_module": "@jupyter-widgets/controls",
     "model_module_version": "1.5.0",
     "model_name": "HBoxModel",
     "state": {
      "_dom_classes": [],
      "_model_module": "@jupyter-widgets/controls",
      "_model_module_version": "1.5.0",
      "_model_name": "HBoxModel",
      "_view_count": null,
      "_view_module": "@jupyter-widgets/controls",
      "_view_module_version": "1.5.0",
      "_view_name": "HBoxView",
      "box_style": "",
      "children": [
       "IPY_MODEL_5d04659d0cd2454db2004c7a05758efb",
       "IPY_MODEL_9bc78966f7594e888af812d2168adc42",
       "IPY_MODEL_d59c5c1e3f9443bbb4a026e3d4fb5f9f"
      ],
      "layout": "IPY_MODEL_27420ca3588e48b7a25ba56e6b7a85b0"
     }
    },
    "25d48b9479484781beec902d27c5a142": {
     "model_module": "@jupyter-widgets/base",
     "model_module_version": "1.2.0",
     "model_name": "LayoutModel",
     "state": {
      "_model_module": "@jupyter-widgets/base",
      "_model_module_version": "1.2.0",
      "_model_name": "LayoutModel",
      "_view_count": null,
      "_view_module": "@jupyter-widgets/base",
      "_view_module_version": "1.2.0",
      "_view_name": "LayoutView",
      "align_content": null,
      "align_items": null,
      "align_self": null,
      "border": null,
      "bottom": null,
      "display": null,
      "flex": null,
      "flex_flow": null,
      "grid_area": null,
      "grid_auto_columns": null,
      "grid_auto_flow": null,
      "grid_auto_rows": null,
      "grid_column": null,
      "grid_gap": null,
      "grid_row": null,
      "grid_template_areas": null,
      "grid_template_columns": null,
      "grid_template_rows": null,
      "height": null,
      "justify_content": null,
      "justify_items": null,
      "left": null,
      "margin": null,
      "max_height": null,
      "max_width": null,
      "min_height": null,
      "min_width": null,
      "object_fit": null,
      "object_position": null,
      "order": null,
      "overflow": null,
      "overflow_x": null,
      "overflow_y": null,
      "padding": null,
      "right": null,
      "top": null,
      "visibility": null,
      "width": null
     }
    },
    "26c34f676f77413f98e494de2ac87f12": {
     "model_module": "@jupyter-widgets/controls",
     "model_module_version": "1.5.0",
     "model_name": "FloatProgressModel",
     "state": {
      "_dom_classes": [],
      "_model_module": "@jupyter-widgets/controls",
      "_model_module_version": "1.5.0",
      "_model_name": "FloatProgressModel",
      "_view_count": null,
      "_view_module": "@jupyter-widgets/controls",
      "_view_module_version": "1.5.0",
      "_view_name": "ProgressView",
      "bar_style": "info",
      "description": "",
      "description_tooltip": null,
      "layout": "IPY_MODEL_eb3ff327ff694be0897288c58d36bdeb",
      "max": 1,
      "min": 0,
      "orientation": "horizontal",
      "style": "IPY_MODEL_b28dafd6957a4db383e97fe2e73101fa",
      "value": 1
     }
    },
    "26e6690e507340d886929fd30b980da5": {
     "model_module": "@jupyter-widgets/base",
     "model_module_version": "1.2.0",
     "model_name": "LayoutModel",
     "state": {
      "_model_module": "@jupyter-widgets/base",
      "_model_module_version": "1.2.0",
      "_model_name": "LayoutModel",
      "_view_count": null,
      "_view_module": "@jupyter-widgets/base",
      "_view_module_version": "1.2.0",
      "_view_name": "LayoutView",
      "align_content": null,
      "align_items": null,
      "align_self": null,
      "border": null,
      "bottom": null,
      "display": null,
      "flex": null,
      "flex_flow": null,
      "grid_area": null,
      "grid_auto_columns": null,
      "grid_auto_flow": null,
      "grid_auto_rows": null,
      "grid_column": null,
      "grid_gap": null,
      "grid_row": null,
      "grid_template_areas": null,
      "grid_template_columns": null,
      "grid_template_rows": null,
      "height": null,
      "justify_content": null,
      "justify_items": null,
      "left": null,
      "margin": null,
      "max_height": null,
      "max_width": null,
      "min_height": null,
      "min_width": null,
      "object_fit": null,
      "object_position": null,
      "order": null,
      "overflow": null,
      "overflow_x": null,
      "overflow_y": null,
      "padding": null,
      "right": null,
      "top": null,
      "visibility": null,
      "width": null
     }
    },
    "27420ca3588e48b7a25ba56e6b7a85b0": {
     "model_module": "@jupyter-widgets/base",
     "model_module_version": "1.2.0",
     "model_name": "LayoutModel",
     "state": {
      "_model_module": "@jupyter-widgets/base",
      "_model_module_version": "1.2.0",
      "_model_name": "LayoutModel",
      "_view_count": null,
      "_view_module": "@jupyter-widgets/base",
      "_view_module_version": "1.2.0",
      "_view_name": "LayoutView",
      "align_content": null,
      "align_items": null,
      "align_self": null,
      "border": null,
      "bottom": null,
      "display": null,
      "flex": null,
      "flex_flow": null,
      "grid_area": null,
      "grid_auto_columns": null,
      "grid_auto_flow": null,
      "grid_auto_rows": null,
      "grid_column": null,
      "grid_gap": null,
      "grid_row": null,
      "grid_template_areas": null,
      "grid_template_columns": null,
      "grid_template_rows": null,
      "height": null,
      "justify_content": null,
      "justify_items": null,
      "left": null,
      "margin": null,
      "max_height": null,
      "max_width": null,
      "min_height": null,
      "min_width": null,
      "object_fit": null,
      "object_position": null,
      "order": null,
      "overflow": null,
      "overflow_x": null,
      "overflow_y": null,
      "padding": null,
      "right": null,
      "top": null,
      "visibility": null,
      "width": null
     }
    },
    "32892ba55bc7434d958dc43b76c44f6c": {
     "model_module": "@jupyter-widgets/controls",
     "model_module_version": "1.5.0",
     "model_name": "DescriptionStyleModel",
     "state": {
      "_model_module": "@jupyter-widgets/controls",
      "_model_module_version": "1.5.0",
      "_model_name": "DescriptionStyleModel",
      "_view_count": null,
      "_view_module": "@jupyter-widgets/base",
      "_view_module_version": "1.2.0",
      "_view_name": "StyleView",
      "description_width": ""
     }
    },
    "35e9b4d388e340baaf13a9882275d511": {
     "model_module": "@jupyter-widgets/base",
     "model_module_version": "1.2.0",
     "model_name": "LayoutModel",
     "state": {
      "_model_module": "@jupyter-widgets/base",
      "_model_module_version": "1.2.0",
      "_model_name": "LayoutModel",
      "_view_count": null,
      "_view_module": "@jupyter-widgets/base",
      "_view_module_version": "1.2.0",
      "_view_name": "LayoutView",
      "align_content": null,
      "align_items": null,
      "align_self": null,
      "border": null,
      "bottom": null,
      "display": null,
      "flex": null,
      "flex_flow": null,
      "grid_area": null,
      "grid_auto_columns": null,
      "grid_auto_flow": null,
      "grid_auto_rows": null,
      "grid_column": null,
      "grid_gap": null,
      "grid_row": null,
      "grid_template_areas": null,
      "grid_template_columns": null,
      "grid_template_rows": null,
      "height": null,
      "justify_content": null,
      "justify_items": null,
      "left": null,
      "margin": null,
      "max_height": null,
      "max_width": null,
      "min_height": null,
      "min_width": null,
      "object_fit": null,
      "object_position": null,
      "order": null,
      "overflow": null,
      "overflow_x": null,
      "overflow_y": null,
      "padding": null,
      "right": null,
      "top": null,
      "visibility": null,
      "width": null
     }
    },
    "379934a97bc341eab4603ba5a7f23147": {
     "model_module": "@jupyter-widgets/base",
     "model_module_version": "1.2.0",
     "model_name": "LayoutModel",
     "state": {
      "_model_module": "@jupyter-widgets/base",
      "_model_module_version": "1.2.0",
      "_model_name": "LayoutModel",
      "_view_count": null,
      "_view_module": "@jupyter-widgets/base",
      "_view_module_version": "1.2.0",
      "_view_name": "LayoutView",
      "align_content": null,
      "align_items": null,
      "align_self": null,
      "border": null,
      "bottom": null,
      "display": null,
      "flex": null,
      "flex_flow": null,
      "grid_area": null,
      "grid_auto_columns": null,
      "grid_auto_flow": null,
      "grid_auto_rows": null,
      "grid_column": null,
      "grid_gap": null,
      "grid_row": null,
      "grid_template_areas": null,
      "grid_template_columns": null,
      "grid_template_rows": null,
      "height": null,
      "justify_content": null,
      "justify_items": null,
      "left": null,
      "margin": null,
      "max_height": null,
      "max_width": null,
      "min_height": null,
      "min_width": null,
      "object_fit": null,
      "object_position": null,
      "order": null,
      "overflow": null,
      "overflow_x": null,
      "overflow_y": null,
      "padding": null,
      "right": null,
      "top": null,
      "visibility": null,
      "width": "20px"
     }
    },
    "388c93badc3245b8b3d7df9dca40e7b9": {
     "model_module": "@jupyter-widgets/base",
     "model_module_version": "1.2.0",
     "model_name": "LayoutModel",
     "state": {
      "_model_module": "@jupyter-widgets/base",
      "_model_module_version": "1.2.0",
      "_model_name": "LayoutModel",
      "_view_count": null,
      "_view_module": "@jupyter-widgets/base",
      "_view_module_version": "1.2.0",
      "_view_name": "LayoutView",
      "align_content": null,
      "align_items": null,
      "align_self": null,
      "border": null,
      "bottom": null,
      "display": null,
      "flex": null,
      "flex_flow": null,
      "grid_area": null,
      "grid_auto_columns": null,
      "grid_auto_flow": null,
      "grid_auto_rows": null,
      "grid_column": null,
      "grid_gap": null,
      "grid_row": null,
      "grid_template_areas": null,
      "grid_template_columns": null,
      "grid_template_rows": null,
      "height": null,
      "justify_content": null,
      "justify_items": null,
      "left": null,
      "margin": null,
      "max_height": null,
      "max_width": null,
      "min_height": null,
      "min_width": null,
      "object_fit": null,
      "object_position": null,
      "order": null,
      "overflow": null,
      "overflow_x": null,
      "overflow_y": null,
      "padding": null,
      "right": null,
      "top": null,
      "visibility": null,
      "width": null
     }
    },
    "38daeadf75cb47c1a87b9bac4a786ea8": {
     "model_module": "@jupyter-widgets/base",
     "model_module_version": "1.2.0",
     "model_name": "LayoutModel",
     "state": {
      "_model_module": "@jupyter-widgets/base",
      "_model_module_version": "1.2.0",
      "_model_name": "LayoutModel",
      "_view_count": null,
      "_view_module": "@jupyter-widgets/base",
      "_view_module_version": "1.2.0",
      "_view_name": "LayoutView",
      "align_content": null,
      "align_items": null,
      "align_self": null,
      "border": null,
      "bottom": null,
      "display": null,
      "flex": null,
      "flex_flow": null,
      "grid_area": null,
      "grid_auto_columns": null,
      "grid_auto_flow": null,
      "grid_auto_rows": null,
      "grid_column": null,
      "grid_gap": null,
      "grid_row": null,
      "grid_template_areas": null,
      "grid_template_columns": null,
      "grid_template_rows": null,
      "height": null,
      "justify_content": null,
      "justify_items": null,
      "left": null,
      "margin": null,
      "max_height": null,
      "max_width": null,
      "min_height": null,
      "min_width": null,
      "object_fit": null,
      "object_position": null,
      "order": null,
      "overflow": null,
      "overflow_x": null,
      "overflow_y": null,
      "padding": null,
      "right": null,
      "top": null,
      "visibility": null,
      "width": null
     }
    },
    "409fc14f343a4bef9f644a78b32f3a81": {
     "model_module": "@jupyter-widgets/controls",
     "model_module_version": "1.5.0",
     "model_name": "HTMLModel",
     "state": {
      "_dom_classes": [],
      "_model_module": "@jupyter-widgets/controls",
      "_model_module_version": "1.5.0",
      "_model_name": "HTMLModel",
      "_view_count": null,
      "_view_module": "@jupyter-widgets/controls",
      "_view_module_version": "1.5.0",
      "_view_name": "HTMLView",
      "description": "",
      "description_tooltip": null,
      "layout": "IPY_MODEL_35e9b4d388e340baaf13a9882275d511",
      "placeholder": "​",
      "style": "IPY_MODEL_5fd2994502124ab49266657d3f59c8b8",
      "value": " 371/372 [00:00&lt;00:00, 4876.10 examples/s]"
     }
    },
    "421228241683440bbd067fb7edfc0172": {
     "model_module": "@jupyter-widgets/base",
     "model_module_version": "1.2.0",
     "model_name": "LayoutModel",
     "state": {
      "_model_module": "@jupyter-widgets/base",
      "_model_module_version": "1.2.0",
      "_model_name": "LayoutModel",
      "_view_count": null,
      "_view_module": "@jupyter-widgets/base",
      "_view_module_version": "1.2.0",
      "_view_name": "LayoutView",
      "align_content": null,
      "align_items": null,
      "align_self": null,
      "border": null,
      "bottom": null,
      "display": null,
      "flex": null,
      "flex_flow": null,
      "grid_area": null,
      "grid_auto_columns": null,
      "grid_auto_flow": null,
      "grid_auto_rows": null,
      "grid_column": null,
      "grid_gap": null,
      "grid_row": null,
      "grid_template_areas": null,
      "grid_template_columns": null,
      "grid_template_rows": null,
      "height": null,
      "justify_content": null,
      "justify_items": null,
      "left": null,
      "margin": null,
      "max_height": null,
      "max_width": null,
      "min_height": null,
      "min_width": null,
      "object_fit": null,
      "object_position": null,
      "order": null,
      "overflow": null,
      "overflow_x": null,
      "overflow_y": null,
      "padding": null,
      "right": null,
      "top": null,
      "visibility": null,
      "width": null
     }
    },
    "4a6c21f1b445441c927646024449bc4c": {
     "model_module": "@jupyter-widgets/controls",
     "model_module_version": "1.5.0",
     "model_name": "DescriptionStyleModel",
     "state": {
      "_model_module": "@jupyter-widgets/controls",
      "_model_module_version": "1.5.0",
      "_model_name": "DescriptionStyleModel",
      "_view_count": null,
      "_view_module": "@jupyter-widgets/base",
      "_view_module_version": "1.2.0",
      "_view_name": "StyleView",
      "description_width": ""
     }
    },
    "4fa0bc82c0484711b86ad945217451ca": {
     "model_module": "@jupyter-widgets/base",
     "model_module_version": "1.2.0",
     "model_name": "LayoutModel",
     "state": {
      "_model_module": "@jupyter-widgets/base",
      "_model_module_version": "1.2.0",
      "_model_name": "LayoutModel",
      "_view_count": null,
      "_view_module": "@jupyter-widgets/base",
      "_view_module_version": "1.2.0",
      "_view_name": "LayoutView",
      "align_content": null,
      "align_items": null,
      "align_self": null,
      "border": null,
      "bottom": null,
      "display": null,
      "flex": null,
      "flex_flow": null,
      "grid_area": null,
      "grid_auto_columns": null,
      "grid_auto_flow": null,
      "grid_auto_rows": null,
      "grid_column": null,
      "grid_gap": null,
      "grid_row": null,
      "grid_template_areas": null,
      "grid_template_columns": null,
      "grid_template_rows": null,
      "height": null,
      "justify_content": null,
      "justify_items": null,
      "left": null,
      "margin": null,
      "max_height": null,
      "max_width": null,
      "min_height": null,
      "min_width": null,
      "object_fit": null,
      "object_position": null,
      "order": null,
      "overflow": null,
      "overflow_x": null,
      "overflow_y": null,
      "padding": null,
      "right": null,
      "top": null,
      "visibility": null,
      "width": null
     }
    },
    "5094712cf66a4e6b8c92225693d9b6ac": {
     "model_module": "@jupyter-widgets/controls",
     "model_module_version": "1.5.0",
     "model_name": "ProgressStyleModel",
     "state": {
      "_model_module": "@jupyter-widgets/controls",
      "_model_module_version": "1.5.0",
      "_model_name": "ProgressStyleModel",
      "_view_count": null,
      "_view_module": "@jupyter-widgets/base",
      "_view_module_version": "1.2.0",
      "_view_name": "StyleView",
      "bar_color": null,
      "description_width": ""
     }
    },
    "52dd03af73084886a792a89a888de348": {
     "model_module": "@jupyter-widgets/controls",
     "model_module_version": "1.5.0",
     "model_name": "HBoxModel",
     "state": {
      "_dom_classes": [],
      "_model_module": "@jupyter-widgets/controls",
      "_model_module_version": "1.5.0",
      "_model_name": "HBoxModel",
      "_view_count": null,
      "_view_module": "@jupyter-widgets/controls",
      "_view_module_version": "1.5.0",
      "_view_name": "HBoxView",
      "box_style": "",
      "children": [
       "IPY_MODEL_092ed342812744d68231cef4377ffbe3",
       "IPY_MODEL_a584dcb5768c4366a01df1b073cb398b",
       "IPY_MODEL_84d5d0bae4e6444bbbada911c5bae19e"
      ],
      "layout": "IPY_MODEL_1bf63ef7915c4f29b4b9bacc8ed9b75d"
     }
    },
    "5449ee24eb684dd5bf1a36f1c9eb7a5d": {
     "model_module": "@jupyter-widgets/controls",
     "model_module_version": "1.5.0",
     "model_name": "DescriptionStyleModel",
     "state": {
      "_model_module": "@jupyter-widgets/controls",
      "_model_module_version": "1.5.0",
      "_model_name": "DescriptionStyleModel",
      "_view_count": null,
      "_view_module": "@jupyter-widgets/base",
      "_view_module_version": "1.2.0",
      "_view_name": "StyleView",
      "description_width": ""
     }
    },
    "5744f72ce9bb4124b5e84f80b13a2bc1": {
     "model_module": "@jupyter-widgets/controls",
     "model_module_version": "1.5.0",
     "model_name": "ProgressStyleModel",
     "state": {
      "_model_module": "@jupyter-widgets/controls",
      "_model_module_version": "1.5.0",
      "_model_name": "ProgressStyleModel",
      "_view_count": null,
      "_view_module": "@jupyter-widgets/base",
      "_view_module_version": "1.2.0",
      "_view_name": "StyleView",
      "bar_color": null,
      "description_width": ""
     }
    },
    "5d04659d0cd2454db2004c7a05758efb": {
     "model_module": "@jupyter-widgets/controls",
     "model_module_version": "1.5.0",
     "model_name": "HTMLModel",
     "state": {
      "_dom_classes": [],
      "_model_module": "@jupyter-widgets/controls",
      "_model_module_version": "1.5.0",
      "_model_name": "HTMLModel",
      "_view_count": null,
      "_view_module": "@jupyter-widgets/controls",
      "_view_module_version": "1.5.0",
      "_view_name": "HTMLView",
      "description": "",
      "description_tooltip": null,
      "layout": "IPY_MODEL_6b589ce33f624a02bf4a34f518eb7b23",
      "placeholder": "​",
      "style": "IPY_MODEL_5449ee24eb684dd5bf1a36f1c9eb7a5d",
      "value": "100%"
     }
    },
    "5fd2994502124ab49266657d3f59c8b8": {
     "model_module": "@jupyter-widgets/controls",
     "model_module_version": "1.5.0",
     "model_name": "DescriptionStyleModel",
     "state": {
      "_model_module": "@jupyter-widgets/controls",
      "_model_module_version": "1.5.0",
      "_model_name": "DescriptionStyleModel",
      "_view_count": null,
      "_view_module": "@jupyter-widgets/base",
      "_view_module_version": "1.2.0",
      "_view_name": "StyleView",
      "description_width": ""
     }
    },
    "647d37af077d4929879c0848872fde58": {
     "model_module": "@jupyter-widgets/controls",
     "model_module_version": "1.5.0",
     "model_name": "HBoxModel",
     "state": {
      "_dom_classes": [],
      "_model_module": "@jupyter-widgets/controls",
      "_model_module_version": "1.5.0",
      "_model_name": "HBoxModel",
      "_view_count": null,
      "_view_module": "@jupyter-widgets/controls",
      "_view_module_version": "1.5.0",
      "_view_name": "HBoxView",
      "box_style": "",
      "children": [
       "IPY_MODEL_8da15ad6911a4a2cb65639eb35920d81",
       "IPY_MODEL_88bbe1e694c34a2e9fbbc947b1cc60ba",
       "IPY_MODEL_e6d93ca805044cca851dcbc46c3b5969"
      ],
      "layout": "IPY_MODEL_c62d2bfb394048a5a2c488e7c9d8e920"
     }
    },
    "6b589ce33f624a02bf4a34f518eb7b23": {
     "model_module": "@jupyter-widgets/base",
     "model_module_version": "1.2.0",
     "model_name": "LayoutModel",
     "state": {
      "_model_module": "@jupyter-widgets/base",
      "_model_module_version": "1.2.0",
      "_model_name": "LayoutModel",
      "_view_count": null,
      "_view_module": "@jupyter-widgets/base",
      "_view_module_version": "1.2.0",
      "_view_name": "LayoutView",
      "align_content": null,
      "align_items": null,
      "align_self": null,
      "border": null,
      "bottom": null,
      "display": null,
      "flex": null,
      "flex_flow": null,
      "grid_area": null,
      "grid_auto_columns": null,
      "grid_auto_flow": null,
      "grid_auto_rows": null,
      "grid_column": null,
      "grid_gap": null,
      "grid_row": null,
      "grid_template_areas": null,
      "grid_template_columns": null,
      "grid_template_rows": null,
      "height": null,
      "justify_content": null,
      "justify_items": null,
      "left": null,
      "margin": null,
      "max_height": null,
      "max_width": null,
      "min_height": null,
      "min_width": null,
      "object_fit": null,
      "object_position": null,
      "order": null,
      "overflow": null,
      "overflow_x": null,
      "overflow_y": null,
      "padding": null,
      "right": null,
      "top": null,
      "visibility": null,
      "width": null
     }
    },
    "6ceef0b80c794ee5b367d4ba2f0aeaf3": {
     "model_module": "@jupyter-widgets/controls",
     "model_module_version": "1.5.0",
     "model_name": "HTMLModel",
     "state": {
      "_dom_classes": [],
      "_model_module": "@jupyter-widgets/controls",
      "_model_module_version": "1.5.0",
      "_model_name": "HTMLModel",
      "_view_count": null,
      "_view_module": "@jupyter-widgets/controls",
      "_view_module_version": "1.5.0",
      "_view_name": "HTMLView",
      "description": "",
      "description_tooltip": null,
      "layout": "IPY_MODEL_25d48b9479484781beec902d27c5a142",
      "placeholder": "​",
      "style": "IPY_MODEL_b8cb87eba87149bea28a246334a67b28",
      "value": "100%"
     }
    },
    "71c1f92edab64a709034d718f6cfc3df": {
     "model_module": "@jupyter-widgets/controls",
     "model_module_version": "1.5.0",
     "model_name": "HTMLModel",
     "state": {
      "_dom_classes": [],
      "_model_module": "@jupyter-widgets/controls",
      "_model_module_version": "1.5.0",
      "_model_name": "HTMLModel",
      "_view_count": null,
      "_view_module": "@jupyter-widgets/controls",
      "_view_module_version": "1.5.0",
      "_view_name": "HTMLView",
      "description": "",
      "description_tooltip": null,
      "layout": "IPY_MODEL_c7fc2d634d674b25892ade53e4a521ff",
      "placeholder": "​",
      "style": "IPY_MODEL_73a782e665424cf9b1a6a56e877e72bf",
      "value": " 2376/0 [00:01&lt;00:00, 1947.24 examples/s]"
     }
    },
    "73a782e665424cf9b1a6a56e877e72bf": {
     "model_module": "@jupyter-widgets/controls",
     "model_module_version": "1.5.0",
     "model_name": "DescriptionStyleModel",
     "state": {
      "_model_module": "@jupyter-widgets/controls",
      "_model_module_version": "1.5.0",
      "_model_name": "DescriptionStyleModel",
      "_view_count": null,
      "_view_module": "@jupyter-widgets/base",
      "_view_module_version": "1.2.0",
      "_view_name": "StyleView",
      "description_width": ""
     }
    },
    "75b6bd03fbdb4080bc21028d57f79ab8": {
     "model_module": "@jupyter-widgets/controls",
     "model_module_version": "1.5.0",
     "model_name": "DescriptionStyleModel",
     "state": {
      "_model_module": "@jupyter-widgets/controls",
      "_model_module_version": "1.5.0",
      "_model_name": "DescriptionStyleModel",
      "_view_count": null,
      "_view_module": "@jupyter-widgets/base",
      "_view_module_version": "1.2.0",
      "_view_name": "StyleView",
      "description_width": ""
     }
    },
    "7aa937f4072f4222b179b0238394093a": {
     "model_module": "@jupyter-widgets/controls",
     "model_module_version": "1.5.0",
     "model_name": "DescriptionStyleModel",
     "state": {
      "_model_module": "@jupyter-widgets/controls",
      "_model_module_version": "1.5.0",
      "_model_name": "DescriptionStyleModel",
      "_view_count": null,
      "_view_module": "@jupyter-widgets/base",
      "_view_module_version": "1.2.0",
      "_view_name": "StyleView",
      "description_width": ""
     }
    },
    "81fecaba9dad4f0d8a0e7b9cff5131e7": {
     "model_module": "@jupyter-widgets/controls",
     "model_module_version": "1.5.0",
     "model_name": "HBoxModel",
     "state": {
      "_dom_classes": [],
      "_model_module": "@jupyter-widgets/controls",
      "_model_module_version": "1.5.0",
      "_model_name": "HBoxModel",
      "_view_count": null,
      "_view_module": "@jupyter-widgets/controls",
      "_view_module_version": "1.5.0",
      "_view_name": "HBoxView",
      "box_style": "",
      "children": [
       "IPY_MODEL_14ea51290d814cf6ab024456fc01a196",
       "IPY_MODEL_26c34f676f77413f98e494de2ac87f12",
       "IPY_MODEL_71c1f92edab64a709034d718f6cfc3df"
      ],
      "layout": "IPY_MODEL_421228241683440bbd067fb7edfc0172"
     }
    },
    "84d5d0bae4e6444bbbada911c5bae19e": {
     "model_module": "@jupyter-widgets/controls",
     "model_module_version": "1.5.0",
     "model_name": "HTMLModel",
     "state": {
      "_dom_classes": [],
      "_model_module": "@jupyter-widgets/controls",
      "_model_module_version": "1.5.0",
      "_model_name": "HTMLModel",
      "_view_count": null,
      "_view_module": "@jupyter-widgets/controls",
      "_view_module_version": "1.5.0",
      "_view_name": "HTMLView",
      "description": "",
      "description_tooltip": null,
      "layout": "IPY_MODEL_c0e2a9f50c094779a49d9e961c90c4b2",
      "placeholder": "​",
      "style": "IPY_MODEL_dea473f999c846e18f4749a715e2c9eb",
      "value": " 267/0 [00:00&lt;00:00, 1441.54 examples/s]"
     }
    },
    "88bbe1e694c34a2e9fbbc947b1cc60ba": {
     "model_module": "@jupyter-widgets/controls",
     "model_module_version": "1.5.0",
     "model_name": "FloatProgressModel",
     "state": {
      "_dom_classes": [],
      "_model_module": "@jupyter-widgets/controls",
      "_model_module_version": "1.5.0",
      "_model_name": "FloatProgressModel",
      "_view_count": null,
      "_view_module": "@jupyter-widgets/controls",
      "_view_module_version": "1.5.0",
      "_view_name": "ProgressView",
      "bar_style": "success",
      "description": "",
      "description_tooltip": null,
      "layout": "IPY_MODEL_379934a97bc341eab4603ba5a7f23147",
      "max": 1,
      "min": 0,
      "orientation": "horizontal",
      "style": "IPY_MODEL_e205386785954580a1b2297923e4793c",
      "value": 1
     }
    },
    "8da15ad6911a4a2cb65639eb35920d81": {
     "model_module": "@jupyter-widgets/controls",
     "model_module_version": "1.5.0",
     "model_name": "HTMLModel",
     "state": {
      "_dom_classes": [],
      "_model_module": "@jupyter-widgets/controls",
      "_model_module_version": "1.5.0",
      "_model_name": "HTMLModel",
      "_view_count": null,
      "_view_module": "@jupyter-widgets/controls",
      "_view_module_version": "1.5.0",
      "_view_name": "HTMLView",
      "description": "",
      "description_tooltip": null,
      "layout": "IPY_MODEL_26e6690e507340d886929fd30b980da5",
      "placeholder": "​",
      "style": "IPY_MODEL_df266ff7b8f641b4a7644825665802a9",
      "value": "Dl Size...: 100%"
     }
    },
    "9841d2b7ff8f46d1af6339d0f3326b5c": {
     "model_module": "@jupyter-widgets/controls",
     "model_module_version": "1.5.0",
     "model_name": "FloatProgressModel",
     "state": {
      "_dom_classes": [],
      "_model_module": "@jupyter-widgets/controls",
      "_model_module_version": "1.5.0",
      "_model_name": "FloatProgressModel",
      "_view_count": null,
      "_view_module": "@jupyter-widgets/controls",
      "_view_module_version": "1.5.0",
      "_view_name": "ProgressView",
      "bar_style": "success",
      "description": "",
      "description_tooltip": null,
      "layout": "IPY_MODEL_f57d9152e3de4724815e7cc7cf895b52",
      "max": 1,
      "min": 0,
      "orientation": "horizontal",
      "style": "IPY_MODEL_c5b6999fd1284db8be9dd047e7f190f1",
      "value": 1
     }
    },
    "9bc78966f7594e888af812d2168adc42": {
     "model_module": "@jupyter-widgets/controls",
     "model_module_version": "1.5.0",
     "model_name": "FloatProgressModel",
     "state": {
      "_dom_classes": [],
      "_model_module": "@jupyter-widgets/controls",
      "_model_module_version": "1.5.0",
      "_model_name": "FloatProgressModel",
      "_view_count": null,
      "_view_module": "@jupyter-widgets/controls",
      "_view_module_version": "1.5.0",
      "_view_name": "ProgressView",
      "bar_style": "danger",
      "description": "",
      "description_tooltip": null,
      "layout": "IPY_MODEL_cce2593784654ab6bd935d6d809d7097",
      "max": 2520,
      "min": 0,
      "orientation": "horizontal",
      "style": "IPY_MODEL_5744f72ce9bb4124b5e84f80b13a2bc1",
      "value": 2519
     }
    },
    "a584dcb5768c4366a01df1b073cb398b": {
     "model_module": "@jupyter-widgets/controls",
     "model_module_version": "1.5.0",
     "model_name": "FloatProgressModel",
     "state": {
      "_dom_classes": [],
      "_model_module": "@jupyter-widgets/controls",
      "_model_module_version": "1.5.0",
      "_model_name": "FloatProgressModel",
      "_view_count": null,
      "_view_module": "@jupyter-widgets/controls",
      "_view_module_version": "1.5.0",
      "_view_name": "ProgressView",
      "bar_style": "info",
      "description": "",
      "description_tooltip": null,
      "layout": "IPY_MODEL_c358ac0800d748dd8794dd82b45bf68b",
      "max": 1,
      "min": 0,
      "orientation": "horizontal",
      "style": "IPY_MODEL_d0544eed111b46e9a70b74c6a1c8b1d0",
      "value": 1
     }
    },
    "a66816af3d0e43fa84fb8f6162e3361c": {
     "model_module": "@jupyter-widgets/base",
     "model_module_version": "1.2.0",
     "model_name": "LayoutModel",
     "state": {
      "_model_module": "@jupyter-widgets/base",
      "_model_module_version": "1.2.0",
      "_model_name": "LayoutModel",
      "_view_count": null,
      "_view_module": "@jupyter-widgets/base",
      "_view_module_version": "1.2.0",
      "_view_name": "LayoutView",
      "align_content": null,
      "align_items": null,
      "align_self": null,
      "border": null,
      "bottom": null,
      "display": null,
      "flex": null,
      "flex_flow": null,
      "grid_area": null,
      "grid_auto_columns": null,
      "grid_auto_flow": null,
      "grid_auto_rows": null,
      "grid_column": null,
      "grid_gap": null,
      "grid_row": null,
      "grid_template_areas": null,
      "grid_template_columns": null,
      "grid_template_rows": null,
      "height": null,
      "justify_content": null,
      "justify_items": null,
      "left": null,
      "margin": null,
      "max_height": null,
      "max_width": null,
      "min_height": null,
      "min_width": null,
      "object_fit": null,
      "object_position": null,
      "order": null,
      "overflow": null,
      "overflow_x": null,
      "overflow_y": null,
      "padding": null,
      "right": null,
      "top": null,
      "visibility": null,
      "width": null
     }
    },
    "a9a45d102b144a14b2a333f7d4b1b175": {
     "model_module": "@jupyter-widgets/controls",
     "model_module_version": "1.5.0",
     "model_name": "DescriptionStyleModel",
     "state": {
      "_model_module": "@jupyter-widgets/controls",
      "_model_module_version": "1.5.0",
      "_model_name": "DescriptionStyleModel",
      "_view_count": null,
      "_view_module": "@jupyter-widgets/base",
      "_view_module_version": "1.2.0",
      "_view_name": "StyleView",
      "description_width": ""
     }
    },
    "ace6dbd104ae4cb1b9f84b541a1f6239": {
     "model_module": "@jupyter-widgets/base",
     "model_module_version": "1.2.0",
     "model_name": "LayoutModel",
     "state": {
      "_model_module": "@jupyter-widgets/base",
      "_model_module_version": "1.2.0",
      "_model_name": "LayoutModel",
      "_view_count": null,
      "_view_module": "@jupyter-widgets/base",
      "_view_module_version": "1.2.0",
      "_view_name": "LayoutView",
      "align_content": null,
      "align_items": null,
      "align_self": null,
      "border": null,
      "bottom": null,
      "display": null,
      "flex": null,
      "flex_flow": null,
      "grid_area": null,
      "grid_auto_columns": null,
      "grid_auto_flow": null,
      "grid_auto_rows": null,
      "grid_column": null,
      "grid_gap": null,
      "grid_row": null,
      "grid_template_areas": null,
      "grid_template_columns": null,
      "grid_template_rows": null,
      "height": null,
      "justify_content": null,
      "justify_items": null,
      "left": null,
      "margin": null,
      "max_height": null,
      "max_width": null,
      "min_height": null,
      "min_width": null,
      "object_fit": null,
      "object_position": null,
      "order": null,
      "overflow": null,
      "overflow_x": null,
      "overflow_y": null,
      "padding": null,
      "right": null,
      "top": null,
      "visibility": null,
      "width": null
     }
    },
    "b28dafd6957a4db383e97fe2e73101fa": {
     "model_module": "@jupyter-widgets/controls",
     "model_module_version": "1.5.0",
     "model_name": "ProgressStyleModel",
     "state": {
      "_model_module": "@jupyter-widgets/controls",
      "_model_module_version": "1.5.0",
      "_model_name": "ProgressStyleModel",
      "_view_count": null,
      "_view_module": "@jupyter-widgets/base",
      "_view_module_version": "1.2.0",
      "_view_name": "StyleView",
      "bar_color": null,
      "description_width": ""
     }
    },
    "b8cb87eba87149bea28a246334a67b28": {
     "model_module": "@jupyter-widgets/controls",
     "model_module_version": "1.5.0",
     "model_name": "DescriptionStyleModel",
     "state": {
      "_model_module": "@jupyter-widgets/controls",
      "_model_module_version": "1.5.0",
      "_model_name": "DescriptionStyleModel",
      "_view_count": null,
      "_view_module": "@jupyter-widgets/base",
      "_view_module_version": "1.2.0",
      "_view_name": "StyleView",
      "description_width": ""
     }
    },
    "ba9d12b69415407db302dceb514c7eae": {
     "model_module": "@jupyter-widgets/base",
     "model_module_version": "1.2.0",
     "model_name": "LayoutModel",
     "state": {
      "_model_module": "@jupyter-widgets/base",
      "_model_module_version": "1.2.0",
      "_model_name": "LayoutModel",
      "_view_count": null,
      "_view_module": "@jupyter-widgets/base",
      "_view_module_version": "1.2.0",
      "_view_name": "LayoutView",
      "align_content": null,
      "align_items": null,
      "align_self": null,
      "border": null,
      "bottom": null,
      "display": null,
      "flex": null,
      "flex_flow": null,
      "grid_area": null,
      "grid_auto_columns": null,
      "grid_auto_flow": null,
      "grid_auto_rows": null,
      "grid_column": null,
      "grid_gap": null,
      "grid_row": null,
      "grid_template_areas": null,
      "grid_template_columns": null,
      "grid_template_rows": null,
      "height": null,
      "justify_content": null,
      "justify_items": null,
      "left": null,
      "margin": null,
      "max_height": null,
      "max_width": null,
      "min_height": null,
      "min_width": null,
      "object_fit": null,
      "object_position": null,
      "order": null,
      "overflow": null,
      "overflow_x": null,
      "overflow_y": null,
      "padding": null,
      "right": null,
      "top": null,
      "visibility": null,
      "width": null
     }
    },
    "bf3bcea1a94d4a08862d362658b87599": {
     "model_module": "@jupyter-widgets/controls",
     "model_module_version": "1.5.0",
     "model_name": "HTMLModel",
     "state": {
      "_dom_classes": [],
      "_model_module": "@jupyter-widgets/controls",
      "_model_module_version": "1.5.0",
      "_model_name": "HTMLModel",
      "_view_count": null,
      "_view_module": "@jupyter-widgets/controls",
      "_view_module_version": "1.5.0",
      "_view_name": "HTMLView",
      "description": "",
      "description_tooltip": null,
      "layout": "IPY_MODEL_a66816af3d0e43fa84fb8f6162e3361c",
      "placeholder": "​",
      "style": "IPY_MODEL_1048aa98086742bbaa5bb68c38e9a880",
      "value": "Dl Completed...: 100%"
     }
    },
    "c0e2a9f50c094779a49d9e961c90c4b2": {
     "model_module": "@jupyter-widgets/base",
     "model_module_version": "1.2.0",
     "model_name": "LayoutModel",
     "state": {
      "_model_module": "@jupyter-widgets/base",
      "_model_module_version": "1.2.0",
      "_model_name": "LayoutModel",
      "_view_count": null,
      "_view_module": "@jupyter-widgets/base",
      "_view_module_version": "1.2.0",
      "_view_name": "LayoutView",
      "align_content": null,
      "align_items": null,
      "align_self": null,
      "border": null,
      "bottom": null,
      "display": null,
      "flex": null,
      "flex_flow": null,
      "grid_area": null,
      "grid_auto_columns": null,
      "grid_auto_flow": null,
      "grid_auto_rows": null,
      "grid_column": null,
      "grid_gap": null,
      "grid_row": null,
      "grid_template_areas": null,
      "grid_template_columns": null,
      "grid_template_rows": null,
      "height": null,
      "justify_content": null,
      "justify_items": null,
      "left": null,
      "margin": null,
      "max_height": null,
      "max_width": null,
      "min_height": null,
      "min_width": null,
      "object_fit": null,
      "object_position": null,
      "order": null,
      "overflow": null,
      "overflow_x": null,
      "overflow_y": null,
      "padding": null,
      "right": null,
      "top": null,
      "visibility": null,
      "width": null
     }
    },
    "c2463911bc95478a8f05485d60c06890": {
     "model_module": "@jupyter-widgets/base",
     "model_module_version": "1.2.0",
     "model_name": "LayoutModel",
     "state": {
      "_model_module": "@jupyter-widgets/base",
      "_model_module_version": "1.2.0",
      "_model_name": "LayoutModel",
      "_view_count": null,
      "_view_module": "@jupyter-widgets/base",
      "_view_module_version": "1.2.0",
      "_view_name": "LayoutView",
      "align_content": null,
      "align_items": null,
      "align_self": null,
      "border": null,
      "bottom": null,
      "display": null,
      "flex": null,
      "flex_flow": null,
      "grid_area": null,
      "grid_auto_columns": null,
      "grid_auto_flow": null,
      "grid_auto_rows": null,
      "grid_column": null,
      "grid_gap": null,
      "grid_row": null,
      "grid_template_areas": null,
      "grid_template_columns": null,
      "grid_template_rows": null,
      "height": null,
      "justify_content": null,
      "justify_items": null,
      "left": null,
      "margin": null,
      "max_height": null,
      "max_width": null,
      "min_height": null,
      "min_width": null,
      "object_fit": null,
      "object_position": null,
      "order": null,
      "overflow": null,
      "overflow_x": null,
      "overflow_y": null,
      "padding": null,
      "right": null,
      "top": null,
      "visibility": null,
      "width": null
     }
    },
    "c358ac0800d748dd8794dd82b45bf68b": {
     "model_module": "@jupyter-widgets/base",
     "model_module_version": "1.2.0",
     "model_name": "LayoutModel",
     "state": {
      "_model_module": "@jupyter-widgets/base",
      "_model_module_version": "1.2.0",
      "_model_name": "LayoutModel",
      "_view_count": null,
      "_view_module": "@jupyter-widgets/base",
      "_view_module_version": "1.2.0",
      "_view_name": "LayoutView",
      "align_content": null,
      "align_items": null,
      "align_self": null,
      "border": null,
      "bottom": null,
      "display": null,
      "flex": null,
      "flex_flow": null,
      "grid_area": null,
      "grid_auto_columns": null,
      "grid_auto_flow": null,
      "grid_auto_rows": null,
      "grid_column": null,
      "grid_gap": null,
      "grid_row": null,
      "grid_template_areas": null,
      "grid_template_columns": null,
      "grid_template_rows": null,
      "height": null,
      "justify_content": null,
      "justify_items": null,
      "left": null,
      "margin": null,
      "max_height": null,
      "max_width": null,
      "min_height": null,
      "min_width": null,
      "object_fit": null,
      "object_position": null,
      "order": null,
      "overflow": null,
      "overflow_x": null,
      "overflow_y": null,
      "padding": null,
      "right": null,
      "top": null,
      "visibility": null,
      "width": "20px"
     }
    },
    "c5b6999fd1284db8be9dd047e7f190f1": {
     "model_module": "@jupyter-widgets/controls",
     "model_module_version": "1.5.0",
     "model_name": "ProgressStyleModel",
     "state": {
      "_model_module": "@jupyter-widgets/controls",
      "_model_module_version": "1.5.0",
      "_model_name": "ProgressStyleModel",
      "_view_count": null,
      "_view_module": "@jupyter-widgets/base",
      "_view_module_version": "1.2.0",
      "_view_name": "StyleView",
      "bar_color": null,
      "description_width": ""
     }
    },
    "c62d2bfb394048a5a2c488e7c9d8e920": {
     "model_module": "@jupyter-widgets/base",
     "model_module_version": "1.2.0",
     "model_name": "LayoutModel",
     "state": {
      "_model_module": "@jupyter-widgets/base",
      "_model_module_version": "1.2.0",
      "_model_name": "LayoutModel",
      "_view_count": null,
      "_view_module": "@jupyter-widgets/base",
      "_view_module_version": "1.2.0",
      "_view_name": "LayoutView",
      "align_content": null,
      "align_items": null,
      "align_self": null,
      "border": null,
      "bottom": null,
      "display": null,
      "flex": null,
      "flex_flow": null,
      "grid_area": null,
      "grid_auto_columns": null,
      "grid_auto_flow": null,
      "grid_auto_rows": null,
      "grid_column": null,
      "grid_gap": null,
      "grid_row": null,
      "grid_template_areas": null,
      "grid_template_columns": null,
      "grid_template_rows": null,
      "height": null,
      "justify_content": null,
      "justify_items": null,
      "left": null,
      "margin": null,
      "max_height": null,
      "max_width": null,
      "min_height": null,
      "min_width": null,
      "object_fit": null,
      "object_position": null,
      "order": null,
      "overflow": null,
      "overflow_x": null,
      "overflow_y": null,
      "padding": null,
      "right": null,
      "top": null,
      "visibility": null,
      "width": null
     }
    },
    "c7fc2d634d674b25892ade53e4a521ff": {
     "model_module": "@jupyter-widgets/base",
     "model_module_version": "1.2.0",
     "model_name": "LayoutModel",
     "state": {
      "_model_module": "@jupyter-widgets/base",
      "_model_module_version": "1.2.0",
      "_model_name": "LayoutModel",
      "_view_count": null,
      "_view_module": "@jupyter-widgets/base",
      "_view_module_version": "1.2.0",
      "_view_name": "LayoutView",
      "align_content": null,
      "align_items": null,
      "align_self": null,
      "border": null,
      "bottom": null,
      "display": null,
      "flex": null,
      "flex_flow": null,
      "grid_area": null,
      "grid_auto_columns": null,
      "grid_auto_flow": null,
      "grid_auto_rows": null,
      "grid_column": null,
      "grid_gap": null,
      "grid_row": null,
      "grid_template_areas": null,
      "grid_template_columns": null,
      "grid_template_rows": null,
      "height": null,
      "justify_content": null,
      "justify_items": null,
      "left": null,
      "margin": null,
      "max_height": null,
      "max_width": null,
      "min_height": null,
      "min_width": null,
      "object_fit": null,
      "object_position": null,
      "order": null,
      "overflow": null,
      "overflow_x": null,
      "overflow_y": null,
      "padding": null,
      "right": null,
      "top": null,
      "visibility": null,
      "width": null
     }
    },
    "cce2593784654ab6bd935d6d809d7097": {
     "model_module": "@jupyter-widgets/base",
     "model_module_version": "1.2.0",
     "model_name": "LayoutModel",
     "state": {
      "_model_module": "@jupyter-widgets/base",
      "_model_module_version": "1.2.0",
      "_model_name": "LayoutModel",
      "_view_count": null,
      "_view_module": "@jupyter-widgets/base",
      "_view_module_version": "1.2.0",
      "_view_name": "LayoutView",
      "align_content": null,
      "align_items": null,
      "align_self": null,
      "border": null,
      "bottom": null,
      "display": null,
      "flex": null,
      "flex_flow": null,
      "grid_area": null,
      "grid_auto_columns": null,
      "grid_auto_flow": null,
      "grid_auto_rows": null,
      "grid_column": null,
      "grid_gap": null,
      "grid_row": null,
      "grid_template_areas": null,
      "grid_template_columns": null,
      "grid_template_rows": null,
      "height": null,
      "justify_content": null,
      "justify_items": null,
      "left": null,
      "margin": null,
      "max_height": null,
      "max_width": null,
      "min_height": null,
      "min_width": null,
      "object_fit": null,
      "object_position": null,
      "order": null,
      "overflow": null,
      "overflow_x": null,
      "overflow_y": null,
      "padding": null,
      "right": null,
      "top": null,
      "visibility": null,
      "width": null
     }
    },
    "d0544eed111b46e9a70b74c6a1c8b1d0": {
     "model_module": "@jupyter-widgets/controls",
     "model_module_version": "1.5.0",
     "model_name": "ProgressStyleModel",
     "state": {
      "_model_module": "@jupyter-widgets/controls",
      "_model_module_version": "1.5.0",
      "_model_name": "ProgressStyleModel",
      "_view_count": null,
      "_view_module": "@jupyter-widgets/base",
      "_view_module_version": "1.2.0",
      "_view_name": "StyleView",
      "bar_color": null,
      "description_width": ""
     }
    },
    "d59c5c1e3f9443bbb4a026e3d4fb5f9f": {
     "model_module": "@jupyter-widgets/controls",
     "model_module_version": "1.5.0",
     "model_name": "HTMLModel",
     "state": {
      "_dom_classes": [],
      "_model_module": "@jupyter-widgets/controls",
      "_model_module_version": "1.5.0",
      "_model_name": "HTMLModel",
      "_view_count": null,
      "_view_module": "@jupyter-widgets/controls",
      "_view_module_version": "1.5.0",
      "_view_name": "HTMLView",
      "description": "",
      "description_tooltip": null,
      "layout": "IPY_MODEL_ace6dbd104ae4cb1b9f84b541a1f6239",
      "placeholder": "​",
      "style": "IPY_MODEL_75b6bd03fbdb4080bc21028d57f79ab8",
      "value": " 2519/2520 [00:00&lt;00:00, 6480.20 examples/s]"
     }
    },
    "d882b3320bdc4a7a8e4cab24505520aa": {
     "model_module": "@jupyter-widgets/base",
     "model_module_version": "1.2.0",
     "model_name": "LayoutModel",
     "state": {
      "_model_module": "@jupyter-widgets/base",
      "_model_module_version": "1.2.0",
      "_model_name": "LayoutModel",
      "_view_count": null,
      "_view_module": "@jupyter-widgets/base",
      "_view_module_version": "1.2.0",
      "_view_name": "LayoutView",
      "align_content": null,
      "align_items": null,
      "align_self": null,
      "border": null,
      "bottom": null,
      "display": null,
      "flex": null,
      "flex_flow": null,
      "grid_area": null,
      "grid_auto_columns": null,
      "grid_auto_flow": null,
      "grid_auto_rows": null,
      "grid_column": null,
      "grid_gap": null,
      "grid_row": null,
      "grid_template_areas": null,
      "grid_template_columns": null,
      "grid_template_rows": null,
      "height": null,
      "justify_content": null,
      "justify_items": null,
      "left": null,
      "margin": null,
      "max_height": null,
      "max_width": null,
      "min_height": null,
      "min_width": null,
      "object_fit": null,
      "object_position": null,
      "order": null,
      "overflow": null,
      "overflow_x": null,
      "overflow_y": null,
      "padding": null,
      "right": null,
      "top": null,
      "visibility": null,
      "width": null
     }
    },
    "dea473f999c846e18f4749a715e2c9eb": {
     "model_module": "@jupyter-widgets/controls",
     "model_module_version": "1.5.0",
     "model_name": "DescriptionStyleModel",
     "state": {
      "_model_module": "@jupyter-widgets/controls",
      "_model_module_version": "1.5.0",
      "_model_name": "DescriptionStyleModel",
      "_view_count": null,
      "_view_module": "@jupyter-widgets/base",
      "_view_module_version": "1.2.0",
      "_view_name": "StyleView",
      "description_width": ""
     }
    },
    "df266ff7b8f641b4a7644825665802a9": {
     "model_module": "@jupyter-widgets/controls",
     "model_module_version": "1.5.0",
     "model_name": "DescriptionStyleModel",
     "state": {
      "_model_module": "@jupyter-widgets/controls",
      "_model_module_version": "1.5.0",
      "_model_name": "DescriptionStyleModel",
      "_view_count": null,
      "_view_module": "@jupyter-widgets/base",
      "_view_module_version": "1.2.0",
      "_view_name": "StyleView",
      "description_width": ""
     }
    },
    "e205386785954580a1b2297923e4793c": {
     "model_module": "@jupyter-widgets/controls",
     "model_module_version": "1.5.0",
     "model_name": "ProgressStyleModel",
     "state": {
      "_model_module": "@jupyter-widgets/controls",
      "_model_module_version": "1.5.0",
      "_model_name": "ProgressStyleModel",
      "_view_count": null,
      "_view_module": "@jupyter-widgets/base",
      "_view_module_version": "1.2.0",
      "_view_name": "StyleView",
      "bar_color": null,
      "description_width": ""
     }
    },
    "e6d93ca805044cca851dcbc46c3b5969": {
     "model_module": "@jupyter-widgets/controls",
     "model_module_version": "1.5.0",
     "model_name": "HTMLModel",
     "state": {
      "_dom_classes": [],
      "_model_module": "@jupyter-widgets/controls",
      "_model_module_version": "1.5.0",
      "_model_name": "HTMLModel",
      "_view_count": null,
      "_view_module": "@jupyter-widgets/controls",
      "_view_module_version": "1.5.0",
      "_view_name": "HTMLView",
      "description": "",
      "description_tooltip": null,
      "layout": "IPY_MODEL_38daeadf75cb47c1a87b9bac4a786ea8",
      "placeholder": "​",
      "style": "IPY_MODEL_32892ba55bc7434d958dc43b76c44f6c",
      "value": " 219/219 [00:03&lt;00:00, 79.98 MiB/s]"
     }
    },
    "eb3ff327ff694be0897288c58d36bdeb": {
     "model_module": "@jupyter-widgets/base",
     "model_module_version": "1.2.0",
     "model_name": "LayoutModel",
     "state": {
      "_model_module": "@jupyter-widgets/base",
      "_model_module_version": "1.2.0",
      "_model_name": "LayoutModel",
      "_view_count": null,
      "_view_module": "@jupyter-widgets/base",
      "_view_module_version": "1.2.0",
      "_view_name": "LayoutView",
      "align_content": null,
      "align_items": null,
      "align_self": null,
      "border": null,
      "bottom": null,
      "display": null,
      "flex": null,
      "flex_flow": null,
      "grid_area": null,
      "grid_auto_columns": null,
      "grid_auto_flow": null,
      "grid_auto_rows": null,
      "grid_column": null,
      "grid_gap": null,
      "grid_row": null,
      "grid_template_areas": null,
      "grid_template_columns": null,
      "grid_template_rows": null,
      "height": null,
      "justify_content": null,
      "justify_items": null,
      "left": null,
      "margin": null,
      "max_height": null,
      "max_width": null,
      "min_height": null,
      "min_width": null,
      "object_fit": null,
      "object_position": null,
      "order": null,
      "overflow": null,
      "overflow_x": null,
      "overflow_y": null,
      "padding": null,
      "right": null,
      "top": null,
      "visibility": null,
      "width": "20px"
     }
    },
    "f0d2b64c2cdc46d6a62855f9d839972e": {
     "model_module": "@jupyter-widgets/controls",
     "model_module_version": "1.5.0",
     "model_name": "HTMLModel",
     "state": {
      "_dom_classes": [],
      "_model_module": "@jupyter-widgets/controls",
      "_model_module_version": "1.5.0",
      "_model_name": "HTMLModel",
      "_view_count": null,
      "_view_module": "@jupyter-widgets/controls",
      "_view_module_version": "1.5.0",
      "_view_name": "HTMLView",
      "description": "",
      "description_tooltip": null,
      "layout": "IPY_MODEL_097ec9cabf7d40328340c1428a4760dd",
      "placeholder": "​",
      "style": "IPY_MODEL_a9a45d102b144a14b2a333f7d4b1b175",
      "value": " 2/2 [00:03&lt;00:00,  1.72s/ url]"
     }
    },
    "f33625fb10204c1a8c560b436962c438": {
     "model_module": "@jupyter-widgets/controls",
     "model_module_version": "1.5.0",
     "model_name": "HBoxModel",
     "state": {
      "_dom_classes": [],
      "_model_module": "@jupyter-widgets/controls",
      "_model_module_version": "1.5.0",
      "_model_name": "HBoxModel",
      "_view_count": null,
      "_view_module": "@jupyter-widgets/controls",
      "_view_module_version": "1.5.0",
      "_view_name": "HBoxView",
      "box_style": "",
      "children": [
       "IPY_MODEL_6ceef0b80c794ee5b367d4ba2f0aeaf3",
       "IPY_MODEL_fc61676984bb40ca8b1571d24cf04c71",
       "IPY_MODEL_409fc14f343a4bef9f644a78b32f3a81"
      ],
      "layout": "IPY_MODEL_ba9d12b69415407db302dceb514c7eae"
     }
    },
    "f57d9152e3de4724815e7cc7cf895b52": {
     "model_module": "@jupyter-widgets/base",
     "model_module_version": "1.2.0",
     "model_name": "LayoutModel",
     "state": {
      "_model_module": "@jupyter-widgets/base",
      "_model_module_version": "1.2.0",
      "_model_name": "LayoutModel",
      "_view_count": null,
      "_view_module": "@jupyter-widgets/base",
      "_view_module_version": "1.2.0",
      "_view_name": "LayoutView",
      "align_content": null,
      "align_items": null,
      "align_self": null,
      "border": null,
      "bottom": null,
      "display": null,
      "flex": null,
      "flex_flow": null,
      "grid_area": null,
      "grid_auto_columns": null,
      "grid_auto_flow": null,
      "grid_auto_rows": null,
      "grid_column": null,
      "grid_gap": null,
      "grid_row": null,
      "grid_template_areas": null,
      "grid_template_columns": null,
      "grid_template_rows": null,
      "height": null,
      "justify_content": null,
      "justify_items": null,
      "left": null,
      "margin": null,
      "max_height": null,
      "max_width": null,
      "min_height": null,
      "min_width": null,
      "object_fit": null,
      "object_position": null,
      "order": null,
      "overflow": null,
      "overflow_x": null,
      "overflow_y": null,
      "padding": null,
      "right": null,
      "top": null,
      "visibility": null,
      "width": "20px"
     }
    },
    "fc61676984bb40ca8b1571d24cf04c71": {
     "model_module": "@jupyter-widgets/controls",
     "model_module_version": "1.5.0",
     "model_name": "FloatProgressModel",
     "state": {
      "_dom_classes": [],
      "_model_module": "@jupyter-widgets/controls",
      "_model_module_version": "1.5.0",
      "_model_name": "FloatProgressModel",
      "_view_count": null,
      "_view_module": "@jupyter-widgets/controls",
      "_view_module_version": "1.5.0",
      "_view_name": "ProgressView",
      "bar_style": "danger",
      "description": "",
      "description_tooltip": null,
      "layout": "IPY_MODEL_c2463911bc95478a8f05485d60c06890",
      "max": 372,
      "min": 0,
      "orientation": "horizontal",
      "style": "IPY_MODEL_5094712cf66a4e6b8c92225693d9b6ac",
      "value": 371
     }
    }
   }
  }
 },
 "nbformat": 4,
 "nbformat_minor": 5
}
