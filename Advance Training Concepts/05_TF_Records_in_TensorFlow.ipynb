{
 "cells": [
  {
   "cell_type": "markdown",
   "id": "220116a8",
   "metadata": {
    "id": "220116a8"
   },
   "source": [
    "<h1 style=\"font-size:30px;\">Introduction to TFRecord in TensorFlow</h1>\n",
    "\n",
    "TensorFlow has its own binary data storage format, called TensorFlow Records or TFRecords for short.\n",
    "The TFRecord format is a simple format for storing a sequence of binary records, which is optimized for high throughput data retrieval and can be used for consuming any data format. Converting your data into TFRecord has many advantages, as documented <a href=\"https://keras.io/examples/keras_recipes/creating_tfrecords/#introduction\" target=_blank>here</a>. In this notebook, we will demonstrate how to use the `TFRecordDataset` class to build a streaming input data pipeline which requires a two-step process: \n",
    "\n",
    "1. Transform a dataset into a TFRecord file.\n",
    "2. Process the TFrecord file to create a streaming data pipeline.\n",
    "\n",
    "Before we study the code in this notebook, it's helpful to introduce the terminology associated with TFRecords and develop a conceptual picture of the structure. A TFRecord can be seen as a wrapper around all the data examples in a dataset. The data contained in a TFRecord file has a structure that consists of ***Examples*** which are represented as a dictionary. Each ***Example*** contains one or more ***Features*** that contain the data. \n",
    "\n",
    "<img src='https://opencv.org/wp-content/uploads/2022/08/c4-04-TFRecord-feature-image.png' align='center' width='700'>\n",
    "\n",
    "At the coding level, TFRecords use a dictionary to map feature names (keys) to actual (data) values within an *Example*. Each *Feature* in an *Example* has its own data type, and there can be an arbitrary number of *Features* that constitute an *Example*.\n",
    "\n",
    "TensorFlow provides flexible message types that allow us to create and access TFRecords. `tf.train.Example`  represents a {\"string\": value} mapping for each *Example* and `tf.train.Feature` is a message type that is used to convert standard TensorFlow types to `tf.train.Example` compatible *Features*. Each data point in an *Example* is first transformed into a *Feature* in a dictionary which is then transformed into an *Example*. The nested structure is represented by the mapping below. \n",
    "\n",
    "<img src='https://opencv.org/wp-content/uploads/2022/08/c4-04-example-feature-code.png' align='center' width='600'>\n",
    "\n",
    "In this notebook, we will learn how to use `tf.train.Example` and `tf.train.Feature` to create TFRecord (`.tfrecord`) files and parse them to create TensorFlow datasets. \n",
    "\n",
    "**Notes**: \n",
    "\n",
    "- The word \"Feature\" in this context is an overloaded term and has nothing to do with \"image features\" that we normally refer to in computer vision.\n",
    "\n",
    "- The following code examples from the  (<a href=\"https://www.tensorflow.org/tutorials/load_data/tfrecord\" target=_blank>Tensorflow</a>) and (<a href=\"https://keras.io/examples/keras_recipes/creating_tfrecords/\" target=_blank>Keras </a>) documentation pages are both useful references which formed the basis of this notebook.\n",
    "\n",
    "- Internally, TFRecords use the <a href=\"https://developers.google.com/protocol-buffers/\" target=_blank>Protocol buffers</a> for storing data. Protocol buffers or Protobufs are a language-neutral, platform-neutral format for serializing data. "
   ]
  },
  {
   "cell_type": "markdown",
   "id": "1e2f1401",
   "metadata": {
    "id": "1e2f1401"
   },
   "source": [
    "## Table of Contents\n",
    "* [1 System Configuration](#1-System-Configuration)\n",
    "* [2 Download and Extract the Data](#2-Download-and-Extract-the-Data)\n",
    "* [3 Training and Dataset Configurations](#3-Training-and-Dataset-Configurations)\n",
    "* [4 LeNet5 Model](#4-LeNet5-Model)\n",
    "* [5 TFRecord Building Blocks](#5-TFRecord-Building-Blocks)\n",
    "* [6 Create Datasets using TFRecords](#5-Create-Datasets-using-TFRecords)\n",
    "* [7 Compile and Train the Model](#7-Compile-and-Train-the-Model)\n",
    "* [8 Plot the Training Results](#8-Plot-the-Training-Results)\n",
    "* [9 Conclusion](#9-Conclusion)"
   ]
  },
  {
   "cell_type": "code",
   "execution_count": null,
   "id": "01f9b6bc",
   "metadata": {
    "id": "01f9b6bc"
   },
   "outputs": [],
   "source": [
    "from tqdm import tqdm\n",
    "from numpy.random import randn\n",
    "\n",
    "import pathlib\n",
    "import random\n",
    "import matplotlib.pyplot as plt\n",
    "import numpy as np\n",
    "import requests\n",
    "import zipfile\n",
    "import os\n",
    "\n",
    "import tensorflow as tf\n",
    "from tensorflow.keras.models import Model\n",
    "from tensorflow.keras.utils import Sequence\n",
    "\n",
    "from tensorflow.keras.layers import (Conv2D, Activation, Input,\n",
    "                                     MaxPool2D, Flatten, Dense)\n",
    "\n",
    "from matplotlib.ticker import (MultipleLocator, FormatStrFormatter)\n",
    "from tensorflow.keras.utils import to_categorical\n",
    "from dataclasses import dataclass\n",
    "\n",
    "AUTOTUNE = tf.data.experimental.AUTOTUNE\n",
    "\n",
    "block_plot = False"
   ]
  },
  {
   "cell_type": "markdown",
   "id": "55734724",
   "metadata": {
    "id": "55734724"
   },
   "source": [
    "## 1 System Configuration"
   ]
  },
  {
   "cell_type": "code",
   "execution_count": null,
   "id": "f8409381",
   "metadata": {
    "colab": {
     "base_uri": "https://localhost:8080/"
    },
    "id": "f8409381",
    "outputId": "0b8a6354-52a9-436f-fd1b-0b6ecae92c34"
   },
   "outputs": [
    {
     "name": "stdout",
     "output_type": "stream",
     "text": [
      "[]\n",
      "Using CPU\n"
     ]
    }
   ],
   "source": [
    "def system_config(SEED_VALUE):\n",
    "\n",
    "    np.random.seed(SEED_VALUE)\n",
    "    tf.random.set_seed(SEED_VALUE)\n",
    "    \n",
    "    # Get list of GPUs.\n",
    "    gpu_devices = tf.config.list_physical_devices('GPU')\n",
    "    print(gpu_devices)\n",
    "    \n",
    "    if len(gpu_devices) > 0:\n",
    "        print('Using GPU')\n",
    "        os.environ[\"CUDA_VISIBLE_DEVICES\"] = '0'\n",
    "        os.environ['TF_CUDNN_DETERMINISTIC'] = '1' \n",
    "        \n",
    "        # If there are any gpu devices, use first gpu.\n",
    "        tf.config.experimental.set_visible_devices(gpu_devices[0], 'GPU')\n",
    "        \n",
    "        # Grow the memory usage as it is needed by the process.\n",
    "        tf.config.experimental.set_memory_growth(gpu_devices[0], True)\n",
    "        \n",
    "        # Enable using cudNN.\n",
    "        os.environ['TF_USE_CUDNN'] = \"true\"\n",
    "    else:\n",
    "        print('Using CPU')\n",
    "\n",
    "system_config(7)"
   ]
  },
  {
   "cell_type": "markdown",
   "id": "0b4957a4",
   "metadata": {
    "id": "0b4957a4"
   },
   "source": [
    "## 2 Download and Extract the Data\n",
    "\n",
    "We will use the CIFAR10 dataset just like the previous notebook. Using the same dataset will help to clarify the concepts of different custom data loading techniques. This CIFAR10 dataset has been downloaded from <a href=\"https://pjreddie.com/projects/cifar-10-dataset-mirror/\" target=_blank>Joseph Redmon's website</a> and modified such that all the images are in their respective class folders."
   ]
  },
  {
   "cell_type": "code",
   "execution_count": null,
   "id": "688a2eed",
   "metadata": {
    "id": "688a2eed"
   },
   "outputs": [],
   "source": [
    "def download_file(url, save_name):\n",
    "    url = url\n",
    "    if not os.path.exists(save_name):\n",
    "        file = requests.get(url)\n",
    "        open(save_name, 'wb').write(file.content)"
   ]
  },
  {
   "cell_type": "code",
   "execution_count": null,
   "id": "3635177b",
   "metadata": {
    "id": "3635177b"
   },
   "outputs": [],
   "source": [
    "def unzip(zip_file=None):\n",
    "    try:\n",
    "        with zipfile.ZipFile(zip_file) as z:\n",
    "            z.extractall(\"./\")\n",
    "            print(\"Extracted all\")\n",
    "    except:\n",
    "        print(\"Invalid file\")"
   ]
  },
  {
   "cell_type": "code",
   "execution_count": null,
   "id": "a727e2fd",
   "metadata": {
    "id": "a727e2fd",
    "outputId": "694767b7-4507-46a2-dc1a-71a6e0a73a42"
   },
   "outputs": [
    {
     "name": "stdout",
     "output_type": "stream",
     "text": [
      "Extracted all\n"
     ]
    }
   ],
   "source": [
    "download_file(\n",
    "    'https://www.dropbox.com/s/6jrhe7uu4a4qxbn/cifar10.zip?dl=1',\n",
    "    'cifar10.zip'\n",
    ")\n",
    "    \n",
    "unzip(zip_file='cifar10.zip')"
   ]
  },
  {
   "cell_type": "markdown",
   "id": "43591476",
   "metadata": {
    "id": "43591476"
   },
   "source": [
    "```\n",
    "cifar10\n",
    "├── labels.txt\n",
    "├── test\n",
    "│   ├── airplane\n",
    "│   ├── automobile\n",
    "│   ├── bird\n",
    "│   ├── cat\n",
    "│   ├── deer\n",
    "│   ├── dog\n",
    "│   ├── frog\n",
    "│   ├── horse\n",
    "│   ├── ship\n",
    "│   └── truck\n",
    "└── train\n",
    "    ├── airplane\n",
    "    ├── automobile\n",
    "    ├── bird\n",
    "    ├── cat\n",
    "    ├── deer\n",
    "    ├── dog\n",
    "    ├── frog\n",
    "    ├── horse\n",
    "    ├── ship\n",
    "    └── truck\n",
    "```\n",
    "\n",
    "As you can see we have `train` and `test` subdirecties which in-turn contain sub-directories for each class in the CIFAR10 dataset. All the class folders contain the respective images."
   ]
  },
  {
   "cell_type": "markdown",
   "id": "7ef56086",
   "metadata": {
    "id": "7ef56086"
   },
   "source": [
    "## 3 Training and Dataset Configurations"
   ]
  },
  {
   "cell_type": "code",
   "execution_count": null,
   "id": "65f0006b",
   "metadata": {
    "id": "65f0006b"
   },
   "outputs": [],
   "source": [
    "@dataclass(frozen=True)\n",
    "class TrainingConfig:\n",
    "    BATCH_SIZE:    int = 32\n",
    "    EPOCHS:        int = 11\n",
    "    LEARNING_RATE: float= 0.0005\n",
    "    \n",
    "@dataclass(frozen=True)\n",
    "class DatasetConfig:\n",
    "    NUM_CLASSES: int = 10\n",
    "    IMG_HEIGHT:  int = 32\n",
    "    IMG_WIDTH:   int = 32\n",
    "    DATA_ROOT:   str = './cifar10'"
   ]
  },
  {
   "cell_type": "markdown",
   "id": "ab050798",
   "metadata": {
    "id": "ab050798"
   },
   "source": [
    "## 4 LeNet5 Model"
   ]
  },
  {
   "cell_type": "code",
   "execution_count": null,
   "id": "9c286624",
   "metadata": {
    "id": "9c286624"
   },
   "outputs": [],
   "source": [
    "def LeNet5_model(num_classes, shape, print_model_summary=True):\n",
    "\n",
    "    inputs = Input(shape=shape)\n",
    "    \n",
    "    # -------------------------------------\n",
    "    # First convolutional Layer + pooling\n",
    "    # -------------------------------------\n",
    "    x = Conv2D(6, 5, padding='valid')(inputs)              # input size = (32, 32), output size = (28, 28)\n",
    "    x = Activation(\"relu\")(x)                              # output size = (28, 28)\n",
    "    x = MaxPool2D()(x)                                     # output size = (14, 14)\n",
    "\n",
    "    # -------------------------------------\n",
    "    # Second convolutional layer + pooling \n",
    "    # -------------------------------------\n",
    "    x = Conv2D(16, 5, padding='valid')(x)                  # input size = (14, 14), output size = (10, 10)\n",
    "    x = Activation('relu')(x)                              # output size = (10, 10)\n",
    "    feature_extractor_output = MaxPool2D()(x)              # output size = (5, 5)\n",
    "\n",
    "    # Flatten.\n",
    "    flattened = Flatten()(feature_extractor_output)        # 5 * 5 * 16 -> 400\n",
    "\n",
    "    # ------------------------- \n",
    "    # Fully connected layers.\n",
    "    # -------------------------\n",
    "    x = Dense(120, activation='relu')(flattened)           # 400 -> 120\n",
    "    x = Dense(84, activation='relu')(x)                    # 120 -> 84\n",
    "    \n",
    "    # Softmax output layer.\n",
    "    headout = Dense(num_classes, activation=\"softmax\")(x)  # 84 -> 10\n",
    "    \n",
    "    # Create model.\n",
    "    model = Model(inputs=inputs, outputs=headout, name='LeNet5')\n",
    "    \n",
    "    if print_model_summary:\n",
    "        model.summary()\n",
    "        \n",
    "    return model"
   ]
  },
  {
   "cell_type": "code",
   "execution_count": null,
   "id": "cbe2da81",
   "metadata": {
    "id": "cbe2da81",
    "outputId": "c7e2f274-4cc3-4dd4-a9ef-9897f7773024",
    "scrolled": false
   },
   "outputs": [
    {
     "name": "stdout",
     "output_type": "stream",
     "text": [
      "Model: \"LeNet5\"\n",
      "_________________________________________________________________\n",
      " Layer (type)                Output Shape              Param #   \n",
      "=================================================================\n",
      " input_1 (InputLayer)        [(None, 32, 32, 3)]       0         \n",
      "                                                                 \n",
      " conv2d (Conv2D)             (None, 28, 28, 6)         456       \n",
      "                                                                 \n",
      " activation (Activation)     (None, 28, 28, 6)         0         \n",
      "                                                                 \n",
      " max_pooling2d (MaxPooling2D  (None, 14, 14, 6)        0         \n",
      " )                                                               \n",
      "                                                                 \n",
      " conv2d_1 (Conv2D)           (None, 10, 10, 16)        2416      \n",
      "                                                                 \n",
      " activation_1 (Activation)   (None, 10, 10, 16)        0         \n",
      "                                                                 \n",
      " max_pooling2d_1 (MaxPooling  (None, 5, 5, 16)         0         \n",
      " 2D)                                                             \n",
      "                                                                 \n",
      " flatten (Flatten)           (None, 400)               0         \n",
      "                                                                 \n",
      " dense (Dense)               (None, 120)               48120     \n",
      "                                                                 \n",
      " dense_1 (Dense)             (None, 84)                10164     \n",
      "                                                                 \n",
      " dense_2 (Dense)             (None, 10)                850       \n",
      "                                                                 \n",
      "=================================================================\n",
      "Total params: 62,006\n",
      "Trainable params: 62,006\n",
      "Non-trainable params: 0\n",
      "_________________________________________________________________\n"
     ]
    },
    {
     "name": "stderr",
     "output_type": "stream",
     "text": [
      "2022-07-28 09:15:12.461770: I tensorflow/core/platform/cpu_feature_guard.cc:151] This TensorFlow binary is optimized with oneAPI Deep Neural Network Library (oneDNN) to use the following CPU instructions in performance-critical operations:  AVX2 FMA\n",
      "To enable them in other operations, rebuild TensorFlow with the appropriate compiler flags.\n"
     ]
    }
   ],
   "source": [
    "model = LeNet5_model(num_classes=DatasetConfig.NUM_CLASSES,\n",
    "                     shape=(DatasetConfig.IMG_HEIGHT, DatasetConfig.IMG_WIDTH, 3))"
   ]
  },
  {
   "cell_type": "markdown",
   "id": "da2f336b",
   "metadata": {
    "id": "da2f336b"
   },
   "source": [
    "## 5 TFRecord Building Blocks\n",
    "\n",
    "There are several steps required to create and parse TFrecords. In this section, we will walk through a step-by-step process for creating a TFRecord file and parsing it to retrieve the data. Then in the following section, we will process an entire dataset and use it to train a model."
   ]
  },
  {
   "cell_type": "markdown",
   "id": "4de76608",
   "metadata": {
    "id": "4de76608"
   },
   "source": [
    "### 5.1 Feature Creation using `tf.train.Feature`\n",
    "\n",
    "Creating a TFRecord begins at the feature level, where we need to convert standard TensorFlow types to a `tf.train.Example`-compatible `tf.train.Feature`. For this purpose, we use the following convenience functions to convert our data to a `tf.train.Feature` containing one of the following types. In this notebook, we won't need to use the FloatList, but we are listing it here for completeness.\n",
    "\n",
    "* `BytesList`\n",
    "* `FloatList`\n",
    "* `Int64List`"
   ]
  },
  {
   "cell_type": "code",
   "execution_count": null,
   "id": "20cfe35d",
   "metadata": {
    "id": "20cfe35d"
   },
   "outputs": [],
   "source": [
    "def _image_feature(value):\n",
    "    \"\"\"\n",
    "    Returns a bytes_list from a string / byte.\n",
    "    \"\"\"\n",
    "    return tf.train.Feature(bytes_list=tf.train.BytesList(value=[tf.io.encode_jpeg(value).numpy()]))\n",
    "\n",
    "def _bytes_feature(value):\n",
    "    \"\"\"\n",
    "    Returns a bytes_list from a string / byte.\n",
    "    \"\"\"\n",
    "    if isinstance(value, type(tf.constant(0))):\n",
    "        value = value.numpy() # BytesList won't unpack a string from an EagerTensor.\n",
    "    return tf.train.Feature(bytes_list=tf.train.BytesList(value=[value]))\n",
    "\n",
    "def _float_feature(value):\n",
    "    \"\"\"\n",
    "    Returns a float_list from a float / double.\n",
    "    \"\"\"\n",
    "    return tf.train.Feature(float_list=tf.train.FloatList(value=[value]))\n",
    "\n",
    "def _int64_feature(value):\n",
    "    \"\"\"\n",
    "    Returns an int64_list from a bool / enum / int / uint.\n",
    "    \"\"\"\n",
    "    return tf.train.Feature(int64_list=tf.train.Int64List(value=[value]))"
   ]
  },
  {
   "cell_type": "markdown",
   "id": "73db9520",
   "metadata": {
    "id": "73db9520"
   },
   "source": [
    "### 5.2 Example Creation using `tf.train.Example`\n",
    "\n",
    "Next, we need to define a function that transforms our data into an *Example*. This is where we define the dictionary mapping the feature name to the tf.train.Example-compatible data type. The inputs to this function represent the TensorFlow data that we want to store in a TFRecord file. Notice that these values are converted to `tf.train.Features` using the convenience functions defined above."
   ]
  },
  {
   "cell_type": "code",
   "execution_count": null,
   "id": "d61392db",
   "metadata": {
    "id": "d61392db"
   },
   "outputs": [],
   "source": [
    "def create_example(image, path_name, label_id, label_name):\n",
    "    \n",
    "    # Create a dictionary mapping the feature name to the tf.train.Example-compatible data type.\n",
    "    feature = {\n",
    "        'label_id'  : _int64_feature(label_id),\n",
    "        'label_name': _bytes_feature(tf.compat.as_bytes(label_name)),\n",
    "        'path_name' : _bytes_feature(tf.compat.as_bytes(path_name)),\n",
    "        'height'    : _int64_feature(image.shape[0]),\n",
    "        'width'     : _int64_feature(image.shape[1]),\n",
    "        'image'     : _image_feature(image)\n",
    "    }\n",
    "\n",
    "    # Create a Features message using tf.train.Example.\n",
    "    example = tf.train.Example(features=tf.train.Features(feature=feature))\n",
    "\n",
    "    return example"
   ]
  },
  {
   "cell_type": "markdown",
   "id": "26e18c91",
   "metadata": {
    "id": "26e18c91"
   },
   "source": [
    "### 5.3 Write a TFRecord File for a Single Example\n",
    "\n",
    "Before we create an entire dataset to a `TFRecord` file, let's first learn how to convert a single training example to a `TFRecord` file. Here, we define the mapping between label names and label IDs, which will be used further below."
   ]
  },
  {
   "cell_type": "code",
   "execution_count": null,
   "id": "a62c3614",
   "metadata": {
    "id": "a62c3614"
   },
   "outputs": [],
   "source": [
    "# Define the `labels` dictionary.\n",
    "label_names = {\n",
    "    'airplane'  : 0, \n",
    "    'automobile': 1, \n",
    "    'bird'      : 2, \n",
    "    'cat'       : 3, \n",
    "    'deer'      : 4, \n",
    "    'dog'       : 5, \n",
    "    'frog'      : 6, \n",
    "    'horse'     : 7, \n",
    "    'ship'      : 8, \n",
    "    'truck'     : 9\n",
    "}"
   ]
  },
  {
   "cell_type": "code",
   "execution_count": null,
   "id": "609ec4fe",
   "metadata": {
    "id": "609ec4fe"
   },
   "outputs": [],
   "source": [
    "# Input image file.\n",
    "image_path = './cifar10/train/airplane/30_airplane.png'\n",
    "\n",
    "# Output TFRecord file.\n",
    "record_file = '30_airplane.tfrecords'\n",
    "\n",
    "with tf.io.TFRecordWriter(record_file) as writer:\n",
    "\n",
    "    # Read image file from disk.\n",
    "    image = tf.io.decode_image(tf.io.read_file(image_path))\n",
    "\n",
    "    # Determine the label name and label ID.\n",
    "    label_name  = pathlib.Path(image_path).parent.name\n",
    "    label_id = label_names[label_name]\n",
    "\n",
    "    # Create example record.\n",
    "    example = create_example(image, image_path, label_id, label_name)\n",
    "\n",
    "    # Write example to TFRecord file.\n",
    "    writer.write(example.SerializeToString())"
   ]
  },
  {
   "cell_type": "code",
   "execution_count": null,
   "id": "6e0bf3aa",
   "metadata": {
    "id": "6e0bf3aa",
    "outputId": "8bc6eaae-5f5b-48ea-b3f5-d02de1785ad8"
   },
   "outputs": [
    {
     "name": "stdout",
     "output_type": "stream",
     "text": [
      "-rw-r--r--  1 billk  staff  1449 Jul 28 09:15 30_airplane.tfrecords\r\n"
     ]
    }
   ],
   "source": [
    "%ls -l 30_airplane.tfrecords"
   ]
  },
  {
   "cell_type": "markdown",
   "id": "8dd72228",
   "metadata": {
    "id": "8dd72228"
   },
   "source": [
    "### 5.4 Parse TFRecord\n",
    "\n",
    "Now that we have a `TFRecord` file let's create a function to parse it. This function mirrors the function used to create the *Example* record. It defines a dictionary with the same keys and maps them to fixed-length placeholder features of the same type. The function takes a single input which is serialized *Example* from a TFRecord file, and it uses `tf.io.parse_single_example` to populate a dictionary mapping feature keys to tensor values."
   ]
  },
  {
   "cell_type": "code",
   "execution_count": null,
   "id": "30129ad8",
   "metadata": {
    "id": "30129ad8"
   },
   "outputs": [],
   "source": [
    "def parse_tfrecord(example):\n",
    "\n",
    "    # Dictionary which defines the features.\n",
    "    feature_description = {\n",
    "        'label_id'  : tf.io.FixedLenFeature([], tf.int64),\n",
    "        'label_name': tf.io.FixedLenFeature([], tf.string),\n",
    "        'path_name' : tf.io.FixedLenFeature([], tf.string),\n",
    "        'height'    : tf.io.FixedLenFeature([], tf.int64),\n",
    "        'width'     : tf.io.FixedLenFeature([], tf.int64),\n",
    "        'image'     : tf.io.FixedLenFeature([], tf.string),\n",
    "    }\n",
    "\n",
    "    # Parse the input Example using the dictionary above.\n",
    "    example = tf.io.parse_single_example(example, feature_description)\n",
    "\n",
    "    return example"
   ]
  },
  {
   "cell_type": "markdown",
   "id": "6d81a630",
   "metadata": {
    "id": "6d81a630"
   },
   "source": [
    "We can now use this function to parse the TFRecord file we created above.  Here, we use `tf.data.TFRecordDataset` to read the TFRecord file and create a dataset in memory. `tf.data.TFRecordDataset` loads TFRecords from the TFRecord file as bytes, exactly as they were written. `TFRecordDataset` does not do any parsing or decoding on its own. Parsing and decoding can be done by applying `Dataset.map` transformations after the `TFRecordDataset`. We then use the `map` method to apply the `parse_tfrecord()` function to the dataset, which parses the *Example*. We can then use the feature keys to extract the data from the dictionary. "
   ]
  },
  {
   "cell_type": "code",
   "execution_count": null,
   "id": "8ca04cbb",
   "metadata": {
    "id": "8ca04cbb",
    "outputId": "fcc486a9-5641-4712-f6a2-007eb2483413",
    "scrolled": false
   },
   "outputs": [
    {
     "name": "stdout",
     "output_type": "stream",
     "text": [
      "label name:  b'airplane'\n",
      "label ID:    0\n",
      "path:        b'./cifar10/train/airplane/30_airplane.png'\n",
      "height:      32\n",
      "width:       32\n"
     ]
    }
   ],
   "source": [
    "# Read TFRecord file.\n",
    "image_dataset = tf.data.TFRecordDataset('30_airplane.tfrecords')\n",
    "\n",
    "# Parse TFRecord.\n",
    "parsed_image_dataset = image_dataset.map(parse_tfrecord)\n",
    "\n",
    "# Retrieve values from dictionary.\n",
    "for example in parsed_image_dataset.take(1):\n",
    "    \n",
    "    label_name   = example['label_name']\n",
    "    label_id     = example['label_id']\n",
    "    image_path   = example['path_name']\n",
    "    image_height = example['height']\n",
    "    image_width  = example['width']\n",
    "    \n",
    "print(\"label name: \", label_name.numpy())\n",
    "print(\"label ID:   \", label_id.numpy())\n",
    "print(\"path:       \", image_path.numpy())\n",
    "print(\"height:     \", image_height.numpy())\n",
    "print(\"width:      \", image_width.numpy())"
   ]
  },
  {
   "cell_type": "markdown",
   "id": "577b8ed0",
   "metadata": {
    "id": "577b8ed0"
   },
   "source": [
    "### 5.5 Decode TFRecord\n",
    "\n",
    "In the previous section, we demonstrated how to extract feature data directly from the dictionary. However, because some of the data we stored in the TFRecord requires additional processing, we will create another function to decode the image and label data."
   ]
  },
  {
   "cell_type": "code",
   "execution_count": null,
   "id": "879afe96",
   "metadata": {
    "id": "879afe96"
   },
   "outputs": [],
   "source": [
    "def decode_tfrecord(example):\n",
    "\n",
    "    image = example['image']\n",
    "    image = tf.image.decode_image(image, channels=3)\n",
    "\n",
    "    # Cast to Float32 data type.\n",
    "    image = tf.cast(image, tf.float32)\n",
    "\n",
    "    # Normalize the pixels.\n",
    "    image = image / 255.\n",
    "\n",
    "    # One-hot encode the labels.\n",
    "    label_id = example['label_id']\n",
    "    label_id = tf.one_hot(label_id, DatasetConfig.NUM_CLASSES)\n",
    "\n",
    "    # Return the decoded image and the label integer.\n",
    "    return image, label_id"
   ]
  },
  {
   "cell_type": "markdown",
   "id": "cc98fe23",
   "metadata": {
    "id": "cc98fe23"
   },
   "source": [
    "Let's repeat the process for parsing the `TFRecord` using the `decode_tfrecord()` function to decode the image and label ID from the dictionary."
   ]
  },
  {
   "cell_type": "code",
   "execution_count": null,
   "id": "e06fce7c",
   "metadata": {
    "id": "e06fce7c",
    "outputId": "3ce7c0cb-3eeb-4326-f70d-7df3ea3cafc7",
    "scrolled": false
   },
   "outputs": [
    {
     "name": "stdout",
     "output_type": "stream",
     "text": [
      "label:     b'airplane'\n",
      "path:      b'./cifar10/train/airplane/30_airplane.png'\n",
      "height:    32\n",
      "width:     32\n",
      "label_id:  [1. 0. 0. 0. 0. 0. 0. 0. 0. 0.]\n"
     ]
    },
    {
     "data": {
      "image/png": "[encoded data removed]",
      "text/plain": [
       "<Figure size 432x288 with 1 Axes>"
      ]
     },
     "metadata": {
      "needs_background": "light"
     },
     "output_type": "display_data"
    }
   ],
   "source": [
    "# Read TFRecord file.\n",
    "image_dataset = tf.data.TFRecordDataset('30_airplane.tfrecords')\n",
    "\n",
    "# Parse TFRecord.\n",
    "parsed_image_dataset = image_dataset.map(parse_tfrecord)\n",
    "\n",
    "for example in parsed_image_dataset.take(1):\n",
    "    \n",
    "    label_name   = example['label_name']\n",
    "    image_path   = example['path_name']\n",
    "    image_height = example['height']\n",
    "    image_width  = example['width']\n",
    "    \n",
    "    # Decode image and label_id.\n",
    "    image, label_id = decode_tfrecord(example)\n",
    "    \n",
    "print(\"label:    \", label_name.numpy())\n",
    "print(\"path:     \", image_path.numpy())\n",
    "print(\"height:   \", image_height.numpy())\n",
    "print(\"width:    \", image_width.numpy())\n",
    "print(\"label_id: \", label_id.numpy())\n",
    "\n",
    "# Display decoded image.\n",
    "plt.imshow(image);"
   ]
  },
  {
   "cell_type": "markdown",
   "id": "36608641",
   "metadata": {
    "id": "36608641"
   },
   "source": [
    "### 5.6 Combine Parse and Decode Operations"
   ]
  },
  {
   "cell_type": "code",
   "execution_count": null,
   "id": "b7360fc3",
   "metadata": {
    "id": "b7360fc3"
   },
   "outputs": [],
   "source": [
    "def parse_and_decode_tfrecord(example):\n",
    "\n",
    "    # Dictionary which defines the features that we want to parse from the example record.\n",
    "    feature_description = {\n",
    "        'label_id'  : tf.io.FixedLenFeature([], tf.int64),\n",
    "        'image'     : tf.io.FixedLenFeature([], tf.string),\n",
    "    }\n",
    "\n",
    "    # Parse the input Example using the dictionary above.\n",
    "    example = tf.io.parse_single_example(example, feature_description)\n",
    "\n",
    "    image = example['image']\n",
    "    image = tf.image.decode_image(image, channels=3)\n",
    "\n",
    "    # Cast to Float32 data type.\n",
    "    image = tf.cast(image, tf.float32)\n",
    "\n",
    "    # Normalize the pixels.\n",
    "    image = image / 255.\n",
    "\n",
    "    # One-hot encode the labels.\n",
    "    label_id = example['label_id']\n",
    "    label_id = tf.one_hot(label_id, DatasetConfig.NUM_CLASSES)\n",
    "\n",
    "    # Return the decoded image and the label ID.\n",
    "    return image, label_id"
   ]
  },
  {
   "cell_type": "markdown",
   "id": "37912aef",
   "metadata": {
    "id": "37912aef"
   },
   "source": [
    "## 6 Create Datasets using TFRecords\n",
    "\n",
    "In this section, we'll formalize some of the code above to handle an entire dataset and demonstrate how to create a dataset from a `TFRecord` file that can be used to train a model."
   ]
  },
  {
   "cell_type": "markdown",
   "id": "8137ec67",
   "metadata": {
    "id": "8137ec67"
   },
   "source": [
    "### 6.1 Function to Write TFRecord File"
   ]
  },
  {
   "cell_type": "code",
   "execution_count": null,
   "id": "2f39ded6",
   "metadata": {
    "id": "2f39ded6"
   },
   "outputs": [],
   "source": [
    "def write_tf_records(data_path, tfrecord_file_path):\n",
    "    \n",
    "    data_dir = pathlib.Path(data_path)\n",
    "\n",
    "    all_images = list(data_dir.glob('*/*'))\n",
    "    all_images = [str(path) for path in all_images]\n",
    "    random.shuffle(all_images)\n",
    "\n",
    "    image_count = len(all_images)\n",
    "\n",
    "    # Create TFRecord writer object.\n",
    "    with tf.io.TFRecordWriter(tfrecord_file_path) as writer:\n",
    "\n",
    "        # Loop over all filenames.\n",
    "        for filename in tqdm(all_images):\n",
    "            \n",
    "            # Read the image file and decode it.\n",
    "            image = tf.io.decode_image(tf.io.read_file(filename))\n",
    "            \n",
    "            # Parse the label name from the parent folder.\n",
    "            label_name = pathlib.Path(filename).parent.name\n",
    "\n",
    "            # Label is the integer mapping of the class name (e.g. 0).\n",
    "            label_id = label_names[label_name]\n",
    "            \n",
    "            # Create Example.\n",
    "            example = create_example(image, filename, label_id, label_name)\n",
    "\n",
    "            # Serialize to String and write to a TFRecord file.\n",
    "            writer.write(example.SerializeToString())"
   ]
  },
  {
   "cell_type": "markdown",
   "id": "460b6b27",
   "metadata": {
    "id": "460b6b27"
   },
   "source": [
    "### 6.2 Create TFRecord Files for CIFAR10 Train and Test"
   ]
  },
  {
   "cell_type": "code",
   "execution_count": null,
   "id": "3e19cd18",
   "metadata": {
    "id": "3e19cd18",
    "outputId": "f403c64c-06b3-4833-9763-2685953b39b3",
    "scrolled": true
   },
   "outputs": [
    {
     "name": "stderr",
     "output_type": "stream",
     "text": [
      "100%|███████████████████████████████████| 50000/50000 [00:34<00:00, 1446.65it/s]\n",
      "100%|███████████████████████████████████| 10000/10000 [00:06<00:00, 1630.55it/s]\n"
     ]
    }
   ],
   "source": [
    "# prepare train record\n",
    "write_tf_records('./cifar10/train', 'cifar10_train.tfrecords')\n",
    "\n",
    "# prepare test record\n",
    "write_tf_records('./cifar10/test', 'cifar10_test.tfrecords')"
   ]
  },
  {
   "cell_type": "markdown",
   "id": "344d89f7",
   "metadata": {
    "id": "344d89f7"
   },
   "source": [
    "### 6.3 Function to Create Train and Test Datasets from TFRecord Files"
   ]
  },
  {
   "cell_type": "code",
   "execution_count": null,
   "id": "34fc62bf",
   "metadata": {
    "id": "34fc62bf"
   },
   "outputs": [],
   "source": [
    "def get_dataset(tfrecord_file_path='./cifar10_train.tfrecords'):\n",
    "\n",
    "    # Read TFRecord file into memory.\n",
    "    dataset = tf.data.TFRecordDataset(tfrecord_file_path, num_parallel_reads=AUTOTUNE)\n",
    "    \n",
    "    # Apply the mapping function to parse and decode the records.\n",
    "    dataset = dataset.map(parse_and_decode_tfrecord, num_parallel_calls=AUTOTUNE)\n",
    "\n",
    "    # Set the batch size.\n",
    "    dataset = dataset.batch(TrainingConfig.BATCH_SIZE)\n",
    "    \n",
    "    # Call prefetch to improve throughput.\n",
    "    dataset = dataset.prefetch(AUTOTUNE)\n",
    "\n",
    "    return dataset"
   ]
  },
  {
   "cell_type": "markdown",
   "id": "3212ec6a",
   "metadata": {
    "id": "3212ec6a"
   },
   "source": [
    "### 6.4 Create Train and Test Datsets"
   ]
  },
  {
   "cell_type": "code",
   "execution_count": null,
   "id": "01732d38",
   "metadata": {
    "id": "01732d38",
    "scrolled": false
   },
   "outputs": [],
   "source": [
    "# Get the training dataset.\n",
    "train_ds = get_dataset(tfrecord_file_path='./cifar10_train.tfrecords')\n",
    "\n",
    "# Get the test dataset.\n",
    "valid_ds = get_dataset(tfrecord_file_path='./cifar10_test.tfrecords')"
   ]
  },
  {
   "cell_type": "markdown",
   "id": "c0dd470a",
   "metadata": {
    "id": "c0dd470a"
   },
   "source": [
    "### 6.5 Display a Few Images from the Datset"
   ]
  },
  {
   "cell_type": "code",
   "execution_count": null,
   "id": "eed042e9",
   "metadata": {
    "id": "eed042e9",
    "outputId": "08b751c2-ae4a-4a3d-cc11-b96a8354c56d",
    "scrolled": false
   },
   "outputs": [
    {
     "data": {
      "image/png": "[encoded data removed]",
      "text/plain": [
       "<Figure size 1080x360 with 3 Axes>"
      ]
     },
     "metadata": {
      "needs_background": "light"
     },
     "output_type": "display_data"
    }
   ],
   "source": [
    "plt.figure(figsize=(15, 5))\n",
    "\n",
    "for i, (image_batch, label_batch) in enumerate(train_ds):\n",
    "    \n",
    "    if i == 3:\n",
    "        # Break after three batches.\n",
    "        break\n",
    "\n",
    "    # Display the first image from each batch.\n",
    "    plt.subplot(1, 3, i + 1)\n",
    "    plt.imshow(np.array(image_batch[0]))\n",
    "    plt.title(list(label_names.keys())[np.argmax(label_batch[0])]);"
   ]
  },
  {
   "cell_type": "markdown",
   "id": "6acae2c3",
   "metadata": {
    "id": "6acae2c3"
   },
   "source": [
    "## 7 Compile and Train the Model\n",
    "\n",
    "Here, we will compile and train the model just to confirm that the datasets we generated are valid."
   ]
  },
  {
   "cell_type": "code",
   "execution_count": null,
   "id": "06741bd5",
   "metadata": {
    "id": "06741bd5",
    "outputId": "4d4f6e5a-4a14-4285-b063-9b59b6e93195",
    "scrolled": false
   },
   "outputs": [
    {
     "name": "stdout",
     "output_type": "stream",
     "text": [
      "Epoch 1/11\n",
      "1563/1563 [==============================] - 16s 10ms/step - loss: 1.6818 - accuracy: 0.3865 - val_loss: 1.4624 - val_accuracy: 0.4692\n",
      "Epoch 2/11\n",
      "1563/1563 [==============================] - 15s 10ms/step - loss: 1.4028 - accuracy: 0.4954 - val_loss: 1.3397 - val_accuracy: 0.5188\n",
      "Epoch 3/11\n",
      "1563/1563 [==============================] - 15s 9ms/step - loss: 1.2920 - accuracy: 0.5394 - val_loss: 1.2829 - val_accuracy: 0.5404\n",
      "Epoch 4/11\n",
      "1563/1563 [==============================] - 15s 10ms/step - loss: 1.2105 - accuracy: 0.5700 - val_loss: 1.2286 - val_accuracy: 0.5663\n",
      "Epoch 5/11\n",
      "1563/1563 [==============================] - 16s 10ms/step - loss: 1.1451 - accuracy: 0.5952 - val_loss: 1.1973 - val_accuracy: 0.5799\n",
      "Epoch 6/11\n",
      "1563/1563 [==============================] - 17s 11ms/step - loss: 1.0911 - accuracy: 0.6160 - val_loss: 1.1818 - val_accuracy: 0.5885\n",
      "Epoch 7/11\n",
      "1563/1563 [==============================] - 18s 12ms/step - loss: 1.0440 - accuracy: 0.6330 - val_loss: 1.1631 - val_accuracy: 0.5986\n",
      "Epoch 8/11\n",
      "1563/1563 [==============================] - 19s 12ms/step - loss: 1.0041 - accuracy: 0.6486 - val_loss: 1.1453 - val_accuracy: 0.6057\n",
      "Epoch 9/11\n",
      "1563/1563 [==============================] - 20s 13ms/step - loss: 0.9670 - accuracy: 0.6625 - val_loss: 1.1472 - val_accuracy: 0.6074\n",
      "Epoch 10/11\n",
      "1563/1563 [==============================] - 22s 14ms/step - loss: 0.9345 - accuracy: 0.6741 - val_loss: 1.1486 - val_accuracy: 0.6103\n",
      "Epoch 11/11\n",
      "1563/1563 [==============================] - 22s 14ms/step - loss: 0.9029 - accuracy: 0.6848 - val_loss: 1.1467 - val_accuracy: 0.6087\n"
     ]
    }
   ],
   "source": [
    "model.compile(optimizer=tf.keras.optimizers.Adam(TrainingConfig.LEARNING_RATE),\n",
    "              loss=tf.keras.losses.CategoricalCrossentropy(from_logits=False),\n",
    "              metrics=['accuracy'],\n",
    "             )\n",
    "\n",
    "history = model.fit(train_ds,\n",
    "                    epochs=TrainingConfig.EPOCHS,\n",
    "                    validation_data=valid_ds,\n",
    "                   )"
   ]
  },
  {
   "cell_type": "markdown",
   "id": "7bdf306e",
   "metadata": {
    "id": "7bdf306e"
   },
   "source": [
    "## 8 Plot the Training Results"
   ]
  },
  {
   "cell_type": "code",
   "execution_count": null,
   "id": "0e92bdfb",
   "metadata": {
    "id": "0e92bdfb"
   },
   "outputs": [],
   "source": [
    "def plot_results(metrics, ylabel=None, ylim=None, metric_name=None, color=None):\n",
    "    \n",
    "    fig, ax = plt.subplots(figsize=(15, 5))\n",
    "\n",
    "    if not (isinstance(metric_name, list) or isinstance(metric_name, tuple)):\n",
    "        metrics = [metrics,]\n",
    "        metric_name = [metric_name,]\n",
    "        \n",
    "    for idx, metric in enumerate(metrics):    \n",
    "        ax.plot(metric, color=color[idx])\n",
    "    \n",
    "    plt.xlabel(\"Epoch\")\n",
    "    plt.ylabel(ylabel)\n",
    "    plt.title(ylabel)\n",
    "    plt.xlim([0, TrainingConfig.EPOCHS-1])\n",
    "    plt.ylim(ylim)\n",
    "    # Tailor x-axis tick marks\n",
    "    ax.xaxis.set_major_locator(MultipleLocator(5))\n",
    "    ax.xaxis.set_major_formatter(FormatStrFormatter('%d'))\n",
    "    ax.xaxis.set_minor_locator(MultipleLocator(1))\n",
    "    plt.grid(True)\n",
    "    plt.legend(metric_name)   \n",
    "    plt.show(block=block_plot)\n",
    "    plt.close()"
   ]
  },
  {
   "cell_type": "code",
   "execution_count": null,
   "id": "c485aaca",
   "metadata": {
    "id": "c485aaca",
    "outputId": "edc8e4bb-8310-4e14-f660-942c70dd44bc"
   },
   "outputs": [
    {
     "data": {
      "image/png": "[encoded data removed]",
      "text/plain": [
       "<Figure size 1080x360 with 1 Axes>"
      ]
     },
     "metadata": {
      "needs_background": "light"
     },
     "output_type": "display_data"
    }
   ],
   "source": [
    "train_acc = history.history[\"accuracy\"]\n",
    "valid_acc = history.history[\"val_accuracy\"]\n",
    "\n",
    "plot_results([ train_acc, valid_acc ], \n",
    "            ylabel=\"Accuracy\",\n",
    "            ylim = [0.0, 1.0],\n",
    "            metric_name=[\"Training Accuracy\", \"Validation Accuracy\"],\n",
    "            color=[\"g\", \"b\"])"
   ]
  },
  {
   "cell_type": "markdown",
   "id": "46d8b01f",
   "metadata": {
    "id": "46d8b01f"
   },
   "source": [
    "## 9 Conclusion"
   ]
  },
  {
   "cell_type": "markdown",
   "id": "1db71008",
   "metadata": {
    "id": "1db71008"
   },
   "source": [
    "In this notebook, we demonstrated how to create `TFRecord` files and parse them to create TensorFlow datasets. TensorFlow provides the necessary infrastructure and methods to easily create custom data storage in the form of `TFRecord` files. This approach has numerous benefits for deep learning systems, which include ease of use, flexibility to support a wide range of data types, efficient storage, and fast access. While TensorFlow provides many different approaches for loading and working with data for deep learning systems, TFRecords represents the most robust and efficient method available.  "
   ]
  },
  {
   "cell_type": "code",
   "execution_count": null,
   "id": "a6c85b27",
   "metadata": {
    "id": "a6c85b27"
   },
   "outputs": [],
   "source": []
  }
 ],
 "metadata": {
  "accelerator": "GPU",
  "colab": {
   "collapsed_sections": [],
   "name": "c4_04_21_TF_Records_in_TensorFlow_RECORDED.ipynb",
   "provenance": []
  },
  "gpuClass": "standard",
  "kernelspec": {
   "display_name": "Python 3 (ipykernel)",
   "language": "python",
   "name": "python3"
  },
  "language_info": {
   "codemirror_mode": {
    "name": "ipython",
    "version": 3
   },
   "file_extension": ".py",
   "mimetype": "text/x-python",
   "name": "python",
   "nbconvert_exporter": "python",
   "pygments_lexer": "ipython3",
   "version": "3.8.13"
  },
  "latex_envs": {
   "LaTeX_envs_menu_present": true,
   "autoclose": false,
   "autocomplete": true,
   "bibliofile": "biblio.bib",
   "cite_by": "apalike",
   "current_citInitial": 1,
   "eqLabelWithNumbers": true,
   "eqNumInitial": 1,
   "hotkeys": {
    "equation": "Ctrl-E",
    "itemize": "Ctrl-I"
   },
   "labels_anchors": false,
   "latex_user_defs": false,
   "report_style_numbering": false,
   "user_envs_cfg": false
  },
  "varInspector": {
   "cols": {
    "lenName": 16,
    "lenType": 16,
    "lenVar": 40
   },
   "kernels_config": {
    "python": {
     "delete_cmd_postfix": "",
     "delete_cmd_prefix": "del ",
     "library": "var_list.py",
     "varRefreshCmd": "print(var_dic_list())"
    },
    "r": {
     "delete_cmd_postfix": ") ",
     "delete_cmd_prefix": "rm(",
     "library": "var_list.r",
     "varRefreshCmd": "cat(var_dic_list()) "
    }
   },
   "types_to_exclude": [
    "module",
    "function",
    "builtin_function_or_method",
    "instance",
    "_Feature"
   ],
   "window_display": false
  }
 },
 "nbformat": 4,
 "nbformat_minor": 5
}
