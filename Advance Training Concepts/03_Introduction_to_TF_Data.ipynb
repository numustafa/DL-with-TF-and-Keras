{
 "cells": [
  {
   "cell_type": "markdown",
   "id": "fa2c3717",
   "metadata": {
    "id": "fa2c3717"
   },
   "source": [
    "<h1 style=\"font-size:30px;\">Introduction to the TensorFlow Data API</h1>\n",
    "\n",
    "Thus far, we have been using the `image_dataset_from_directory()` class in TensorFlow to build data pipelines for training deep learning models. `image_dataset_from_directory()` is easy and straightforward to use but has some performance limitations and is not as flexible as other methods that can be used to create data pipelines. In this notebook, we will introduce how to use the <a href=\"https://www.tensorflow.org/guide/data\" target=_blank>TensorFlow Data API</a> (`tf.data`), directly which has more flexibility and performance to handle larger datasets and a wide range of data formats. \n",
    "\n",
    "Specifically, we will create data pipelines using data that resides in memory and from data that resides on the filesystem. For this purpose, we will use the <a href=\"https://www.tensorflow.org/api_docs/python/tf/data/Dataset\" target=_blank>tf.data.Dataset</a> class which has the following methods for processing data from memory and from the file system:\n",
    "\n",
    "1. `tf.data.Dataset.from_tensor_slices()`\n",
    "2. `tf.data.Dataset.list_files()` and `tf.data.Dataset.map()`"
   ]
  },
  {
   "cell_type": "markdown",
   "id": "a94abcff",
   "metadata": {
    "id": "a94abcff"
   },
   "source": [
    "\n",
    "\n",
    "## Table of Contents\n",
    "* [1 System Configuration](#1-System-Configuration)\n",
    "* [2 Training and Dataset Configurations](#2-Training-and-Dataset-Configurations)\n",
    "* [3 Download and Extract the Dataset](#3-Download-and-Extract-the-Dataset)\n",
    "* [4 LeNet5 Model](#4-LeNet5-Model)\n",
    "* [5 Data Pipeline from Memory](#5-Data-Pipeline-from-Memory)\n",
    "* [6 Data Pipeline from File System](#6-Data-Pipeline-from-File-System)\n",
    "* [7 Training Plots](#7-Training-Plots)\n",
    "* [8 Conclusion](#8-Conclusion)"
   ]
  },
  {
   "cell_type": "code",
   "execution_count": null,
   "id": "cb11fd6d",
   "metadata": {
    "id": "cb11fd6d"
   },
   "outputs": [],
   "source": [
    "import os\n",
    "import numpy as np\n",
    "import matplotlib.pyplot as plt\n",
    "import requests\n",
    "import zipfile\n",
    "import pathlib\n",
    "\n",
    "import tensorflow as tf\n",
    "from tensorflow.keras.models import Model\n",
    "from tensorflow.keras.layers import (Conv2D, Activation, Input,\n",
    "                                     MaxPool2D, Flatten, Dense)\n",
    "\n",
    "from matplotlib.ticker import (MultipleLocator, FormatStrFormatter)\n",
    "from dataclasses import dataclass\n",
    "\n",
    "from tensorflow.keras.utils import to_categorical\n",
    "\n",
    "block_plot = False"
   ]
  },
  {
   "cell_type": "markdown",
   "id": "87b06120",
   "metadata": {
    "id": "87b06120"
   },
   "source": [
    "## 1 System Configuration"
   ]
  },
  {
   "cell_type": "code",
   "execution_count": null,
   "id": "b3357517",
   "metadata": {
    "colab": {
     "base_uri": "https://localhost:8080/"
    },
    "id": "b3357517",
    "outputId": "8c2d959f-4dd8-4c15-a3b6-a28b49222fd8"
   },
   "outputs": [
    {
     "name": "stdout",
     "output_type": "stream",
     "text": [
      "[]\n",
      "Using CPU\n"
     ]
    }
   ],
   "source": [
    "def system_config(SEED_VALUE):\n",
    "\n",
    "    np.random.seed(SEED_VALUE)\n",
    "    tf.random.set_seed(SEED_VALUE)\n",
    "    \n",
    "    # Get list of GPUs.\n",
    "    gpu_devices = tf.config.list_physical_devices('GPU')\n",
    "    print(gpu_devices)\n",
    "    \n",
    "    if len(gpu_devices) > 0:\n",
    "        print('Using GPU')\n",
    "        os.environ[\"CUDA_VISIBLE_DEVICES\"] = '0'\n",
    "        os.environ['TF_CUDNN_DETERMINISTIC'] = '1' \n",
    "        \n",
    "        # If there are any gpu devices, use first gpu.\n",
    "        tf.config.experimental.set_visible_devices(gpu_devices[0], 'GPU')\n",
    "        \n",
    "        # Grow the memory usage as it is needed by the process.\n",
    "        tf.config.experimental.set_memory_growth(gpu_devices[0], True)\n",
    "        \n",
    "        # Enable using cudNN.\n",
    "        os.environ['TF_USE_CUDNN'] = \"true\"\n",
    "    else:\n",
    "        print('Using CPU')\n",
    "\n",
    "system_config(7)"
   ]
  },
  {
   "cell_type": "markdown",
   "id": "d1679b7d",
   "metadata": {
    "id": "d1679b7d"
   },
   "source": [
    "## 2 Training and Dataset Configurations"
   ]
  },
  {
   "cell_type": "code",
   "execution_count": null,
   "id": "80fa16ab",
   "metadata": {
    "id": "80fa16ab"
   },
   "outputs": [],
   "source": [
    "@dataclass(frozen=True)\n",
    "class DatasetConfig:\n",
    "    NUM_CLASSES: int = 10\n",
    "    IMG_HEIGHT:  int = 32\n",
    "    IMG_WIDTH:   int = 32\n",
    "\n",
    "@dataclass(frozen=True)\n",
    "class TrainingConfig:\n",
    "    BATCH_SIZE:      int = 16\n",
    "    EPOCHS:          int = 11\n",
    "    LEARNING_RATE: float = 0.0005\n",
    "    ROOT_LOG_DIR         = \"./logs\"\n",
    "    ROOT_CHECKPOINT_DIR  = \"./models\""
   ]
  },
  {
   "cell_type": "markdown",
   "id": "27e76643",
   "metadata": {
    "id": "27e76643"
   },
   "source": [
    "## 3 Download and Extract the Dataset"
   ]
  },
  {
   "cell_type": "markdown",
   "id": "b4f3e78a",
   "metadata": {
    "id": "b4f3e78a"
   },
   "source": [
    "As mentioned above, we will demonstrate how to create data pipelines from data that resides in memory and from data that resides on the file system. In this section, we will download the CIFAR10 dataset to our file system so it is avaialble for us to process. This CIFAR10 dataset has been downloaded from <a href=\"https://pjreddie.com/projects/cifar-10-dataset-mirror/\" target=_blank>Joseph Redmon's website</a> and modified such that all the images are in their respective class folders."
   ]
  },
  {
   "cell_type": "code",
   "execution_count": null,
   "id": "935620a0",
   "metadata": {
    "id": "935620a0"
   },
   "outputs": [],
   "source": [
    "def download_file(url, save_name):\n",
    "    url = url\n",
    "    if not os.path.exists(save_name):\n",
    "        file = requests.get(url)\n",
    "        open(save_name, 'wb').write(file.content)"
   ]
  },
  {
   "cell_type": "code",
   "execution_count": null,
   "id": "20e9dd5b",
   "metadata": {
    "id": "20e9dd5b"
   },
   "outputs": [],
   "source": [
    "def unzip(zip_file=None):\n",
    "    try:\n",
    "        with zipfile.ZipFile(zip_file) as z:\n",
    "            z.extractall(\"./\")\n",
    "            print(\"Extracted all\")\n",
    "    except:\n",
    "        print(\"Invalid file\")"
   ]
  },
  {
   "cell_type": "code",
   "execution_count": null,
   "id": "d6634d46",
   "metadata": {
    "id": "d6634d46",
    "outputId": "dd5a0d4a-d875-4a61-ff77-688fe8616ac8"
   },
   "outputs": [
    {
     "name": "stdout",
     "output_type": "stream",
     "text": [
      "Extracted all\n"
     ]
    }
   ],
   "source": [
    "download_file(\n",
    "    'https://www.dropbox.com/s/6jrhe7uu4a4qxbn/cifar10.zip?dl=1',\n",
    "    'cifar10.zip'\n",
    ")\n",
    "    \n",
    "unzip(zip_file='cifar10.zip')"
   ]
  },
  {
   "cell_type": "markdown",
   "id": "a48ffd8d",
   "metadata": {
    "id": "a48ffd8d"
   },
   "source": [
    "```\n",
    "cifar10\n",
    "├── labels.txt\n",
    "├── test\n",
    "│   ├── airplane\n",
    "│   ├── automobile\n",
    "│   ├── bird\n",
    "│   ├── cat\n",
    "│   ├── deer\n",
    "│   ├── dog\n",
    "│   ├── frog\n",
    "│   ├── horse\n",
    "│   ├── ship\n",
    "│   └── truck\n",
    "└── train\n",
    "    ├── airplane\n",
    "    ├── automobile\n",
    "    ├── bird\n",
    "    ├── cat\n",
    "    ├── deer\n",
    "    ├── dog\n",
    "    ├── frog\n",
    "    ├── horse\n",
    "    ├── ship\n",
    "    └── truck\n",
    "```\n",
    "\n",
    "As you can see, we have `train` and `test` subdirectories which in turn contain sub-directories for each class in the CIFAR10 dataset. All the class folders contain the respective images."
   ]
  },
  {
   "cell_type": "markdown",
   "id": "854680bb",
   "metadata": {
    "id": "854680bb"
   },
   "source": [
    "## 4 LeNet5 Model"
   ]
  },
  {
   "cell_type": "code",
   "execution_count": null,
   "id": "d1199261",
   "metadata": {
    "id": "d1199261"
   },
   "outputs": [],
   "source": [
    "def LeNet5_model(num_classes, shape, print_model_summary=True):\n",
    "\n",
    "    inputs = Input(shape=shape)\n",
    "    \n",
    "    # -------------------------------------\n",
    "    # First convolutional Layer + pooling\n",
    "    # -------------------------------------\n",
    "    x = Conv2D(6, 5, padding='valid')(inputs)              # input size = (32, 32), output size = (28, 28)\n",
    "    x = Activation(\"relu\")(x)                              # output size = (28, 28)\n",
    "    x = MaxPool2D()(x)                                     # output size = (14, 14)\n",
    "\n",
    "    # -------------------------------------\n",
    "    # Second convolutional layer + pooling \n",
    "    # -------------------------------------\n",
    "    x = Conv2D(16, 5, padding='valid')(x)                  # input size = (14, 14), output size = (10, 10)\n",
    "    x = Activation('relu')(x)                              # output size = (10, 10)\n",
    "    feature_extractor_output = MaxPool2D()(x)              # output size = (5, 5)\n",
    "\n",
    "    # Flatten.\n",
    "    flattened = Flatten()(feature_extractor_output)        # 5 * 5 * 16 -> 400\n",
    "\n",
    "    # ------------------------- \n",
    "    # Fully connected layers.\n",
    "    # -------------------------\n",
    "    x = Dense(120, activation='relu')(flattened)           # 400 -> 120\n",
    "    x = Dense(84, activation='relu')(x)                    # 120 -> 84\n",
    "    \n",
    "    # Softmax output layer.\n",
    "    headout = Dense(num_classes, activation=\"softmax\")(x)  # 84 -> 10\n",
    "    \n",
    "    # Create model.\n",
    "    model = Model(inputs=inputs, outputs=headout, name='LeNet5')\n",
    "    \n",
    "    if print_model_summary:\n",
    "        model.summary()\n",
    "        \n",
    "    return model"
   ]
  },
  {
   "cell_type": "code",
   "execution_count": null,
   "id": "cc5c84dc",
   "metadata": {
    "colab": {
     "base_uri": "https://localhost:8080/"
    },
    "id": "cc5c84dc",
    "outputId": "abccabd8-ea42-483a-e221-30fcc042c0d0"
   },
   "outputs": [
    {
     "name": "stdout",
     "output_type": "stream",
     "text": [
      "Model: \"LeNet5\"\n",
      "_________________________________________________________________\n",
      " Layer (type)                Output Shape              Param #   \n",
      "=================================================================\n",
      " input_1 (InputLayer)        [(None, 32, 32, 3)]       0         \n",
      "                                                                 \n",
      " conv2d (Conv2D)             (None, 28, 28, 6)         456       \n",
      "                                                                 \n",
      " activation (Activation)     (None, 28, 28, 6)         0         \n",
      "                                                                 \n",
      " max_pooling2d (MaxPooling2D  (None, 14, 14, 6)        0         \n",
      " )                                                               \n",
      "                                                                 \n",
      " conv2d_1 (Conv2D)           (None, 10, 10, 16)        2416      \n",
      "                                                                 \n",
      " activation_1 (Activation)   (None, 10, 10, 16)        0         \n",
      "                                                                 \n",
      " max_pooling2d_1 (MaxPooling  (None, 5, 5, 16)         0         \n",
      " 2D)                                                             \n",
      "                                                                 \n",
      " flatten (Flatten)           (None, 400)               0         \n",
      "                                                                 \n",
      " dense (Dense)               (None, 120)               48120     \n",
      "                                                                 \n",
      " dense_1 (Dense)             (None, 84)                10164     \n",
      "                                                                 \n",
      " dense_2 (Dense)             (None, 10)                850       \n",
      "                                                                 \n",
      "=================================================================\n",
      "Total params: 62,006\n",
      "Trainable params: 62,006\n",
      "Non-trainable params: 0\n",
      "_________________________________________________________________\n"
     ]
    },
    {
     "name": "stderr",
     "output_type": "stream",
     "text": [
      "2022-07-23 12:24:01.773852: I tensorflow/core/platform/cpu_feature_guard.cc:151] This TensorFlow binary is optimized with oneAPI Deep Neural Network Library (oneDNN) to use the following CPU instructions in performance-critical operations:  AVX2 FMA\n",
      "To enable them in other operations, rebuild TensorFlow with the appropriate compiler flags.\n"
     ]
    }
   ],
   "source": [
    "model = LeNet5_model(num_classes=DatasetConfig.NUM_CLASSES, \n",
    "                     shape=(DatasetConfig.IMG_HEIGHT, DatasetConfig.IMG_WIDTH, 3))"
   ]
  },
  {
   "cell_type": "markdown",
   "id": "bcea119f",
   "metadata": {
    "id": "bcea119f"
   },
   "source": [
    "## 5 Data Pipeline from Memory \n",
    "\n",
    "In this section, we are going to demonstrate how to create a data pipeline from data that resides in memory. For that purpose, we will load the CIFAR10 dataset into memory and then build a data pipeline from the data in memory. As a preview, we will create two convenience functions and use them to build the pipeline. The first function `cifar10_from_keras()` will load the dataset into memory, and the second function `prepare_input_pipeline()` will use `tf.data.Dataset.from_tensor_slices()` to build the data pipeline.\n",
    "\n",
    "#### Load the CIFAR10 data into memory\n",
    "`(X_train, y_train), (X_valid, y_test) = cifar10_from_keras()`\n",
    "\n",
    "#### Prepare the tf.data pipeline data from memory\n",
    "`train_ds = prepare_input_pipeline(X_train, y_train)` <br>\n",
    "`valid_ds = prepare_input_pipeline(X_test, y_test)`\n",
    "\n",
    "With that preview, let's now take a look at each of these functions."
   ]
  },
  {
   "cell_type": "markdown",
   "id": "e1037081",
   "metadata": {
    "id": "e1037081"
   },
   "source": [
    "### 5.1 Function to Load Dataset in Memory\n",
    "\n",
    "The function below loads the CIFAR10 dataset from `Keras.datasets` into NumPy arrays and performs some pre-processing on the data to normalize the images and convert the labels to a one-hot encoded representation."
   ]
  },
  {
   "cell_type": "code",
   "execution_count": null,
   "id": "07205fb4",
   "metadata": {
    "id": "07205fb4"
   },
   "outputs": [],
   "source": [
    "# Function to load the CIFAR10 dataset from Keras Datasets.\n",
    "def cifar10_from_keras():\n",
    "    \n",
    "    # load_data() returns NumPy arrays with Shape: (samples, height, width, channels)\n",
    "    (X_train, y_train), (X_test, y_test) = tf.keras.datasets.cifar10.load_data()\n",
    "    \n",
    "    # Normalize images.\n",
    "    X_train = X_train / 255.\n",
    "    X_test = X_test / 255.\n",
    "    \n",
    "    num_classes = y_train.shape[-1]\n",
    "    y_train = to_categorical(y_train, DatasetConfig.NUM_CLASSES)\n",
    "    y_test = to_categorical(y_test, DatasetConfig.NUM_CLASSES)\n",
    "        \n",
    "    return (X_train, y_train), (X_test, y_test)"
   ]
  },
  {
   "cell_type": "markdown",
   "id": "13b9dcc5",
   "metadata": {
    "id": "13b9dcc5"
   },
   "source": [
    "### 5.2 Function to Create Pre-fetch Dataset from Memory\n",
    "\n",
    "The next function below uses `tf.data.Dataset.from_tensor_slices()` to load the image and label tensors into a dataset whose elements are slices of the given tensors. The inputs are sliced along their first dimension, which preserves the structure of the input, removing the first dimension of each tensor and using it as the dataset dimension. "
   ]
  },
  {
   "cell_type": "code",
   "execution_count": null,
   "id": "6879cc0c",
   "metadata": {
    "id": "6879cc0c"
   },
   "outputs": [],
   "source": [
    "def prepare_input_pipeline(x, y):\n",
    "    \n",
    "    # Create a TensorSliceDataset object.\n",
    "    # x:  (samples, height, width, channels)\n",
    "    # y:  (samples, classes)\n",
    "    # ds: {samples} ((height, width, channels), (classes,))\n",
    "    ds = tf.data.Dataset.from_tensor_slices((x, y))\n",
    "    \n",
    "    # Optional, but highly recommended for improved performance. \n",
    "    ds = ds.cache()\n",
    "    ds = ds.shuffle(buffer_size=512)\n",
    "    ds = ds.batch(TrainingConfig.BATCH_SIZE)\n",
    "    ds = ds.prefetch(tf.data.AUTOTUNE)\n",
    "    \n",
    "    return ds"
   ]
  },
  {
   "cell_type": "markdown",
   "id": "0954e622",
   "metadata": {
    "id": "0954e622"
   },
   "source": [
    "Ok, now let's try to understand what is happening in the above code block. In the `prepare_input_pipeline()`:\n",
    "* We pass the images and labels as NumPy arrays to the function.\n",
    "* As discussed we use the `tf.data.Dataset.from_tensor_slices` to prepare the `dataset`. This contains the data examples as images and their corresponding labels.\n",
    "\n",
    "The next few lines of code are optional but can improve performance.\n",
    "* `cache()`: Before loading the data in memory and shuffling it, we cache the data. This will improve performance by minimizing operations (like data reading) from being executed during each epoch.\n",
    "* `shuffle`:  Randomly shuffles the elements of the dataset. `buffer_size` signifies how many data points to use at once. You need to be a bit careful with this as too large a `buffer_size` can potentially freeze your system if you run out of memory. 512, or 1024 provides a good balance.\n",
    "* `batch`: This is the batch size to use for the training epochs.\n",
    "* `prefetch`: Prefetching overlaps the preprocessing and model execution of a training step. While the model is executing training step s, the input pipeline is reading the data for step s+1. It can be used to decouple the time when data is produced from the time when data is consumed. The number of elements to prefetch can be managed by passing  `tf.data.AUTOTUNE`.\n",
    " \n",
    " "
   ]
  },
  {
   "cell_type": "markdown",
   "id": "dca8d5d8",
   "metadata": {
    "id": "dca8d5d8"
   },
   "source": [
    "### 5.3 Load the Dataset in Memory and Create the Data Pipeline\n",
    "\n",
    "We will now use the two functions above to load the data in memory and create a data pipeline. Note that although the dataset is partitioned into train and test components, for demonstration purposes, we will simply use the test data as the validation dataset. "
   ]
  },
  {
   "cell_type": "code",
   "execution_count": null,
   "id": "419b2ef9",
   "metadata": {
    "id": "419b2ef9"
   },
   "outputs": [],
   "source": [
    "# Load the CIFAR10 data into memory.\n",
    "(X_train, y_train), (X_test, y_test) = cifar10_from_keras()\n",
    "\n",
    "# Prepare the tf.data pipeline data from memory.\n",
    "train_ds = prepare_input_pipeline(X_train, y_train)\n",
    "valid_ds = prepare_input_pipeline(X_test, y_test)"
   ]
  },
  {
   "cell_type": "markdown",
   "id": "9c5be1a4",
   "metadata": {
    "id": "9c5be1a4"
   },
   "source": [
    "### 5.5 Compile and Train the Model"
   ]
  },
  {
   "cell_type": "code",
   "execution_count": null,
   "id": "aa1da7b5",
   "metadata": {
    "id": "aa1da7b5",
    "outputId": "269dd306-60b6-4e74-e663-289a9a69bbd9",
    "scrolled": false
   },
   "outputs": [
    {
     "name": "stdout",
     "output_type": "stream",
     "text": [
      "TRAINING FROM LOADING TF.DATA DATASET FROM MEMORY\n",
      "Epoch 1/11\n",
      "3125/3125 [==============================] - 16s 5ms/step - loss: 1.6105 - accuracy: 0.4152 - val_loss: 1.4704 - val_accuracy: 0.4709\n",
      "Epoch 2/11\n",
      "3125/3125 [==============================] - 15s 5ms/step - loss: 1.3493 - accuracy: 0.5129 - val_loss: 1.2931 - val_accuracy: 0.5324\n",
      "Epoch 3/11\n",
      "3125/3125 [==============================] - 16s 5ms/step - loss: 1.2470 - accuracy: 0.5561 - val_loss: 1.2964 - val_accuracy: 0.5418\n",
      "Epoch 4/11\n",
      "3125/3125 [==============================] - 17s 5ms/step - loss: 1.1778 - accuracy: 0.5808 - val_loss: 1.2347 - val_accuracy: 0.5666\n",
      "Epoch 5/11\n",
      "3125/3125 [==============================] - 17s 5ms/step - loss: 1.1195 - accuracy: 0.6022 - val_loss: 1.1937 - val_accuracy: 0.5784\n",
      "Epoch 6/11\n",
      "3125/3125 [==============================] - 17s 5ms/step - loss: 1.0705 - accuracy: 0.6218 - val_loss: 1.1301 - val_accuracy: 0.6017\n",
      "Epoch 7/11\n",
      "3125/3125 [==============================] - 17s 5ms/step - loss: 1.0325 - accuracy: 0.6344 - val_loss: 1.1185 - val_accuracy: 0.6100\n",
      "Epoch 8/11\n",
      "3125/3125 [==============================] - 17s 5ms/step - loss: 0.9914 - accuracy: 0.6503 - val_loss: 1.1293 - val_accuracy: 0.6088\n",
      "Epoch 9/11\n",
      "3125/3125 [==============================] - 18s 6ms/step - loss: 0.9615 - accuracy: 0.6602 - val_loss: 1.1051 - val_accuracy: 0.6178\n",
      "Epoch 10/11\n",
      "3125/3125 [==============================] - 20s 6ms/step - loss: 0.9295 - accuracy: 0.6724 - val_loss: 1.1094 - val_accuracy: 0.6140\n",
      "Epoch 11/11\n",
      "3125/3125 [==============================] - 21s 7ms/step - loss: 0.9020 - accuracy: 0.6832 - val_loss: 1.1003 - val_accuracy: 0.6230\n"
     ]
    }
   ],
   "source": [
    "# Compile the model for experiment 1.\n",
    "model = LeNet5_model(num_classes=DatasetConfig.NUM_CLASSES, \n",
    "                     shape=(DatasetConfig.IMG_HEIGHT, DatasetConfig.IMG_WIDTH, 3),\n",
    "                     print_model_summary=False)\n",
    "\n",
    "model.compile(optimizer=tf.keras.optimizers.Adam(TrainingConfig.LEARNING_RATE), \n",
    "              loss=tf.keras.losses.CategoricalCrossentropy(from_logits=False),\n",
    "              metrics=['accuracy']\n",
    "             )\n",
    "\n",
    "# Train experiment 1.\n",
    "print('TRAINING FROM LOADING TF.DATA DATASET FROM MEMORY')\n",
    "history_1 = model.fit(train_ds,\n",
    "                      epochs=TrainingConfig.EPOCHS,\n",
    "                      validation_data=valid_ds,\n",
    "                     )"
   ]
  },
  {
   "cell_type": "markdown",
   "id": "e8cb24d7",
   "metadata": {
    "id": "e8cb24d7"
   },
   "source": [
    "## 6 Data Pipeline from File System\n",
    "\n",
    "Creating a data pipeline from data that resides on the file system requires two methods from the TensorFlow Data API.\n",
    "\n",
    "`tf.data.Dataset.list_files(path)`<br/>\n",
    "`tf.data.Dataset.map(map_func)`\n",
    "\n",
    "We first use `tf.data.Dataset.list_files()` to create a dataset object that contains file path references to the image files on disk. We then use the `tf.data.Dataset.map()` method which allows us to apply a user-defined function to process the images files on disk.\n",
    "\n",
    "First, we define the list of class names for the CIFAR10 dataset and specify he root path for the dataset on the file system."
   ]
  },
  {
   "cell_type": "code",
   "execution_count": null,
   "id": "13071cfa",
   "metadata": {
    "id": "13071cfa"
   },
   "outputs": [],
   "source": [
    "class_names = ['airplane', 'automobile', 'bird', 'cat', 'deer', 'dog', 'frog', 'horse', 'ship', 'truck']"
   ]
  },
  {
   "cell_type": "code",
   "execution_count": null,
   "id": "bdce8e57",
   "metadata": {
    "id": "bdce8e57"
   },
   "outputs": [],
   "source": [
    "# Define the root path.\n",
    "cifar10_root = pathlib.Path('./cifar10')"
   ]
  },
  {
   "cell_type": "markdown",
   "id": "79c1bc28",
   "metadata": {
    "id": "79c1bc28"
   },
   "source": [
    "### 6.1 Using `tf.data.Dataset.list_files()` to Create List Datasets\n",
    "\n",
    "Here, we use glob notation to obtain the path names to each image file in the dataset, and the `list_files()` method returns a`shuffleDataset` object that contains the pathnames stores as TensorFlow strings. Informally, we'll also refer to these objects as list datasets since they contain the list of pathnames to the image files."
   ]
  },
  {
   "cell_type": "code",
   "execution_count": null,
   "id": "9905c03f",
   "metadata": {
    "id": "9905c03f",
    "outputId": "c9c9f3c7-d315-40d5-b06e-6ff0d20fbdc5"
   },
   "outputs": [
    {
     "name": "stdout",
     "output_type": "stream",
     "text": [
      "tf.Tensor(b'cifar10/train/ship/46944_ship.png', shape=(), dtype=string)\n",
      "tf.Tensor(b'cifar10/train/truck/44836_truck.png', shape=(), dtype=string)\n",
      "tf.Tensor(b'cifar10/train/automobile/28957_automobile.png', shape=(), dtype=string)\n",
      "tf.Tensor(b'cifar10/train/truck/43112_truck.png', shape=(), dtype=string)\n",
      "tf.Tensor(b'cifar10/train/cat/39885_cat.png', shape=(), dtype=string)\n"
     ]
    }
   ],
   "source": [
    "# Create the train and validation list datasets and check a few samples.\n",
    "train_list_ds = tf.data.Dataset.list_files(os.path.join(cifar10_root, 'train', '*', '*'))\n",
    "valid_list_ds = tf.data.Dataset.list_files(os.path.join(cifar10_root, 'test',  '*', '*'))\n",
    "\n",
    "# Print a few entries from train_list_ds.\n",
    "for file in train_list_ds.take(5):\n",
    "    print(file)"
   ]
  },
  {
   "cell_type": "markdown",
   "id": "391c4ca4",
   "metadata": {
    "id": "391c4ca4"
   },
   "source": [
    "### 6.2 Define a Function to Process the Image Files in the List Datasets\n",
    "\n",
    "Next, we need to define a function that will process each of the image files in the list datasets we created above. The input signature of the function below is determined by the structure of each element in the list dataset (which is a file path to an image file). \n",
    "\n",
    "The function reads the image, decodes it from byte strings, and converts it to a `float32` tensor format. Next, we parse the file path to retrieve the class name (label) for the image sample. We then compare the `class_name` to the `class_names` list, which returns a boolean tensor which is then passed to the `argmax` function to determine the class ID (0-9)."
   ]
  },
  {
   "cell_type": "code",
   "execution_count": null,
   "id": "f5c91c8a",
   "metadata": {
    "id": "f5c91c8a"
   },
   "outputs": [],
   "source": [
    "def process_path(file_path):\n",
    "\n",
    "    raw = tf.io.read_file(file_path)\n",
    "    image = tf.io.decode_image(raw)\n",
    "    image = tf.image.convert_image_dtype(image, tf.float32)\n",
    "    \n",
    "    # Parse the file path to retrieve the class name.\n",
    "    class_name = tf.strings.split(file_path, os.sep)[-2]\n",
    "    \n",
    "    # Compare the class name to the class names list to dertermine the class ID.\n",
    "    one_hot = class_name == class_names\n",
    "    label = tf.argmax(one_hot)\n",
    "    \n",
    "    return image, label"
   ]
  },
  {
   "cell_type": "markdown",
   "id": "6ec4aa1e",
   "metadata": {
    "id": "6ec4aa1e"
   },
   "source": [
    "### 6.3 Apply the Mapping Function to the List Dataset"
   ]
  },
  {
   "cell_type": "code",
   "execution_count": null,
   "id": "36d7ae1f",
   "metadata": {
    "id": "36d7ae1f"
   },
   "outputs": [],
   "source": [
    "# Apply the mapping function to the list datasets.\n",
    "train_ds = train_list_ds.map(process_path)\n",
    "valid_ds = valid_list_ds.map(process_path)\n",
    "\n",
    "# Optional, but highly recommended for improved performance. \n",
    "train_ds = (train_ds\n",
    "            .cache()\n",
    "            .shuffle(buffer_size=512)\n",
    "            .batch(TrainingConfig.BATCH_SIZE)\n",
    "            .prefetch(tf.data.AUTOTUNE)\n",
    "           )\n",
    "\n",
    "valid_ds = valid_ds.batch(batch_size=TrainingConfig.BATCH_SIZE)"
   ]
  },
  {
   "cell_type": "markdown",
   "id": "97aa268b",
   "metadata": {
    "id": "97aa268b"
   },
   "source": [
    "### 6.4 Compile and Train the Model"
   ]
  },
  {
   "cell_type": "code",
   "execution_count": null,
   "id": "98397722",
   "metadata": {
    "id": "98397722",
    "outputId": "1301116b-6add-426c-a2c7-e76b247edca2",
    "scrolled": false
   },
   "outputs": [
    {
     "name": "stdout",
     "output_type": "stream",
     "text": [
      "Model: \"LeNet5\"\n",
      "_________________________________________________________________\n",
      " Layer (type)                Output Shape              Param #   \n",
      "=================================================================\n",
      " input_3 (InputLayer)        [(None, 32, 32, 3)]       0         \n",
      "                                                                 \n",
      " conv2d_4 (Conv2D)           (None, 28, 28, 6)         456       \n",
      "                                                                 \n",
      " activation_4 (Activation)   (None, 28, 28, 6)         0         \n",
      "                                                                 \n",
      " max_pooling2d_4 (MaxPooling  (None, 14, 14, 6)        0         \n",
      " 2D)                                                             \n",
      "                                                                 \n",
      " conv2d_5 (Conv2D)           (None, 10, 10, 16)        2416      \n",
      "                                                                 \n",
      " activation_5 (Activation)   (None, 10, 10, 16)        0         \n",
      "                                                                 \n",
      " max_pooling2d_5 (MaxPooling  (None, 5, 5, 16)         0         \n",
      " 2D)                                                             \n",
      "                                                                 \n",
      " flatten_2 (Flatten)         (None, 400)               0         \n",
      "                                                                 \n",
      " dense_6 (Dense)             (None, 120)               48120     \n",
      "                                                                 \n",
      " dense_7 (Dense)             (None, 84)                10164     \n",
      "                                                                 \n",
      " dense_8 (Dense)             (None, 10)                850       \n",
      "                                                                 \n",
      "=================================================================\n",
      "Total params: 62,006\n",
      "Trainable params: 62,006\n",
      "Non-trainable params: 0\n",
      "_________________________________________________________________\n",
      "\n",
      "TRAINING FROM LOADING TF.DATA DATASET FROM DISK\n",
      "Epoch 1/11\n",
      "3125/3125 [==============================] - 28s 9ms/step - loss: 1.6705 - accuracy: 0.3943 - val_loss: 1.4566 - val_accuracy: 0.4725\n",
      "Epoch 2/11\n",
      "3125/3125 [==============================] - 26s 8ms/step - loss: 1.3942 - accuracy: 0.4989 - val_loss: 1.3595 - val_accuracy: 0.5128\n",
      "Epoch 3/11\n",
      "3125/3125 [==============================] - 28s 9ms/step - loss: 1.2888 - accuracy: 0.5395 - val_loss: 1.3168 - val_accuracy: 0.5302\n",
      "Epoch 4/11\n",
      "3125/3125 [==============================] - 29s 9ms/step - loss: 1.2075 - accuracy: 0.5729 - val_loss: 1.2297 - val_accuracy: 0.5663\n",
      "Epoch 5/11\n",
      "3125/3125 [==============================] - 30s 10ms/step - loss: 1.1342 - accuracy: 0.6018 - val_loss: 1.2149 - val_accuracy: 0.5726\n",
      "Epoch 6/11\n",
      "3125/3125 [==============================] - 30s 10ms/step - loss: 1.0771 - accuracy: 0.6208 - val_loss: 1.1948 - val_accuracy: 0.5803\n",
      "Epoch 7/11\n",
      "3125/3125 [==============================] - 28s 9ms/step - loss: 1.0303 - accuracy: 0.6404 - val_loss: 1.1395 - val_accuracy: 0.6039\n",
      "Epoch 8/11\n",
      "3125/3125 [==============================] - 28s 9ms/step - loss: 0.9820 - accuracy: 0.6539 - val_loss: 1.1441 - val_accuracy: 0.6088\n",
      "Epoch 9/11\n",
      "3125/3125 [==============================] - 29s 9ms/step - loss: 0.9406 - accuracy: 0.6735 - val_loss: 1.1519 - val_accuracy: 0.6068\n",
      "Epoch 10/11\n",
      "3125/3125 [==============================] - 29s 9ms/step - loss: 0.9025 - accuracy: 0.6838 - val_loss: 1.1466 - val_accuracy: 0.6075\n",
      "Epoch 11/11\n",
      "3125/3125 [==============================] - 30s 9ms/step - loss: 0.8680 - accuracy: 0.6958 - val_loss: 1.1329 - val_accuracy: 0.6143\n"
     ]
    }
   ],
   "source": [
    "# Compile the model for experiment 2.\n",
    "model = LeNet5_model(num_classes=DatasetConfig.NUM_CLASSES, \n",
    "                     shape=(DatasetConfig.IMG_HEIGHT, DatasetConfig.IMG_WIDTH, 3))\n",
    "\n",
    "model.compile(optimizer=tf.keras.optimizers.Adam(TrainingConfig.LEARNING_RATE),\n",
    "              loss=tf.keras.losses.SparseCategoricalCrossentropy(from_logits=False),\n",
    "              metrics=['accuracy'],\n",
    "             )\n",
    "\n",
    "# Train experiment 2.\n",
    "print('\\nTRAINING FROM LOADING TF.DATA DATASET FROM DISK')\n",
    "\n",
    "history_2 = model.fit(train_ds,\n",
    "                      epochs=TrainingConfig.EPOCHS,\n",
    "                      validation_data=valid_ds,\n",
    "                     )"
   ]
  },
  {
   "cell_type": "markdown",
   "id": "a42a364b",
   "metadata": {
    "id": "a42a364b"
   },
   "source": [
    "## 7 Training Plots"
   ]
  },
  {
   "cell_type": "code",
   "execution_count": null,
   "id": "58a38bc3",
   "metadata": {
    "id": "58a38bc3"
   },
   "outputs": [],
   "source": [
    "def plot_results(metrics, ylabel=None, ylim=None, metric_name=None, color=None):\n",
    "    \n",
    "    fig, ax = plt.subplots(figsize=(15, 5))\n",
    "\n",
    "    if not (isinstance(metric_name, list) or isinstance(metric_name, tuple)):\n",
    "        metrics = [metrics,]\n",
    "        metric_name = [metric_name,]\n",
    "        \n",
    "    for idx, metric in enumerate(metrics):    \n",
    "        ax.plot(metric, color=color[idx])\n",
    "    \n",
    "    plt.xlabel(\"Epoch\")\n",
    "    plt.ylabel(ylabel)\n",
    "    plt.title(ylabel)\n",
    "    plt.xlim([0, TrainingConfig.EPOCHS-1])\n",
    "    plt.ylim(ylim)\n",
    "    # Tailor x-axis tick marks\n",
    "    ax.xaxis.set_major_locator(MultipleLocator(5))\n",
    "    ax.xaxis.set_major_formatter(FormatStrFormatter('%d'))\n",
    "    ax.xaxis.set_minor_locator(MultipleLocator(1))\n",
    "    plt.grid(True)\n",
    "    plt.legend(metric_name)   \n",
    "    plt.show(block=block_plot)\n",
    "    plt.close()"
   ]
  },
  {
   "cell_type": "code",
   "execution_count": null,
   "id": "f8030bf2",
   "metadata": {
    "id": "f8030bf2",
    "outputId": "55f0fd0f-43d2-4767-f46c-8678cefd2a65",
    "scrolled": false
   },
   "outputs": [
    {
     "data": {
      "image/png": "[encoded data removed]",
      "text/plain": [
       "<Figure size 1080x360 with 1 Axes>"
      ]
     },
     "metadata": {
      "needs_background": "light"
     },
     "output_type": "display_data"
    },
    {
     "data": {
      "image/png": "[encoded data removed]",
      "text/plain": [
       "<Figure size 1080x360 with 1 Axes>"
      ]
     },
     "metadata": {
      "needs_background": "light"
     },
     "output_type": "display_data"
    }
   ],
   "source": [
    "train_acc = history_1.history[\"accuracy\"]\n",
    "valid_acc = history_1.history[\"val_accuracy\"]\n",
    "\n",
    "plot_results([ train_acc, valid_acc ], \n",
    "            ylabel=\"Accuracy\",\n",
    "            ylim = [0.0, 1.0],\n",
    "            metric_name=[\"Training Accuracy\", \"Validation Accuracy\"],\n",
    "            color=[\"g\", \"b\"])\n",
    "\n",
    "train_acc = history_2.history[\"accuracy\"]\n",
    "valid_acc = history_2.history[\"val_accuracy\"]\n",
    "\n",
    "plot_results([ train_acc, valid_acc ], \n",
    "            ylabel=\"Accuracy\",\n",
    "            ylim = [0.0, 1.0],\n",
    "            metric_name=[\"Training Accuracy\", \"Validation Accuracy\"],\n",
    "            color=[\"g\", \"b\"])"
   ]
  },
  {
   "cell_type": "markdown",
   "id": "175b0caa",
   "metadata": {
    "id": "175b0caa"
   },
   "source": [
    "## 8 Conclusion\n",
    "In this notebook, we learned how to use the `tf.data` API to build efficient input data pipelines for image data using `tf.data.Datasets`. We demonstrated how to do this from data stored in memory as well as for data that resides on the file system. In the next notebook, we'll demonstrate how to use the Sequence class in TensorFlow to create a custom data loader class that will be very helpful in the next module when we cover image segmentation."
   ]
  },
  {
   "cell_type": "code",
   "execution_count": null,
   "id": "e5f0bb74",
   "metadata": {
    "id": "e5f0bb74"
   },
   "outputs": [],
   "source": []
  }
 ],
 "metadata": {
  "accelerator": "GPU",
  "colab": {
   "collapsed_sections": [],
   "name": "c4_04_19_Introduction_to_TF_Data_RECORDED.ipynb",
   "provenance": []
  },
  "gpuClass": "standard",
  "kernelspec": {
   "display_name": "Python 3 (ipykernel)",
   "language": "python",
   "name": "python3"
  },
  "language_info": {
   "codemirror_mode": {
    "name": "ipython",
    "version": 3
   },
   "file_extension": ".py",
   "mimetype": "text/x-python",
   "name": "python",
   "nbconvert_exporter": "python",
   "pygments_lexer": "ipython3",
   "version": "3.8.13"
  },
  "latex_envs": {
   "LaTeX_envs_menu_present": true,
   "autoclose": false,
   "autocomplete": true,
   "bibliofile": "biblio.bib",
   "cite_by": "apalike",
   "current_citInitial": 1,
   "eqLabelWithNumbers": true,
   "eqNumInitial": 1,
   "hotkeys": {
    "equation": "Ctrl-E",
    "itemize": "Ctrl-I"
   },
   "labels_anchors": false,
   "latex_user_defs": false,
   "report_style_numbering": false,
   "user_envs_cfg": false
  },
  "varInspector": {
   "cols": {
    "lenName": 16,
    "lenType": 16,
    "lenVar": 40
   },
   "kernels_config": {
    "python": {
     "delete_cmd_postfix": "",
     "delete_cmd_prefix": "del ",
     "library": "var_list.py",
     "varRefreshCmd": "print(var_dic_list())"
    },
    "r": {
     "delete_cmd_postfix": ") ",
     "delete_cmd_prefix": "rm(",
     "library": "var_list.r",
     "varRefreshCmd": "cat(var_dic_list()) "
    }
   },
   "types_to_exclude": [
    "module",
    "function",
    "builtin_function_or_method",
    "instance",
    "_Feature"
   ],
   "window_display": false
  }
 },
 "nbformat": 4,
 "nbformat_minor": 5
}
