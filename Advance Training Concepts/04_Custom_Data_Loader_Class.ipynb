{
 "cells": [
  {
   "cell_type": "markdown",
   "id": "964e672d",
   "metadata": {
    "id": "964e672d"
   },
   "source": [
    "<h1 style=\"font-size:30px;\">Using the Sequence Class in TensorFlow to Build a Data Pipeline</h1>"
   ]
  },
  {
   "cell_type": "markdown",
   "id": "be70ba29",
   "metadata": {
    "id": "be70ba29"
   },
   "source": [
    "In the previous notebook, you learned how to use `tf.data` to create datasets for training. We saw how to load datasets from disk as well as from memory. However, there may be times when we need to write our own custom classes to prepare a dataset for training. The `Sequence` class in TensorFow can be used as a base object for implementing a custom data loader class.\n",
    "\n",
    "But why use the `tf.keras.utils.Sequence` module to create datasets when we already have the convenience of `image_dataset_from_directory` and `tf.data.Dataset`?\n",
    "\n",
    "Let's summarize the important reasons:\n",
    "\n",
    "1. A custom data loader class provides flexibility while preparing the data. We can create batches of data from complex and unordered directories, CSV files, and multiple folders containing images. We have complete control over how the image and label data is read and processed since we implement the class ourselves.\n",
    "2. The directory structure might not be in a format that `image_dataset_from_directory` expects. \n",
    "\n",
    "3. We may also want to use different image resolutions for each batch. Using a custom data load class will enable us to handle this programmatically.\n",
    "4. Using the `Sequence` class, we can apply different image augmentations to each batch if desired.\n",
    "5. And finally, using data batches generated from the `Sequence` class gives us the opportunity to use two optional arguments in the `fit()` method that can reduce the time required to train the model.\n",
    "\n",
    "    * `workers`: Integer that specifies the number of processes to use when using process-based threading.\n",
    "    * `use_multiprocessing`: Boolean value. If `True`, it enables process-based threading.\n",
    "    \n",
    "    Generally, when we use these two options with data batches from the `Sequence` class, we can reduce the time required to train the model.\n"
   ]
  },
  {
   "cell_type": "markdown",
   "id": "69f7b14c",
   "metadata": {
    "id": "69f7b14c"
   },
   "source": [
    "## Table of Contents\n",
    "* [1 System Configuration](#1-System-Configuration)\n",
    "* [2 Download and Prepare the Data](#2-Download-and-Prepare-the-Data)\n",
    "* [3 Training and Dataset Configurations](#3-Training-and-Dataset-Configurations)\n",
    "* [4 LeNet5 Model](#4-LeNet5-Model)\n",
    "* [5 Create a CustomDataLoader Class](#5-Create-a-CustomDataLoader-Class)\n",
    "* [6 Create the Datasets](#6-Create-the-Datasets)\n",
    "* [7 Compile and Train the Model](#7-Compile-and-Train-the-Model)\n",
    "* [8 Plot the Training Results](#8-Plot-the-Training-Results)\n",
    "* [9 Conclusion](#9-Conclusion)"
   ]
  },
  {
   "cell_type": "code",
   "execution_count": null,
   "id": "fd83cccf",
   "metadata": {
    "id": "fd83cccf"
   },
   "outputs": [],
   "source": [
    "import numpy as np\n",
    "import random\n",
    "import matplotlib.pyplot as plt\n",
    "import os\n",
    "\n",
    "import cv2\n",
    "import glob as glob\n",
    "import math\n",
    "import requests\n",
    "import zipfile\n",
    "\n",
    "import tensorflow as tf\n",
    "from tensorflow.keras.models import Model\n",
    "from tensorflow.keras.utils import Sequence\n",
    "from tensorflow.keras.layers import (Conv2D, Activation, Input,\n",
    "                                     MaxPool2D, Flatten, Dense)\n",
    "\n",
    "from matplotlib.ticker import (MultipleLocator, FormatStrFormatter)\n",
    "from dataclasses import dataclass\n",
    "\n",
    "block_plot = False"
   ]
  },
  {
   "cell_type": "markdown",
   "id": "5e151d15",
   "metadata": {
    "id": "5e151d15"
   },
   "source": [
    "## 1 System Configuration"
   ]
  },
  {
   "cell_type": "code",
   "execution_count": null,
   "id": "1d23e94d",
   "metadata": {
    "colab": {
     "base_uri": "https://localhost:8080/"
    },
    "id": "1d23e94d",
    "outputId": "b495a5f6-0d0f-4a4f-82e0-80f020082557"
   },
   "outputs": [
    {
     "name": "stdout",
     "output_type": "stream",
     "text": [
      "[]\n",
      "Using CPU\n"
     ]
    }
   ],
   "source": [
    "def system_config(SEED_VALUE):\n",
    "\n",
    "    np.random.seed(SEED_VALUE)\n",
    "    tf.random.set_seed(SEED_VALUE)\n",
    "    \n",
    "    # Get list of GPUs.\n",
    "    gpu_devices = tf.config.list_physical_devices('GPU')\n",
    "    print(gpu_devices)\n",
    "    \n",
    "    if len(gpu_devices) > 0:\n",
    "        print('Using GPU')\n",
    "        os.environ[\"CUDA_VISIBLE_DEVICES\"] = '0'\n",
    "        os.environ['TF_CUDNN_DETERMINISTIC'] = '1' \n",
    "        \n",
    "        # If there are any gpu devices, use first gpu.\n",
    "        tf.config.experimental.set_visible_devices(gpu_devices[0], 'GPU')\n",
    "        \n",
    "        # Grow the memory usage as it is needed by the process.\n",
    "        tf.config.experimental.set_memory_growth(gpu_devices[0], True)\n",
    "        \n",
    "        # Enable using cudNN.\n",
    "        os.environ['TF_USE_CUDNN'] = \"true\"\n",
    "    else:\n",
    "        print('Using CPU')\n",
    "\n",
    "system_config(7)"
   ]
  },
  {
   "cell_type": "markdown",
   "id": "df226256",
   "metadata": {
    "id": "df226256"
   },
   "source": [
    "## 2 Download and Prepare the Data"
   ]
  },
  {
   "cell_type": "markdown",
   "id": "57bcf336",
   "metadata": {
    "id": "57bcf336"
   },
   "source": [
    "We will use the CIFAR10 dataset just like the previous notebook. Using the same dataset will help to clarify the concepts of different custom data loading techniques. This CIFAR10 dataset has been downloaded from <a href=\"https://pjreddie.com/projects/cifar-10-dataset-mirror/\" target=_blank>Joseph Redmon's website</a> and modified such that all the images are in their respective class folders."
   ]
  },
  {
   "cell_type": "code",
   "execution_count": null,
   "id": "3aa06736",
   "metadata": {
    "id": "3aa06736"
   },
   "outputs": [],
   "source": [
    "def download_file(url, save_name):\n",
    "    url = url\n",
    "    if not os.path.exists(save_name):\n",
    "        file = requests.get(url)\n",
    "        open(save_name, 'wb').write(file.content)"
   ]
  },
  {
   "cell_type": "code",
   "execution_count": null,
   "id": "5d8e19e6",
   "metadata": {
    "id": "5d8e19e6"
   },
   "outputs": [],
   "source": [
    "def unzip(zip_file=None):\n",
    "    try:\n",
    "        with zipfile.ZipFile(zip_file) as z:\n",
    "            z.extractall(\"./\")\n",
    "            print(\"Extracted all\")\n",
    "    except:\n",
    "        print(\"Invalid file\")"
   ]
  },
  {
   "cell_type": "code",
   "execution_count": null,
   "id": "051218d4",
   "metadata": {
    "id": "051218d4",
    "outputId": "15711536-8a88-475b-ff32-a90da6c579ab"
   },
   "outputs": [
    {
     "name": "stdout",
     "output_type": "stream",
     "text": [
      "Extracted all\n"
     ]
    }
   ],
   "source": [
    "download_file(\n",
    "    'https://www.dropbox.com/s/6jrhe7uu4a4qxbn/cifar10.zip?dl=1',\n",
    "    'cifar10.zip'\n",
    ")\n",
    "    \n",
    "unzip(zip_file='cifar10.zip')"
   ]
  },
  {
   "cell_type": "markdown",
   "id": "245f29b4",
   "metadata": {
    "id": "245f29b4"
   },
   "source": [
    "```\n",
    "cifar10\n",
    "├── labels.txt\n",
    "├── test\n",
    "│   ├── airplane\n",
    "│   ├── automobile\n",
    "│   ├── bird\n",
    "│   ├── cat\n",
    "│   ├── deer\n",
    "│   ├── dog\n",
    "│   ├── frog\n",
    "│   ├── horse\n",
    "│   ├── ship\n",
    "│   └── truck\n",
    "└── train\n",
    "    ├── airplane\n",
    "    ├── automobile\n",
    "    ├── bird\n",
    "    ├── cat\n",
    "    ├── deer\n",
    "    ├── dog\n",
    "    ├── frog\n",
    "    ├── horse\n",
    "    ├── ship\n",
    "    └── truck\n",
    "```\n",
    "\n",
    "As you can see, we have `train` and `test` subdirectories which in turn contain sub-directories for each class in the CIFAR10 dataset. All the class folders contain the respective images."
   ]
  },
  {
   "cell_type": "markdown",
   "id": "2912ef23",
   "metadata": {
    "id": "2912ef23"
   },
   "source": [
    "## 3 Training and Dataset Configurations"
   ]
  },
  {
   "cell_type": "code",
   "execution_count": null,
   "id": "6fe5b69a",
   "metadata": {
    "id": "6fe5b69a"
   },
   "outputs": [],
   "source": [
    "@dataclass(frozen=True)\n",
    "class TrainingConfig:\n",
    "    BATCH_SIZE:    int = 16\n",
    "    EPOCHS:        int = 11\n",
    "    LEARNING_RATE: float = 0.0005\n",
    "\n",
    "\n",
    "@dataclass(frozen=True)\n",
    "class DatasetConfig:\n",
    "    NUM_CLASSES:   int = 10\n",
    "    IMG_HEIGHT:    int = 32\n",
    "    IMG_WIDTH:     int = 32\n",
    "    DATA_TRAIN_IMAGES: str = './cifar10/train/*/*.png'\n",
    "    DATA_VALID_IMAGES: str = './cifar10/test/*/*.png'"
   ]
  },
  {
   "cell_type": "markdown",
   "id": "13100630",
   "metadata": {
    "id": "13100630"
   },
   "source": [
    "## 4 LeNet5 Model"
   ]
  },
  {
   "cell_type": "code",
   "execution_count": null,
   "id": "96b930d6",
   "metadata": {
    "id": "96b930d6"
   },
   "outputs": [],
   "source": [
    "def LeNet5_model(num_classes, shape, print_model_summary=True):\n",
    "\n",
    "    inputs = Input(shape=shape)\n",
    "    \n",
    "    # -------------------------------------\n",
    "    # First convolutional Layer + pooling\n",
    "    # -------------------------------------\n",
    "    x = Conv2D(6, 5, padding='valid')(inputs)              # input size = (32, 32), output size = (28, 28)\n",
    "    x = Activation(\"relu\")(x)                              # output size = (28, 28)\n",
    "    x = MaxPool2D()(x)                                     # output size = (14, 14)\n",
    "\n",
    "    # -------------------------------------\n",
    "    # Second convolutional layer + pooling \n",
    "    # -------------------------------------\n",
    "    x = Conv2D(16, 5, padding='valid')(x)                  # input size = (14, 14), output size = (10, 10)\n",
    "    x = Activation('relu')(x)                              # output size = (10, 10)\n",
    "    feature_extractor_output = MaxPool2D()(x)              # output size = (5, 5)\n",
    "\n",
    "    # Flatten.\n",
    "    flattened = Flatten()(feature_extractor_output)        # 5 * 5 * 16 -> 400\n",
    "\n",
    "    # ------------------------- \n",
    "    # Fully connected layers.\n",
    "    # -------------------------\n",
    "    x = Dense(120, activation='relu')(flattened)           # 400 -> 120\n",
    "    x = Dense(84, activation='relu')(x)                    # 120 -> 84\n",
    "    \n",
    "    # Softmax output layer.\n",
    "    headout = Dense(num_classes, activation=\"softmax\")(x)  # 84 -> 10\n",
    "    \n",
    "    # Create model.\n",
    "    model = Model(inputs=inputs, outputs=headout, name='LeNet5')\n",
    "    \n",
    "    if print_model_summary:\n",
    "        model.summary()\n",
    "        \n",
    "    return model"
   ]
  },
  {
   "cell_type": "code",
   "execution_count": null,
   "id": "06435821",
   "metadata": {
    "id": "06435821",
    "outputId": "ef2aa1a9-f4a2-4bc7-f0b1-f9a265544378"
   },
   "outputs": [
    {
     "name": "stdout",
     "output_type": "stream",
     "text": [
      "Model: \"LeNet5\"\n",
      "_________________________________________________________________\n",
      " Layer (type)                Output Shape              Param #   \n",
      "=================================================================\n",
      " input_1 (InputLayer)        [(None, 32, 32, 3)]       0         \n",
      "                                                                 \n",
      " conv2d (Conv2D)             (None, 28, 28, 6)         456       \n",
      "                                                                 \n",
      " activation (Activation)     (None, 28, 28, 6)         0         \n",
      "                                                                 \n",
      " max_pooling2d (MaxPooling2D  (None, 14, 14, 6)        0         \n",
      " )                                                               \n",
      "                                                                 \n",
      " conv2d_1 (Conv2D)           (None, 10, 10, 16)        2416      \n",
      "                                                                 \n",
      " activation_1 (Activation)   (None, 10, 10, 16)        0         \n",
      "                                                                 \n",
      " max_pooling2d_1 (MaxPooling  (None, 5, 5, 16)         0         \n",
      " 2D)                                                             \n",
      "                                                                 \n",
      " flatten (Flatten)           (None, 400)               0         \n",
      "                                                                 \n",
      " dense (Dense)               (None, 120)               48120     \n",
      "                                                                 \n",
      " dense_1 (Dense)             (None, 84)                10164     \n",
      "                                                                 \n",
      " dense_2 (Dense)             (None, 10)                850       \n",
      "                                                                 \n",
      "=================================================================\n",
      "Total params: 62,006\n",
      "Trainable params: 62,006\n",
      "Non-trainable params: 0\n",
      "_________________________________________________________________\n"
     ]
    },
    {
     "name": "stderr",
     "output_type": "stream",
     "text": [
      "2022-07-25 17:12:55.374993: I tensorflow/core/platform/cpu_feature_guard.cc:151] This TensorFlow binary is optimized with oneAPI Deep Neural Network Library (oneDNN) to use the following CPU instructions in performance-critical operations:  AVX2 FMA\n",
      "To enable them in other operations, rebuild TensorFlow with the appropriate compiler flags.\n"
     ]
    }
   ],
   "source": [
    "model = LeNet5_model(num_classes=DatasetConfig.NUM_CLASSES, \n",
    "                     shape=(DatasetConfig.IMG_HEIGHT, DatasetConfig.IMG_WIDTH, 3))"
   ]
  },
  {
   "cell_type": "markdown",
   "id": "9ed0e3f2",
   "metadata": {
    "id": "9ed0e3f2"
   },
   "source": [
    "## 5 Create a `CustomDataLoader` Class\n",
    "Here, we will write our custom class using the <a href=\"https://www.tensorflow.org/api_docs/python/tf/keras/utils/Sequence\" target=_blank>**`tf.keras.utils.Sequence`**</a> class. In the code cell below, we define the `CustomDataLoader` class, which is a subclass of the `Sequence` class. In defining this custom class, we are going to override three of the so-called \"dunder\" (for double underscore) methods for our own purposes:\n",
    "\n",
    "* `__init__()`\n",
    "* `__len__()`\n",
    "* `__getitem__()`\n",
    "\n",
    "In the section that follows, we will review each of these methods and their purpose. There is another method known as `on_epoch_end` that we have not implemented here. It is not mandatory, but if you want some operations to take place at the end of each epoch, you can implement it."
   ]
  },
  {
   "cell_type": "code",
   "execution_count": null,
   "id": "abf2b7f0",
   "metadata": {
    "id": "abf2b7f0"
   },
   "outputs": [],
   "source": [
    "class CustomDataLoader(Sequence):\n",
    "\n",
    "    def __init__(self, batch_size, image_size, image_paths):\n",
    "\n",
    "        self.batch_size  = batch_size\n",
    "        self.image_size  = image_size\n",
    "        self.image_paths = image_paths\n",
    "\n",
    "        # List containing all the labels in the dataset.\n",
    "        self.labels = ['airplane', 'automobile', 'bird', 'cat', 'deer', 'dog', 'frog', 'horse', 'ship', 'truck']\n",
    "\n",
    "        self.num_classes = len(self.labels)\n",
    "\n",
    "        # Create the list of class names for the dataset.\n",
    "        self.class_names = [self.image_paths[i].split(os.path.sep)[-2] for i in range(len(self.image_paths))]\n",
    "\n",
    "        # Map the class names to the labels and prepare the final list.\n",
    "        self.all_labels = [self.labels.index(x) for x in self.class_names]\n",
    "\n",
    "        # Shuffle the image path list and labels list in the same order.\n",
    "        joined_lists = list(zip(self.image_paths, self.all_labels))\n",
    "\n",
    "        # Shuffle the joined lists.\n",
    "        random.shuffle(joined_lists)\n",
    "\n",
    "        # Get the lists separately again.\n",
    "        self.all_images, self.all_labels = zip(*joined_lists)\n",
    "\n",
    "        # Convert labels to one-hot encoding.\n",
    "        self.all_labels = to_categorical(self.all_labels, self.num_classes)\n",
    "\n",
    "        # Create placeholders for image and label data.\n",
    "        self.image = np.empty((self.batch_size,) + self.image_size + (3,), dtype=\"float32\")\n",
    "        self.label = np.empty((self.batch_size,) + (self.num_classes,), dtype=\"float32\")\n",
    "\n",
    "    def __len__(self):\n",
    "\n",
    "        # Return the number of data batches.\n",
    "        return math.ceil(len(self.all_images) / self.batch_size)\n",
    "\n",
    "    def __getitem__(self, idx):\n",
    "        \n",
    "        # Create image batch file names for the current batch.\n",
    "        batch_image_paths = self.all_images[idx * self.batch_size : (idx + 1) * self.batch_size]\n",
    "        batch_labels = self.all_labels[idx * self.batch_size : (idx + 1) * self.batch_size]\n",
    "        \n",
    "        # Read image data, convert to RGB and resize.\n",
    "        for j, file_name in enumerate(batch_image_paths):\n",
    "            \n",
    "            # Read image file,convert to RGB, and resize.\n",
    "            self.image[j] = cv2.resize(cv2.cvtColor(cv2.imread(file_name), cv2.COLOR_BGR2RGB), self.image_size)\n",
    "                \n",
    "            # Create label batch for the current batch.\n",
    "            self.label[j] = batch_labels[j]\n",
    "                \n",
    "        return self.image, self.label"
   ]
  },
  {
   "cell_type": "markdown",
   "id": "52f0479e",
   "metadata": {
    "id": "52f0479e"
   },
   "source": [
    "### `__init__()`\n",
    "In the `__init__()` method, we initialize all the variables we need in the entire class for preparing the dataset.\n",
    "We also create placeholders (`self.image` and `self.label`) for the image and label data returned by the `_getitem_()` method.\n",
    "\n",
    "Also, note that we are shuffling the image paths and labels in the same order. We should always shuffle the data before training to minimize any bias that may be introduced by the way the data was originally ordered.\n",
    "    \n",
    "### `__len__()`\n",
    "The  `__len__()` method returns the number of data batches (number of data samples divided by the batch size). This allows us to enumerate through all the data batches based on the length of the object. \n",
    "\n",
    "\n",
    "### `__getitem__()`\n",
    "\n",
    "The `__getitem__()` method allows instances of a class to use the indexer operator `[]`, so if you have an instance of a class, say `obj`, then when you evaluate `obj[idx]` python calls `obj.__getitem__(idx)`. As we enumerate through items in the object, the value of `idx` is incremented, and we use it along with the batch size (`self.batch_size`) to extract the `batch_image_paths` from `self.all_images` and use that list to read and resize the images for the current batch. We also retrieve the corresponding one-hot encoded labels in the same manner."
   ]
  },
  {
   "cell_type": "markdown",
   "id": "53313c8f",
   "metadata": {
    "id": "53313c8f"
   },
   "source": [
    "### 5.1 Test the `CustomDataLoader` Class\n",
    "\n",
    "Before we proceed further, let's use this class to create a sample CustomDataLoader object and experiment with it to better understand how it works."
   ]
  },
  {
   "cell_type": "code",
   "execution_count": null,
   "id": "e5c8c9c5",
   "metadata": {
    "id": "e5c8c9c5",
    "outputId": "0bca4ffc-8c19-42ef-a132-b2a8cdcb3bf5",
    "scrolled": true
   },
   "outputs": [
    {
     "name": "stdout",
     "output_type": "stream",
     "text": [
      "[[0. 0. 0. 0. 0. 0. 1. 0. 0. 0.]\n",
      " [0. 0. 0. 0. 1. 0. 0. 0. 0. 0.]\n",
      " [0. 0. 0. 0. 0. 0. 1. 0. 0. 0.]]\n",
      "\n",
      "\n",
      "[[0. 0. 0. 0. 0. 0. 1. 0. 0. 0.]\n",
      " [0. 0. 0. 0. 1. 0. 0. 0. 0. 0.]\n",
      " [0. 0. 0. 0. 0. 0. 1. 0. 0. 0.]]\n",
      "\n",
      "\n",
      "Number of batches: 625\n",
      "Number of batches: 625\n",
      "\n",
      "image shape:  (16, 32, 32, 3)\n",
      "label shape:  (16, 10)\n"
     ]
    }
   ],
   "source": [
    "train_images = sorted(glob.glob(f\"{DatasetConfig.DATA_VALID_IMAGES}\"))\n",
    "\n",
    "# Create a sample dataset from the training data.\n",
    "sample_ds = CustomDataLoader(batch_size=TrainingConfig.BATCH_SIZE,\n",
    "                             image_size=(DatasetConfig.IMG_HEIGHT, DatasetConfig.IMG_WIDTH),\n",
    "                             image_paths=train_images,\n",
    "                            )\n",
    "\n",
    "# Retrieve the images and the labels for the fourth batch of data.\n",
    "image_batch = sample_ds[3][0]  \n",
    "label_batch = sample_ds[3][1]  \n",
    "\n",
    "# Print the first three one-hot labels from the fourth batch of data.\n",
    "print(label_batch[0:3])\n",
    "print('\\n')\n",
    "\n",
    "# This is equivalent to the code above. \n",
    "# sample_ds[] is implemented as: sample_ds.__getitem__()\n",
    "image_batch, label_batch = sample_ds.__getitem__(3)\n",
    "print(label_batch[0:3])\n",
    "print('\\n')\n",
    "\n",
    "# Print the length of the object.\n",
    "print(f\"Number of batches: {len(sample_ds)}\")\n",
    "\n",
    "# len(sample_ds) is implemented as: sample_ds.__len__()\n",
    "print(f\"Number of batches: {sample_ds.__len__()}\\n\")\n",
    "\n",
    "print(\"image shape: \", image_batch.shape)\n",
    "print(\"label shape: \", label_batch.shape)"
   ]
  },
  {
   "cell_type": "code",
   "execution_count": null,
   "id": "a7c15156",
   "metadata": {
    "id": "a7c15156",
    "outputId": "32c6f6dc-b72c-4367-ddbf-d5dd291ac3a1"
   },
   "outputs": [
    {
     "data": {
      "image/png": "[encoded data removed]",
      "text/plain": [
       "<Figure size 1080x360 with 3 Axes>"
      ]
     },
     "metadata": {
      "needs_background": "light"
     },
     "output_type": "display_data"
    }
   ],
   "source": [
    "plt.figure(figsize=(15, 5));\n",
    "\n",
    "# Let's enumerate through a few data batches.\n",
    "for i, (image_batch, label_batch) in enumerate(sample_ds):\n",
    "\n",
    "    if i == 3:\n",
    "        # Break after three batches.\n",
    "        break\n",
    "\n",
    "    # Display the first image from each batch.\n",
    "    plt.subplot(1, 3, i + 1)\n",
    "    plt.imshow(np.array(image_batch[0]) / 255.)\n",
    "    plt.title(sample_ds.labels[np.argmax(label_batch[0])]);"
   ]
  },
  {
   "cell_type": "markdown",
   "id": "1b04c63f",
   "metadata": {
    "id": "1b04c63f"
   },
   "source": [
    "## 6 Create the Datasets"
   ]
  },
  {
   "cell_type": "code",
   "execution_count": null,
   "id": "4634efb4",
   "metadata": {
    "id": "4634efb4"
   },
   "outputs": [],
   "source": [
    "train_images = sorted(glob.glob(f\"{DatasetConfig.DATA_TRAIN_IMAGES}\"))\n",
    "valid_images = sorted(glob.glob(f\"{DatasetConfig.DATA_VALID_IMAGES}\"))\n",
    "\n",
    "train_ds = CustomDataLoader(batch_size=TrainingConfig.BATCH_SIZE,\n",
    "                            image_size=(DatasetConfig.IMG_HEIGHT, DatasetConfig.IMG_WIDTH),\n",
    "                            image_paths=train_images,\n",
    "                            )\n",
    "\n",
    "valid_ds = CustomDataLoader(batch_size=TrainingConfig.BATCH_SIZE,\n",
    "                            image_size=(DatasetConfig.IMG_HEIGHT, DatasetConfig.IMG_WIDTH),\n",
    "                            image_paths=valid_images,\n",
    "                            )"
   ]
  },
  {
   "cell_type": "markdown",
   "id": "a1c2401f",
   "metadata": {
    "id": "a1c2401f"
   },
   "source": [
    "## 7 Compile and Train the Model \n",
    "\n",
    "## 7.1 `model.fit()` Input Arguments\n",
    "\n",
    "It's worth emphasizing here that the fit method in Keras can accept a wide range of inputs representing the input data. Earlier in the course, we specified the input training data as separate NumPy arrays for the images (`X_train`) and labels (`y_train`). Then when we starting using `image_dataset_from_directory()` and `tf.data.Dataset`, we created dataset objects that contained both the images and the labels. Now we have an object based on keras.utils.Sequence returns a tuple of inputs and targets `(images, labels)`, which can also be specified as the input to the `model.fit()` method in Keras. Referring to the documentation <a href=\"https://github.com/keras-team/keras/blob/v2.9.0/keras/engine/training.py#L1099-L1472\" target=_blank>model.fit</a>, notice when `x` is a dataset, generator, or `keras.utils.Sequence` instance, `y` should not be specified (since targets will be obtained from `x`). Similarly, for the validation data, when the input takes the form on NumPy Arrays, we supply those as a tuple (`X_train`, `y_train`), or when the validation data is represented as either a dataset or a sequence we simply specify the object which contains both the images and the labels. \n",
    "\n",
    "## 7.2 `model.fit()` Performance Arguments\n",
    "\n",
    "As we mentioned earlier, when the dataset is represented as a `Sequence`, we can use the optional arguments, `workers` and `use_multiprocessing` to reduce the time required to train the model. Note, if you execute this notebook on your local system, these arguments may cause your code to crash, so if you encounter this, you can remove those inputs, or execute the notebook on Google Colab."
   ]
  },
  {
   "cell_type": "code",
   "execution_count": null,
   "id": "1e46df11",
   "metadata": {
    "id": "1e46df11",
    "outputId": "89f9ab1a-cc6e-453e-cd3b-ad068a3b9ccd",
    "scrolled": false
   },
   "outputs": [
    {
     "name": "stdout",
     "output_type": "stream",
     "text": [
      "Epoch 1/11\n",
      "3125/3125 [==============================] - 19s 6ms/step - loss: 2.1521 - accuracy: 0.2312 - val_loss: 1.8126 - val_accuracy: 0.3173\n",
      "Epoch 2/11\n",
      "3125/3125 [==============================] - 19s 6ms/step - loss: 1.7453 - accuracy: 0.3535 - val_loss: 1.7719 - val_accuracy: 0.3550\n",
      "Epoch 3/11\n",
      "3125/3125 [==============================] - 21s 7ms/step - loss: 1.6382 - accuracy: 0.3984 - val_loss: 1.6006 - val_accuracy: 0.4124\n",
      "Epoch 4/11\n",
      "3125/3125 [==============================] - 23s 7ms/step - loss: 1.5279 - accuracy: 0.4451 - val_loss: 1.5930 - val_accuracy: 0.4245\n",
      "Epoch 5/11\n",
      "3125/3125 [==============================] - 26s 8ms/step - loss: 1.4324 - accuracy: 0.4852 - val_loss: 1.4696 - val_accuracy: 0.4699\n",
      "Epoch 6/11\n",
      "3125/3125 [==============================] - 31s 10ms/step - loss: 1.3429 - accuracy: 0.5175 - val_loss: 1.4055 - val_accuracy: 0.4971\n",
      "Epoch 7/11\n",
      "3125/3125 [==============================] - 38s 12ms/step - loss: 1.2714 - accuracy: 0.5470 - val_loss: 1.3477 - val_accuracy: 0.5225\n",
      "Epoch 8/11\n",
      "3125/3125 [==============================] - 45s 14ms/step - loss: 1.2098 - accuracy: 0.5681 - val_loss: 1.3744 - val_accuracy: 0.5167\n",
      "Epoch 9/11\n",
      "3125/3125 [==============================] - 41s 13ms/step - loss: 1.1592 - accuracy: 0.5870 - val_loss: 1.3303 - val_accuracy: 0.5346\n",
      "Epoch 10/11\n",
      "3125/3125 [==============================] - 37s 12ms/step - loss: 1.1086 - accuracy: 0.6048 - val_loss: 1.3457 - val_accuracy: 0.5425\n",
      "Epoch 11/11\n",
      "3125/3125 [==============================] - 35s 11ms/step - loss: 1.0722 - accuracy: 0.6186 - val_loss: 1.3712 - val_accuracy: 0.5383\n"
     ]
    }
   ],
   "source": [
    "# Compile the model and train it.\n",
    "model.compile(optimizer=tf.keras.optimizers.Adam(TrainingConfig.LEARNING_RATE),\n",
    "              loss=tf.keras.losses.CategoricalCrossentropy(from_logits=False),\n",
    "              metrics=['accuracy'],\n",
    "             )\n",
    "\n",
    "history = model.fit(train_ds,\n",
    "                    epochs=TrainingConfig.EPOCHS,\n",
    "                    validation_data=valid_ds,\n",
    "#                     workers=4,\n",
    "#                     use_multiprocessing=True,\n",
    "                   )"
   ]
  },
  {
   "cell_type": "markdown",
   "id": "ea9d96d8",
   "metadata": {
    "id": "ea9d96d8"
   },
   "source": [
    "## 8 Plot the Training Results"
   ]
  },
  {
   "cell_type": "code",
   "execution_count": null,
   "id": "a8658217",
   "metadata": {
    "id": "a8658217"
   },
   "outputs": [],
   "source": [
    "def plot_results(metrics, ylabel=None, ylim=None, metric_name=None, color=None):\n",
    "    \n",
    "    fig, ax = plt.subplots(figsize=(15, 5))\n",
    "\n",
    "    if not (isinstance(metric_name, list) or isinstance(metric_name, tuple)):\n",
    "        metrics = [metrics,]\n",
    "        metric_name = [metric_name,]\n",
    "        \n",
    "    for idx, metric in enumerate(metrics):    \n",
    "        ax.plot(metric, color=color[idx])\n",
    "    \n",
    "    plt.xlabel(\"Epoch\")\n",
    "    plt.ylabel(ylabel)\n",
    "    plt.title(ylabel)\n",
    "    plt.xlim([0, TrainingConfig.EPOCHS-1])\n",
    "    plt.ylim(ylim)\n",
    "    # Tailor x-axis tick marks\n",
    "    ax.xaxis.set_major_locator(MultipleLocator(5))\n",
    "    ax.xaxis.set_major_formatter(FormatStrFormatter('%d'))\n",
    "    ax.xaxis.set_minor_locator(MultipleLocator(1))\n",
    "    plt.grid(True)\n",
    "    plt.legend(metric_name)   \n",
    "    plt.show(block=block_plot)\n",
    "    plt.close()"
   ]
  },
  {
   "cell_type": "code",
   "execution_count": null,
   "id": "66aa760d",
   "metadata": {
    "id": "66aa760d",
    "outputId": "7ed9e37e-21f6-48da-90a9-2513271efc0e"
   },
   "outputs": [
    {
     "data": {
      "image/png": "[encoded data removed]",
      "text/plain": [
       "<Figure size 1080x360 with 1 Axes>"
      ]
     },
     "metadata": {
      "needs_background": "light"
     },
     "output_type": "display_data"
    }
   ],
   "source": [
    "train_acc = history.history[\"accuracy\"]\n",
    "valid_acc = history.history[\"val_accuracy\"]\n",
    "\n",
    "plot_results([ train_acc, valid_acc ], \n",
    "            ylabel=\"Accuracy\",\n",
    "            ylim = [0.0, 1.0],\n",
    "            metric_name=[\"Training Accuracy\", \"Validation Accuracy\"],\n",
    "            color=[\"g\", \"b\"])"
   ]
  },
  {
   "cell_type": "markdown",
   "id": "909400b4",
   "metadata": {
    "id": "909400b4"
   },
   "source": [
    "## 9 Conclusion\n",
    "In this notebook, we learned how to use the `Sequence` class to create a `CustomDataLoader` class for a classification dataset. We saw how to prepare the CIFAR10 dataset when the images are inside directories residing on the the file system. In the next notebook, we will learn about another approach which uses a format called `TFRecords` which allows you to store and access data that is especially helpful when working with large datasets used by deep learning systems."
   ]
  },
  {
   "cell_type": "code",
   "execution_count": null,
   "id": "87df45a2",
   "metadata": {
    "id": "87df45a2"
   },
   "outputs": [],
   "source": []
  }
 ],
 "metadata": {
  "accelerator": "GPU",
  "colab": {
   "collapsed_sections": [],
   "name": "c4_04_20_Custom_Data_Loader_Class_RECORDED.ipynb",
   "provenance": []
  },
  "gpuClass": "standard",
  "kernelspec": {
   "display_name": "Python 3 (ipykernel)",
   "language": "python",
   "name": "python3"
  },
  "language_info": {
   "codemirror_mode": {
    "name": "ipython",
    "version": 3
   },
   "file_extension": ".py",
   "mimetype": "text/x-python",
   "name": "python",
   "nbconvert_exporter": "python",
   "pygments_lexer": "ipython3",
   "version": "3.8.13"
  },
  "latex_envs": {
   "LaTeX_envs_menu_present": true,
   "autoclose": false,
   "autocomplete": true,
   "bibliofile": "biblio.bib",
   "cite_by": "apalike",
   "current_citInitial": 1,
   "eqLabelWithNumbers": true,
   "eqNumInitial": 1,
   "hotkeys": {
    "equation": "Ctrl-E",
    "itemize": "Ctrl-I"
   },
   "labels_anchors": false,
   "latex_user_defs": false,
   "report_style_numbering": false,
   "user_envs_cfg": false
  },
  "varInspector": {
   "cols": {
    "lenName": 16,
    "lenType": 16,
    "lenVar": 40
   },
   "kernels_config": {
    "python": {
     "delete_cmd_postfix": "",
     "delete_cmd_prefix": "del ",
     "library": "var_list.py",
     "varRefreshCmd": "print(var_dic_list())"
    },
    "r": {
     "delete_cmd_postfix": ") ",
     "delete_cmd_prefix": "rm(",
     "library": "var_list.r",
     "varRefreshCmd": "cat(var_dic_list()) "
    }
   },
   "types_to_exclude": [
    "module",
    "function",
    "builtin_function_or_method",
    "instance",
    "_Feature"
   ],
   "window_display": false
  }
 },
 "nbformat": 4,
 "nbformat_minor": 5
}
