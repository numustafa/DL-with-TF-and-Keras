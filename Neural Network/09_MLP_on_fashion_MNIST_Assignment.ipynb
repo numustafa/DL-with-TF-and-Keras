{
    "cells": [
        {
            "cell_type": "markdown",
            "metadata": {
                "id": "40c9ade9",
                "nbgrader": {
                    "grade": false,
                    "locked": true,
                    "solution": false
                },
                "editable": false,
                "deletable": false
            },
            "source": [
                "<h1 style=\"font-size:30px;\">Assignment: MLP on Fashion MNIST Dataset using Keras <\/h1>\n",
                "\n",
                "You have already seen how to implement MLPs (Multi-Layer Perceptron) using the Keras framework. So, in this assignment, let\u2019s go ahead and implement a simple MLP (Multi Layer Perceptron). \n",
                "\n",
                "\n",
                "We will be using the **Fashion MNIST Dataset**, which is a very popular and simple dataset to carry out classification tasks. We will be performing a multi-class claasification task using this dataset.\n",
                "\n",
                "<img src=\"https:\/\/learnopencv.com\/wp-content\/uploads\/2022\/02\/c4_02_fashion_mnist.jpg\" width=700 align='center'><br\/>\n",
                "\n",
                "There are 10 classes. Each training and test example is a `28x28` image and is assigned to one of the following labels:\n",
                "\n",
                "| Label | Description |\n",
                "| --- | --- |\n",
                "| 0 | T-shirt\/top |\n",
                "| 1 | Trouser |\n",
                "| 2 | Pullover |\n",
                "| 3 | Dress |\n",
                "| 4 | Coat |\n",
                "| 5 | Sandal |\n",
                "| 6 | Shirt |\n",
                "| 7 | Sneaker |\n",
                "| 8 | Bag |\n",
                "| 9 | Ankle boot |\n",
                "\n",
                "\n",
                "\n",
                "### Maximum Points: 30\n",
                "\n",
                "| Section | Problem | Points |\n",
                "|:------:|:--------|:------:|\n",
                "|   1    | Validation Accuracy between 85% to 89% \/ > 89% | 10 \/ 20 | \n",
                "|   2    | Model Predictions on sample input      | 10 | \n",
                "\n",
                "\n",
                "\n",
                "## Problem Description\n",
                "\n",
                "<hr style=\"border:none; height: 4px; background-color:#D3D3D3\" \/>\n",
                "\n",
                "### <font style=\"color:rgb(50,120,230)\">1. Implement the MLP Model<\/font>\n",
                "\n",
                "Here, the task is to classify objects in a dataset, so you need to implement a simple MLP model with 10 output classes. Ensure it\u2019s a very simple model that contains only a few `Dense` layers, with a minimal number of nodes\/units.\n",
                "\n",
                "**Note: Remember to use `softmax` activation for the last Dense layer.**\n",
                "\n",
                "\n",
                "\n",
                "### <font style=\"color:rgb(50,120,230)\">2. Getting the Desired accuracy on Test Data<\/font>\n",
                "\n",
                "Once you have defined the model, you can train it. To get better accuracy, experiment with the learning rate and the number of epochs. You might also need to tweak the model architecture a bit as well.\n",
                "\n",
                "The advantage of opting for a very simple dataset is that your model can perform very well even with very few `Dense` layers.\n",
                "\n",
                "Here are some hints to improve the accuracy:\n",
                "- Train for a longer duration\n",
                "- Try with different learning rates (try reducing the learning rate as well)\n",
                "\n",
                "You need to achieve **at least 85% test accuracy** on the test data to score **10 points**. If you achieve **more than 89% test accuracy**, you will receive the full **20 points**.\n",
                "\n",
                "\n",
                "### <font style=\"color:rgb(50,120,230)\">3. Model Prediction<\/font>\n",
                "\n",
                "Once you complete the training and get the desired accuracy, you need to implement a simple prediction function. This is where your trained model should output the class label, given a sample input. \n",
                "\n",
                "Another **10 points** have been assigned for this section.\n",
                "\n",
                "<hr style=\"border:none; height: 4px; background-color:#D3D3D3\" \/>"
            ]
        },
        {
            "cell_type": "code",
            "execution_count": null,
            "metadata": {
                "collapsed": true,
                "id": "2ce157fd",
                "nbgrader": {
                    "grade": false,
                    "locked": true,
                    "solution": false
                },
                "editable": false,
                "deletable": false
            },
            "outputs": [],
            "source": [
                "import tensorflow as tf\n",
                "from tensorflow.keras.datasets import fashion_mnist\n",
                "\n",
                "import ssl\n",
                "from dataclasses import dataclass\n",
                "\n",
                "import numpy as np\n",
                "import os\n",
                "\n",
                "import matplotlib.pyplot as plt"
            ]
        },
        {
            "cell_type": "code",
            "execution_count": null,
            "metadata": {
                "collapsed": true
            },
            "outputs": [],
            "source": [
                "ssl._create_default_https_context = ssl._create_unverified_context"
            ]
        },
        {
            "cell_type": "markdown",
            "metadata": {
                "id": "873f38e2",
                "nbgrader": {
                    "grade": false,
                    "locked": true,
                    "solution": false
                },
                "editable": false,
                "deletable": false
            },
            "source": [
                "**Load the Fashion MNIST dataset from `tensorflow.keras.datasets`**\n",
                "\n",
                "The training set contains `60000` samples while that of the test set containing `10000` samples."
            ]
        },
        {
            "cell_type": "code",
            "execution_count": null,
            "metadata": {
                "collapsed": true,
                "id": "62b82734",
                "nbgrader": {
                    "grade": false,
                    "locked": true,
                    "solution": false
                },
                "editable": false,
                "deletable": false
            },
            "outputs": [],
            "source": [
                "(X_train, y_train), (X_test, y_test) = fashion_mnist.load_data()"
            ]
        },
        {
            "cell_type": "code",
            "execution_count": null,
            "metadata": {
                "collapsed": true,
                "id": "dce45183",
                "nbgrader": {
                    "grade": false,
                    "locked": true,
                    "solution": false
                },
                "editable": false,
                "deletable": false
            },
            "outputs": [],
            "source": [
                "X_train, X_test = X_train.astype('float32') \/ 255., X_test.astype('float32')\/255."
            ]
        },
        {
            "cell_type": "markdown",
            "metadata": {
                "id": "bfc7e60f",
                "nbgrader": {
                    "grade": false,
                    "locked": true,
                    "solution": false
                },
                "editable": false,
                "deletable": false
            },
            "source": [
                "## 1 Model Training [20 Points]\n",
                "\n",
                "All training parameters are defined here. So, this is where you can improve your accuracy and also the architecture.\n",
                "\n",
                "Here are a few hints on to improve the accuracy:\n",
                "- Train for a longer duration\n",
                "- Try with different learning rates\n",
                "- Try increasing the number of nodes\/units in the Dense layers\n",
                "\n",
                "You need to achieve **at least 85% accuracy** on the **test data** in order to score **10 points**. If you achieve **more than 89% test accuracy**, you end up with a full **20 points**."
            ]
        },
        {
            "cell_type": "code",
            "execution_count": null,
            "metadata": {
                "collapsed": true,
                "id": "d30e7134",
                "nbgrader": {
                    "grade": false,
                    "locked": true,
                    "solution": false
                },
                "editable": false,
                "deletable": false
            },
            "outputs": [],
            "source": [
                "is_training = True"
            ]
        },
        {
            "cell_type": "code",
            "execution_count": null,
            "metadata": {
                "collapsed": true,
                "id": "9295eb0f"
            },
            "outputs": [],
            "source": [
                "@dataclass\n",
                "class TrainingConfiguration:\n",
                "    '''\n",
                "    Describes configuration of the training process\n",
                "    '''\n",
                "    batch_size: int = 32  \n",
                "    epochs_count: int = 2  \n",
                "    learning_rate: float = 0.1 \n",
                "    \n",
                "    # update changed parameters in the below coding block.\n",
                "    \n",
                "    ###\n",
                "    ### YOUR CODE HERE\n",
                "    ###\n"
            ]
        },
        {
            "cell_type": "markdown",
            "metadata": {
                "id": "59951105",
                "nbgrader": {
                    "grade": false,
                    "locked": true,
                    "solution": false
                },
                "editable": false,
                "deletable": false
            },
            "source": [
                "### 1.1 Model Definition\n",
                "\n",
                "You need to define your model here. Recall that each image in the dataset has a size of `28 x 28`, so your `input_shape` should have a size of: `(28,28)`. Also, don\u2019t forget, you need to implement a very simple MLP here, with only a few `Dense` layers. Have a look at this block diagram representing a simple MLP. \n",
                "\n",
                "<img src = \"https:\/\/learnopencv.com\/wp-content\/uploads\/2022\/02\/c4_02_mlps_fashion_mnist.png\" width=950 align='center'><br\/>\n",
                "\n",
                "The time required to train your model on the course site should be roughly **2-3 minutes**.\n",
                "\n",
                "\n",
                "**Note: Remember to use a `softmax` activation for the output layer.**"
            ]
        },
        {
            "cell_type": "code",
            "execution_count": null,
            "metadata": {
                "collapsed": true,
                "id": "226bdc37"
            },
            "outputs": [],
            "source": [
                "def get_model():\n",
                "    '''\n",
                "    You need to define your MLP model here.\n",
                "    '''\n",
                "    \n",
                "    model = None\n",
                "    \n",
                "    ###\n",
                "    ### YOUR CODE HERE\n",
                "    ###\n",
                "    \n",
                "    return model"
            ]
        },
        {
            "cell_type": "markdown",
            "metadata": {
                "id": "79174adc",
                "nbgrader": {
                    "grade": false,
                    "locked": true,
                    "solution": false
                },
                "editable": false,
                "deletable": false
            },
            "source": [
                "### 1.2 Display the model"
            ]
        },
        {
            "cell_type": "code",
            "execution_count": null,
            "metadata": {
                "collapsed": true,
                "id": "c8c6a055",
                "nbgrader": {
                    "grade": false,
                    "locked": true,
                    "solution": false
                },
                "outputId": "415bddc2-75e3-4c80-a627-89f6ae1c6b7a",
                "editable": false,
                "deletable": false
            },
            "outputs": [],
            "source": [
                "tf.random.set_seed(42)\n",
                "\n",
                "model_fmnist = get_model()\n",
                "\n",
                "print(model_fmnist.summary())"
            ]
        },
        {
            "cell_type": "markdown",
            "metadata": {
                "nbgrader": {
                    "grade": false,
                    "locked": true,
                    "solution": false
                },
                "editable": false,
                "deletable": false
            },
            "source": [
                "### 1.3 Create directory to save final model"
            ]
        },
        {
            "cell_type": "code",
            "execution_count": null,
            "metadata": {
                "collapsed": true,
                "nbgrader": {
                    "grade": false,
                    "locked": true,
                    "solution": false
                },
                "editable": false,
                "deletable": false
            },
            "outputs": [],
            "source": [
                "if not os.path.exists('models'):\n",
                "    os.makedirs('models')"
            ]
        },
        {
            "cell_type": "markdown",
            "metadata": {
                "id": "99c28046",
                "nbgrader": {
                    "grade": false,
                    "locked": true,
                    "solution": false
                },
                "editable": false,
                "deletable": false
            },
            "source": [
                "### 1.4 Main\n",
                "\n",
                "Let\u2019s use the configuration parameters defined above and start training."
            ]
        },
        {
            "cell_type": "code",
            "execution_count": null,
            "metadata": {
                "collapsed": true,
                "id": "7f7368b5",
                "nbgrader": {
                    "grade": false,
                    "locked": true,
                    "solution": false
                },
                "editable": false,
                "deletable": false
            },
            "outputs": [],
            "source": [
                "def compile_and_train_model(train_set, test_set, model, training_configuration):\n",
                "    \n",
                "    model.compile(optimizer=tf.keras.optimizers.Adam(learning_rate=training_configuration.learning_rate),\n",
                "                  loss=tf.keras.losses.SparseCategoricalCrossentropy(from_logits=False),\n",
                "                  metrics=['accuracy'],\n",
                "                 )\n",
                "   \n",
                "    checkpoint_callback = tf.keras.callbacks.ModelCheckpoint(\".\/models\/fashion_mnist_final.h5\", monitor= \"val_accuracy\",\n",
                "                                                   save_best_only=True, mode= \"max\")\n",
                "    \n",
                "    history = model.fit(train_set[0],train_set[1],\n",
                "                        batch_size = training_configuration.batch_size,\n",
                "                        epochs=training_configuration.epochs_count,\n",
                "                        validation_data=test_set,\n",
                "                        callbacks=[checkpoint_callback,]\n",
                "                       )\n",
                "    \n",
                "    return model, history"
            ]
        },
        {
            "cell_type": "code",
            "execution_count": null,
            "metadata": {
                "collapsed": true,
                "id": "e4eab8f5",
                "nbgrader": {
                    "grade": true,
                    "grade_id": "Accuracy 85",
                    "locked": true,
                    "points": "10",
                    "solution": false
                },
                "scrolled": true,
                "editable": false,
                "deletable": false
            },
            "outputs": [],
            "source": [
                "###\n",
                "### AUTOGRADER TEST - DO NOT REMOVE\n",
                "###\n"
            ]
        },
        {
            "cell_type": "code",
            "execution_count": null,
            "metadata": {
                "collapsed": true,
                "id": "5fc736c8",
                "nbgrader": {
                    "grade": true,
                    "grade_id": "Accuracy 89",
                    "locked": true,
                    "points": "10",
                    "solution": false
                },
                "editable": false,
                "deletable": false
            },
            "outputs": [],
            "source": [
                "###\n",
                "### AUTOGRADER TEST - DO NOT REMOVE\n",
                "###\n"
            ]
        },
        {
            "cell_type": "markdown",
            "metadata": {
                "id": "72376e53",
                "nbgrader": {
                    "grade": false,
                    "locked": true,
                    "solution": false
                },
                "editable": false,
                "deletable": false
            },
            "source": [
                "### 1.5 Start training"
            ]
        },
        {
            "cell_type": "code",
            "execution_count": null,
            "metadata": {
                "collapsed": true,
                "id": "c496925d",
                "nbgrader": {
                    "grade": false,
                    "locked": true,
                    "solution": false
                },
                "outputId": "87f564a3-429f-4e5a-878a-eaa2e2b27b7c",
                "scrolled": true,
                "editable": false,
                "deletable": false
            },
            "outputs": [],
            "source": [
                "training_configuration = TrainingConfiguration()\n",
                "\n",
                "train_set = (X_train, y_train)\n",
                "test_set = (X_test, y_test)\n",
                "\n",
                "if is_training:\n",
                "    model_final, training_results = compile_and_train_model(train_set, test_set, model_fmnist, training_configuration)"
            ]
        },
        {
            "cell_type": "markdown",
            "metadata": {
                "id": "5529e8c5",
                "nbgrader": {
                    "grade": false,
                    "locked": false,
                    "solution": false
                }
            },
            "source": [
                "### 1.6 Load best performing model"
            ]
        },
        {
            "cell_type": "code",
            "execution_count": null,
            "metadata": {
                "collapsed": true,
                "nbgrader": {
                    "grade": false,
                    "locked": true,
                    "solution": false
                },
                "editable": false,
                "deletable": false
            },
            "outputs": [],
            "source": [
                "model_final.load_weights(\".\/models\/fashion_mnist_final.h5\")"
            ]
        },
        {
            "cell_type": "markdown",
            "metadata": {
                "nbgrader": {
                    "grade": false,
                    "locked": true,
                    "solution": false
                },
                "editable": false,
                "deletable": false
            },
            "source": [
                "### 1.7 Plot Loss"
            ]
        },
        {
            "cell_type": "code",
            "execution_count": null,
            "metadata": {
                "collapsed": true,
                "id": "e8b1c9a1",
                "nbgrader": {
                    "grade": false,
                    "locked": true,
                    "solution": false
                },
                "outputId": "ea8ffbf3-27c4-433a-ebfc-a7625a08c090",
                "editable": false,
                "deletable": false
            },
            "outputs": [],
            "source": [
                "plt.figure(figsize=[15,5])\n",
                "plt.plot(training_results.history['loss'], 'g')\n",
                "plt.plot(training_results.history['val_loss'], 'b')\n",
                "\n",
                "plt.xlabel('Epochs')\n",
                "plt.ylabel('Loss')\n",
                "\n",
                "plt.legend(['Training', 'Validation'], loc='upper right');\n",
                "plt.grid(True)"
            ]
        },
        {
            "cell_type": "markdown",
            "metadata": {
                "id": "51ff1053",
                "nbgrader": {
                    "grade": false,
                    "locked": true,
                    "solution": false
                },
                "editable": false,
                "deletable": false
            },
            "source": [
                "### 1.7 Plot Accuracy"
            ]
        },
        {
            "cell_type": "code",
            "execution_count": null,
            "metadata": {
                "collapsed": true,
                "id": "0226cc68",
                "nbgrader": {
                    "grade": false,
                    "locked": true,
                    "solution": false
                },
                "outputId": "48a27e29-d31c-4b72-9acc-a737998a21e5",
                "editable": false,
                "deletable": false
            },
            "outputs": [],
            "source": [
                "plt.figure(figsize=[15,5])\n",
                "plt.plot(training_results.history['accuracy'], 'g')\n",
                "plt.plot(training_results.history['val_accuracy'], 'b')\n",
                "\n",
                "plt.ylim([0.5, 1])\n",
                "\n",
                "plt.xlabel('Epochs')\n",
                "plt.ylabel('Acc')\n",
                "\n",
                "plt.legend(['Training', 'Validation'], loc='lower right');\n",
                "plt.grid(True)"
            ]
        },
        {
            "cell_type": "markdown",
            "metadata": {
                "id": "d7e4170f",
                "nbgrader": {
                    "grade": false,
                    "locked": true,
                    "solution": false
                },
                "editable": false,
                "deletable": false
            },
            "source": [
                "## 2. Obtain Model Predictions [10 Points]\n",
                "\n",
                "Next,  use your trained model to obtain predictions for some sample data. You will recived **10 points** for a correct implementation of the  `cls_predictions` function.\n",
                "\n",
                "**Note: The `sample_data` argument in the `cls_predictions` function is not a input batch; but rather a single input sample.**\n",
                "\n",
                "You may find the [model.predict](https:\/\/keras.io\/api\/models\/model_training_apis\/) , [np.argmax](https:\/\/numpy.org\/doc\/stable\/reference\/generated\/numpy.argmax.html), [np.expand_dims](https:\/\/numpy.org\/doc\/stable\/reference\/generated\/numpy.expand_dims.html) and [np.squeeze](https:\/\/numpy.org\/doc\/stable\/reference\/generated\/numpy.squeeze.html) functions useful."
            ]
        },
        {
            "cell_type": "code",
            "execution_count": null,
            "metadata": {
                "collapsed": true,
                "id": "648645ba"
            },
            "outputs": [],
            "source": [
                "def cls_predictions(model, sample_data):\n",
                "    \n",
                "    '''\n",
                "    The predictions function should be able to return the correct class label predicted by the model given a \n",
                "    sample_data.\n",
                "    \n",
                "    Args:\n",
                "        model: The model which is being trained on the given dataset.\n",
                "        sample_data: (np.ndarray) sample data on which the model is required to predict on\n",
                "                      size: (28,28)\n",
                "        \n",
                "        Remember that the model accepts the input in a batch\n",
                "    \n",
                "    Returns:\n",
                "        cls_idx: int ---> returns the class index for the sample_data\n",
                "    '''\n",
                "    \n",
                "    cls_idx = None\n",
                "    \n",
                "    ###\n",
                "    ### YOUR CODE HERE\n",
                "    ###\n",
                "    \n",
                "    return cls_idx\n",
                "    "
            ]
        },
        {
            "cell_type": "code",
            "execution_count": null,
            "metadata": {
                "collapsed": true,
                "id": "1a6af16b",
                "nbgrader": {
                    "grade": true,
                    "grade_id": "Predictions",
                    "locked": true,
                    "points": "10",
                    "solution": false
                },
                "editable": false,
                "deletable": false
            },
            "outputs": [],
            "source": [
                "###\n",
                "### AUTOGRADER TEST - DO NOT REMOVE\n",
                "###\n"
            ]
        },
        {
            "cell_type": "markdown",
            "metadata": {
                "id": "bd09bcaf",
                "nbgrader": {
                    "grade": false,
                    "locked": true,
                    "solution": false
                },
                "editable": false,
                "deletable": false
            },
            "source": [
                "**Now let's visualize some sample data**"
            ]
        },
        {
            "cell_type": "code",
            "execution_count": null,
            "metadata": {
                "collapsed": true,
                "id": "6b4d5530",
                "nbgrader": {
                    "grade": false,
                    "locked": true,
                    "solution": false
                },
                "outputId": "b08e88cd-1d1e-4f34-9eed-df770fc62452",
                "editable": false,
                "deletable": false
            },
            "outputs": [],
            "source": [
                "class_names = ['T-shirt\/top', 'Trouser', 'Pullover', 'Dress', 'Coat', \n",
                "               'Sandal', 'Shirt', 'Sneaker', 'Bag', 'Ankle boot']\n",
                "\n",
                "num_rows = 5\n",
                "num_cols = 5\n",
                "\n",
                "num_samples = num_rows * num_cols\n",
                "sample_index = np.random.randint(0, 10000, num_samples)\n",
                "\n",
                "X_sample = X_test[sample_index]\n",
                "gt_sample = y_test[sample_index]\n",
                "\n",
                "plt.figure(figsize=(24, 18))\n",
                "for i, sample in enumerate(X_sample):\n",
                "    plt.subplot(num_rows, num_rows, i+1)\n",
                "    plt.axis('off')\n",
                "    plt.imshow(sample, cmap='gray')\n",
                "    gt_class = class_names[gt_sample[i]]\n",
                "    pred_class = class_names[cls_predictions(model_final, sample)]\n",
                "    \n",
                "    title = 'True: ' + str(gt_class) + '; Pred: ' + str(pred_class)\n",
                "    title_obj = plt.title(title, fontdict={'fontsize':16})\n",
                "        \n",
                "    if gt_class == pred_class:\n",
                "        plt.setp(title_obj, color='g')\n",
                "    else:\n",
                "        plt.setp(title_obj, color='r')\n",
                "        \n",
                "    plt.tight_layout()\n",
                "    plt.subplots_adjust(left=0.1, right=0.8, wspace=0.0, hspace=0.25)\n",
                "plt.show()"
            ]
        },
        {
            "cell_type": "markdown",
            "metadata": {
                "id": "fd8bb693",
                "nbgrader": {
                    "grade": false,
                    "locked": true,
                    "solution": false
                },
                "editable": false,
                "deletable": false
            },
            "source": [
                "## 3 Conclusion\n",
                "\n",
                "In this notebook, we have seen that it is a bit difficult to obtain more than 90% validation accuracy. However, in the next module we will learn about Convolutional Neural Networks (CNNs) and other training techniques which will significantly help improve the validation accuracy beyond 95%!"
            ]
        },
        {
            "cell_type": "code",
            "execution_count": null,
            "metadata": {
                "collapsed": true,
                "id": "032b5d57"
            },
            "outputs": [],
            "source": []
        }
    ],
    "metadata": {
        "colab": {
            "name": "c4_02_16_MLP_on_fashion_MNIST_Assignment.ipynb",
            "provenance": []
        },
        "kernelspec": {
            "display_name": "Python 3.8",
            "language": "python",
            "name": "python38"
        },
        "language_info": {
            "codemirror_mode": {
                "name": "ipython",
                "version": 3
            },
            "file_extension": ".py",
            "mimetype": "text\/x-python",
            "name": "python",
            "nbconvert_exporter": "python",
            "pygments_lexer": "ipython3",
            "version": "3.8.7"
        },
        "latex_envs": {
            "LaTeX_envs_menu_present": true,
            "autoclose": false,
            "autocomplete": true,
            "bibliofile": "biblio.bib",
            "cite_by": "apalike",
            "current_citInitial": 1,
            "eqLabelWithNumbers": true,
            "eqNumInitial": 1,
            "hotkeys": {
                "equation": "Ctrl-E",
                "itemize": "Ctrl-I"
            },
            "labels_anchors": false,
            "latex_user_defs": false,
            "report_style_numbering": false,
            "user_envs_cfg": false
        },
        "toc": {
            "base_numbering": 1,
            "nav_menu": [],
            "number_sections": false,
            "sideBar": true,
            "skip_h1_title": false,
            "title_cell": "Table of Contents",
            "title_sidebar": "Contents",
            "toc_cell": false,
            "toc_position": [],
            "toc_section_display": true,
            "toc_window_display": false
        },
        "varInspector": {
            "cols": {
                "lenName": 16,
                "lenType": 16,
                "lenVar": 40
            },
            "kernels_config": {
                "python": {
                    "delete_cmd_postfix": "",
                    "delete_cmd_prefix": "del ",
                    "library": "var_list.py",
                    "varRefreshCmd": "print(var_dic_list())"
                },
                "r": {
                    "delete_cmd_postfix": ") ",
                    "delete_cmd_prefix": "rm(",
                    "library": "var_list.r",
                    "varRefreshCmd": "cat(var_dic_list()) "
                }
            },
            "types_to_exclude": [
                "module",
                "function",
                "builtin_function_or_method",
                "instance",
                "_Feature"
            ],
            "window_display": false
        }
    },
    "nbformat": 4,
    "nbformat_minor": 5
}